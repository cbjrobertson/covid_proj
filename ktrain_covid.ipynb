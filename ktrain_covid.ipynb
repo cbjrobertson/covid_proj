{
 "cells": [
  {
   "cell_type": "code",
   "execution_count": 1,
   "id": "51016137-89d5-4089-a17e-7aa2830ae44a",
   "metadata": {},
   "outputs": [
    {
     "name": "stdout",
     "output_type": "stream",
     "text": [
      "env: LD_LIBRARY_PATH=/usr/local/cuda/lib64:/home/coler/anaconda3/envs/covid_proj/lib/:/home/coler/anaconda3/envs/covid_proj/lib/python3.8/site-packages/nvidia/cudnn/lib:/home/coler/anaconda3/envs/covid_proj/lib/python3.8/site-packages/tensorrt/\n",
      "env: CUDA_DEVICE_ORDER=PCI_BUS_ID\n",
      "env: CUDA_VISIBLE_DEVICES=0,2\n",
      "env: TF_ENABLE_ONEDNN_OPTS=0\n",
      "env: TOKENIZERS_PARALLELISM=true\n",
      "/usr/local/cuda/lib64:/home/coler/anaconda3/envs/covid_proj/lib/:/home/coler/anaconda3/envs/covid_proj/lib/python3.8/site-packages/nvidia/cudnn/lib:/home/coler/anaconda3/envs/covid_proj/lib/python3.8/site-packages/tensorrt/\n"
     ]
    }
   ],
   "source": [
    "#### RUN THE CELL TWICE FOR SOME REASON \n",
    "%reload_ext autoreload\n",
    "%autoreload 2\n",
    "%matplotlib inline\n",
    "import os \n",
    "import os\n",
    "CONDA_PREFIX = os.environ[\"CONDA_PREFIX\"]\n",
    "LD_LIBRARY_PATH = os.environ[\"LD_LIBRARY_PATH\"]\n",
    "\n",
    "%env LD_LIBRARY_PATH=$LD_LIBRARY_PATH:$CONDA_PREFIX/lib/python3.8/site-packages/tensorrt/\n",
    "%env CUDA_DEVICE_ORDER=PCI_BUS_ID\n",
    "%env CUDA_VISIBLE_DEVICES=0,2\n",
    "%env TF_ENABLE_ONEDNN_OPTS=0\n",
    "%env TOKENIZERS_PARALLELISM = true\n",
    "\n",
    "print(os.environ[\"LD_LIBRARY_PATH\"])\n"
   ]
  },
  {
   "cell_type": "code",
   "execution_count": 2,
   "id": "ba2d1796-8cbb-464b-a791-643c031f43d3",
   "metadata": {},
   "outputs": [
    {
     "name": "stdout",
     "output_type": "stream",
     "text": [
      "[PhysicalDevice(name='/physical_device:GPU:0', device_type='GPU'), PhysicalDevice(name='/physical_device:GPU:1', device_type='GPU')]\n"
     ]
    }
   ],
   "source": [
    "### VERIFY TF\n",
    "import tensorflow as tf\n",
    "print(tf.config.list_physical_devices('GPU'))"
   ]
  },
  {
   "cell_type": "code",
   "execution_count": 3,
   "id": "63f09271-fb5b-4b7b-a8de-357cc63e3b67",
   "metadata": {},
   "outputs": [
    {
     "name": "stdin",
     "output_type": "stream",
     "text": [
      " ········\n"
     ]
    }
   ],
   "source": [
    "import getpass\n",
    "pw = getpass.getpass() #ONLY necessary to clean /tmp folder; see notes below"
   ]
  },
  {
   "cell_type": "code",
   "execution_count": 1,
   "id": "19871a6c-6a91-4a57-9b9e-43be7c28ef6e",
   "metadata": {},
   "outputs": [
    {
     "data": {
      "text/plain": [
       "'2.8.0'"
      ]
     },
     "execution_count": 1,
     "metadata": {},
     "output_type": "execute_result"
    }
   ],
   "source": [
    "import pandas as pd\n",
    "import requests\n",
    "from io import StringIO\n",
    "import numpy as np\n",
    "import os\n",
    "import random\n",
    "from tqdm.notebook import tqdm as prog_bar\n",
    "from glob import glob\n",
    "\n",
    "# import ktrain\n",
    "# from ktrain import text\n",
    "import tensorflow as tf\n",
    "from sklearn.model_selection import KFold\n",
    "from sklearn.metrics import classification_report as cr\n",
    "\n",
    "import absl.logging\n",
    "absl.logging.set_verbosity(absl.logging.ERROR)\n",
    "import tensorflow as tf\n",
    "tf.__version__"
   ]
  },
  {
   "cell_type": "code",
   "execution_count": 3,
   "id": "563bb817-d283-41c7-803e-deae8c86ce94",
   "metadata": {},
   "outputs": [
    {
     "data": {
      "text/plain": [
       "(12576, 8)"
      ]
     },
     "execution_count": 3,
     "metadata": {},
     "output_type": "execute_result"
    }
   ],
   "source": [
    "df = pd.read_excel(\"../covid_proj_data/working_data/working_covid_data.xlsx\")\n",
    "df.label = df.label.apply(lambda lab: \"SICK_TALK\" if lab == \"accept\" else \"HEALTHY_TALK\")\n",
    "\n",
    "lang_dict = dict(\n",
    "    spanish = \"es\",\n",
    "    english = \"en\",\n",
    "    italian = \"it\",\n",
    "    polish = \"pl\",\n",
    "    german = \"de\",\n",
    "    french = \"fr\"\n",
    "    )\n",
    "df[\"lang\"] = df.language.apply(lambda lang: lang_dict[lang])\n",
    "\n",
    "df.shape"
   ]
  },
  {
   "cell_type": "code",
   "execution_count": 6,
   "id": "b5d5ae2b-23a3-4cc3-82a4-fba3616d5aba",
   "metadata": {},
   "outputs": [
    {
     "name": "stdout",
     "output_type": "stream",
     "text": [
      "/bin/bash: /home/coler/anaconda3/envs/covid_proj/lib/libtinfo.so.6: no version information available (required by /bin/bash)\n",
      "rm: missing operand\n",
      "Try 'rm --help' for more information.\n",
      "/bin/bash: /home/coler/anaconda3/envs/covid_proj/lib/libtinfo.so.6: no version information available (required by /bin/bash)\n",
      "mkdir: missing operand\n",
      "Try 'mkdir --help' for more information.\n",
      "/bin/bash: /home/coler/anaconda3/envs/covid_proj/lib/libtinfo.so.6: no version information available (required by /bin/bash)\n",
      "mkdir: cannot create directory ‘/’: File exists\n",
      "/bin/bash: /home/coler/anaconda3/envs/covid_proj/lib/libtinfo.so.6: no version information available (required by /bin/bash)\n",
      "mkdir: cannot create directory ‘/’: File exists\n",
      "/bin/bash: /home/coler/anaconda3/envs/covid_proj/lib/libtinfo.so.6: no version information available (required by /bin/bash)\n",
      "mkdir: cannot create directory ‘/’: File exists\n"
     ]
    }
   ],
   "source": [
    "!rm -r $EXP_NAME\n",
    "!mkdir $EXP_NAME\n",
    "\n",
    "!mkdir $EXP_NAME/$MODELS\n",
    "!mkdir $EXP_NAME/$CHK\n",
    "!mkdir $EXP_NAME/$RES"
   ]
  },
  {
   "cell_type": "code",
   "execution_count": 20,
   "id": "76ba629e-819c-40b6-8f03-70e17ed040ea",
   "metadata": {},
   "outputs": [
    {
     "name": "stdout",
     "output_type": "stream",
     "text": [
      "xlm-roberta-large\n"
     ]
    }
   ],
   "source": [
    "from train import (\n",
    "    reset_random_seeds,\n",
    "    multimax,\n",
    "    load_best_epoch,\n",
    "    KTrans\n",
    "    )\n",
    "from constants import *\n",
    "print(MODEL_NAMES[0])"
   ]
  },
  {
   "cell_type": "code",
   "execution_count": 11,
   "id": "04bf0954-6597-47fd-87cf-207bc1bae5d0",
   "metadata": {},
   "outputs": [
    {
     "name": "stdout",
     "output_type": "stream",
     "text": [
      "spanish\n",
      "----\n",
      "HEALTHY_TALK    331\n",
      "SICK_TALK       331\n",
      "Name: label, dtype: int64\n",
      " ----\n",
      "\n",
      "\n",
      "italian\n",
      "----\n",
      "SICK_TALK       249\n",
      "HEALTHY_TALK    249\n",
      "Name: label, dtype: int64\n",
      " ----\n",
      "\n",
      "\n",
      "german\n",
      "----\n",
      "SICK_TALK       459\n",
      "HEALTHY_TALK    459\n",
      "Name: label, dtype: int64\n",
      " ----\n",
      "\n",
      "\n",
      "english\n",
      "----\n",
      "HEALTHY_TALK    248\n",
      "SICK_TALK       248\n",
      "Name: label, dtype: int64\n",
      " ----\n",
      "\n",
      "\n",
      "french\n",
      "----\n",
      "SICK_TALK       647\n",
      "HEALTHY_TALK    647\n",
      "Name: label, dtype: int64\n",
      " ----\n",
      "\n",
      "\n",
      "polish\n",
      "----\n",
      "SICK_TALK       130\n",
      "HEALTHY_TALK    130\n",
      "Name: label, dtype: int64\n",
      " ----\n",
      "\n",
      "\n"
     ]
    }
   ],
   "source": [
    "def down_sample(data,\n",
    "                ratio=1,\n",
    "                minor=\"SICK_TALK\",\n",
    "                major=\"HEALTHY_TALK\"):\n",
    "    counts = data.loc[:,LABEL_COL].value_counts()\n",
    "    f = ratio*(counts[minor]/counts[major])\n",
    "    return pd.concat([data.loc[(data.label == major),:].sample(frac=f),data.loc[(data.label == minor),:]]).sample(frac=1).reset_index(drop=True)\n",
    "#create subset\n",
    "dx = pd.concat([down_sample(df.loc[df.language == lang]) for lang in set(df.language)])\n",
    "\n",
    "#double check\n",
    "for lang in set(dx.language):\n",
    "    print(f\"{lang}\\n----\\n{dx.loc[dx.language == lang,:].label.value_counts()}\\n ----\\n\\n\")"
   ]
  },
  {
   "cell_type": "code",
   "execution_count": 12,
   "id": "34c5c207-abd9-4479-85a4-0b2b8f8c948a",
   "metadata": {},
   "outputs": [],
   "source": [
    "lr_dict = {\n",
    "    # 'xlm-mlm-100-1280': 5.85E-06,\n",
    "    # 'xlm-mlm-17-1280': 7.10E-06,\n",
    "    # 'bert-base-multilingual-uncased': 3.27E-06,\n",
    "    # 'bert-base-multilingual-cased': 3.27E-06,\n",
    "    # 'xlm-roberta-base': 6.49E-06,\n",
    "    'xlm-roberta-large': 1.72E-06\n",
    "    }"
   ]
  },
  {
   "cell_type": "code",
   "execution_count": 13,
   "id": "3b0bd66a-f2eb-49e1-875f-b59bd296ba21",
   "metadata": {},
   "outputs": [],
   "source": [
    "def get_save_path():\n",
    "    return f\"{EXP_NAME}/{MODELS}/{MODEL_NAMES[0]}\"\n",
    "\n",
    "def evaluate(boot_train,boot_val,model_name,class_weight=None,lr_dict=None,save=False,del_mod=True,save_best=True):\n",
    "    #define model and fit\n",
    "    mod = KTrans(model_name,lr_dict,class_weight=class_weight)\n",
    "    mod.run_fit(boot_train,boot_val,save_best=save_best)\n",
    "    if save:\n",
    "        save_path = get_save_path()\n",
    "        mod.save_predictor(save_path)\n",
    "    return mod \n"
   ]
  },
  {
   "cell_type": "code",
   "execution_count": 14,
   "id": "cb698e1b-ab9c-413b-97ca-aa5d04988feb",
   "metadata": {},
   "outputs": [
    {
     "name": "stdout",
     "output_type": "stream",
     "text": [
      "preprocessing train...\n",
      "language: es\n",
      "train sequence lengths:\n",
      "\tmean : 19\n",
      "\t95percentile : 46\n",
      "\t99percentile : 54\n"
     ]
    },
    {
     "data": {
      "text/html": [
       "\n",
       "<style>\n",
       "    /* Turns off some styling */\n",
       "    progress {\n",
       "        /* gets rid of default border in Firefox and Opera. */\n",
       "        border: none;\n",
       "        /* Needs to be in here for Safari polyfill so background images work as expected. */\n",
       "        background-size: auto;\n",
       "    }\n",
       "    progress:not([value]), progress:not([value])::-webkit-progress-bar {\n",
       "        background: repeating-linear-gradient(45deg, #7e7e7e, #7e7e7e 10px, #5c5c5c 10px, #5c5c5c 20px);\n",
       "    }\n",
       "    .progress-bar-interrupted, .progress-bar-interrupted::-webkit-progress-bar {\n",
       "        background: #F44336;\n",
       "    }\n",
       "</style>\n"
      ],
      "text/plain": [
       "<IPython.core.display.HTML object>"
      ]
     },
     "metadata": {},
     "output_type": "display_data"
    },
    {
     "data": {
      "text/html": [],
      "text/plain": [
       "<IPython.core.display.HTML object>"
      ]
     },
     "metadata": {},
     "output_type": "display_data"
    },
    {
     "name": "stdout",
     "output_type": "stream",
     "text": [
      "Is Multi-Label? False\n",
      "\n",
      "\n",
      "begin training using onecycle policy with max lr of 1.72e-06...\n",
      "Epoch 1/12\n",
      "344/344 [==============================] - 81s 155ms/step - loss: 0.7095 - accuracy: 0.5046\n",
      "Epoch 2/12\n",
      "344/344 [==============================] - 52s 151ms/step - loss: 0.6912 - accuracy: 0.5288\n",
      "Epoch 3/12\n",
      "344/344 [==============================] - 53s 153ms/step - loss: 0.5752 - accuracy: 0.7384\n",
      "Epoch 4/12\n",
      "344/344 [==============================] - 53s 152ms/step - loss: 0.4219 - accuracy: 0.8295\n",
      "Epoch 5/12\n",
      "344/344 [==============================] - 53s 152ms/step - loss: 0.3129 - accuracy: 0.8748\n",
      "Epoch 6/12\n",
      "344/344 [==============================] - 53s 152ms/step - loss: 0.2710 - accuracy: 0.8941\n",
      "Epoch 7/12\n",
      "344/344 [==============================] - 53s 152ms/step - loss: 0.2247 - accuracy: 0.9155\n",
      "Epoch 8/12\n",
      "344/344 [==============================] - 52s 151ms/step - loss: 0.2030 - accuracy: 0.9208\n",
      "Epoch 9/12\n",
      "344/344 [==============================] - 52s 151ms/step - loss: 0.1743 - accuracy: 0.9334\n",
      "Epoch 10/12\n",
      "344/344 [==============================] - 52s 151ms/step - loss: 0.1564 - accuracy: 0.9423\n",
      "Epoch 11/12\n",
      "344/344 [==============================] - 52s 151ms/step - loss: 0.1403 - accuracy: 0.9486\n",
      "Epoch 12/12\n",
      "344/344 [==============================] - 52s 151ms/step - loss: 0.1383 - accuracy: 0.9496\n"
     ]
    }
   ],
   "source": [
    "mod = evaluate(dx,None,MODEL_NAMES[0],lr_dict=lr_dict,del_mod=False,save=True,save_best=False)"
   ]
  },
  {
   "cell_type": "code",
   "execution_count": null,
   "id": "b3b8c94d-73b5-45ed-893e-c48c899c3cf6",
   "metadata": {},
   "outputs": [],
   "source": [
    "import ktrain\n",
    "# mod.predictor\n",
    "predictor = ktrain.load_predictor(\"./save_model/models/xlm-roberta-large\")\n",
    "# predictor.export_model_to_onnx(\"./tmp/onnx_model.onnx\")\n",
    "# predictor.save(\"./tmp/tf_model\")\n",
    "# preds[1].predict_proba(['My computer monitor is blurry.',\"this is a test\"])\n",
    "# ?ktrain.text.predictor.TextPredictor.export_model_to_onnx\n",
    "# preds[1].predict(\"This is a test\")"
   ]
  },
  {
   "cell_type": "code",
   "execution_count": 23,
   "id": "64b4fa5b-8cfe-48c8-9bbd-3d856f9fd475",
   "metadata": {},
   "outputs": [
    {
     "name": "stdout",
     "output_type": "stream",
     "text": [
      "/bin/bash: /home/coler/anaconda3/envs/covid_proj/lib/libtinfo.so.6: no version information available (required by /bin/bash)\n",
      "nvcc: NVIDIA (R) Cuda compiler driver\n",
      "Copyright (c) 2005-2022 NVIDIA Corporation\n",
      "Built on Wed_Jun__8_16:49:14_PDT_2022\n",
      "Cuda compilation tools, release 11.7, V11.7.99\n",
      "Build cuda_11.7.r11.7/compiler.31442593_0\n"
     ]
    }
   ],
   "source": [
    "!nvcc --version"
   ]
  },
  {
   "cell_type": "code",
   "execution_count": 2,
   "id": "5210e59c-29a0-4b2e-bd11-0c4415c95d69",
   "metadata": {},
   "outputs": [
    {
     "name": "stdout",
     "output_type": "stream",
     "text": [
      "./save_model/models/xlm-roberta-large\n"
     ]
    }
   ],
   "source": [
    "# predictor = ktrain.load_predictor('tmp')\n",
    "from constants import *\n",
    "import ktrain\n",
    "model_path = f'{EXP_NAME}/{MODELS}/{MODEL_NAMES[0]}'\n",
    "print(model_path)\n",
    "# from transformers import AutoModel\n",
    "# model = AutoModel.from_pretrained(model_path, from_tf=True)\n",
    "# model.save_pretrained(f\"{model_path}-pt\")\n",
    "\n",
    "predictor = ktrain.load_predictor(model_path)"
   ]
  },
  {
   "cell_type": "code",
   "execution_count": 13,
   "id": "041bead8-7b87-4131-91ab-c50ef2452e3e",
   "metadata": {},
   "outputs": [
    {
     "data": {
      "text/plain": [
       "array([[0.9755883 , 0.02441169],\n",
       "       [0.09592008, 0.90408   ],\n",
       "       [0.51833284, 0.48166716]], dtype=float32)"
      ]
     },
     "execution_count": 13,
     "metadata": {},
     "output_type": "execute_result"
    }
   ],
   "source": [
    "test = [\"Have you seen the latest Game of Thrones?\",\"I feel terrible\",\"I feel pretty good, today\"]\n",
    "predictor.predict_proba(test)"
   ]
  },
  {
   "cell_type": "code",
   "execution_count": 12,
   "id": "0ade5852-a645-49a0-a231-bb0b4f2cca28",
   "metadata": {},
   "outputs": [
    {
     "data": {
      "text/plain": [
       "['HEALTHY_TALK', 'SICK_TALK', 'HEALTHY_TALK']"
      ]
     },
     "execution_count": 12,
     "metadata": {},
     "output_type": "execute_result"
    }
   ],
   "source": [
    "predictor.predict(test)"
   ]
  },
  {
   "cell_type": "code",
   "execution_count": null,
   "id": "96daafbb-2f52-4fe1-bb5a-dbaf7bc4e703",
   "metadata": {},
   "outputs": [],
   "source": []
  },
  {
   "cell_type": "code",
   "execution_count": 91,
   "id": "e6f41fa1-fdf1-4ca7-ad36-956d827fdae8",
   "metadata": {},
   "outputs": [],
   "source": [
    "# from sklearn.metrics import classification_report as cr\n",
    "\n",
    "# f1 = pd.DataFrame()\n",
    "\n",
    "# for mod,dx in result.groupby([\"language\"]):\n",
    "#     dic = {lab:[cr(dx[\"label\"],dx[\"pred\"],output_dict=True)[lab][\"f1-score\"]] for lab in CATS}\n",
    "#     dat = pd.DataFrame(dic)\n",
    "#     dat.index = [mod]#pd.MultiIndex.from_tuples([mod], names=('language'))\n",
    "#     f1 = f1.append(dat)\n",
    "\n",
    "# f1.reset_index(drop=False,inplace=True)\n",
    "# f1[\"model_name\"] = MODEL_NAMES[0]\n",
    "# f1.rename(columns={\"index\":\"language\"},inplace=True)\n",
    "# f1\n"
   ]
  },
  {
   "cell_type": "code",
   "execution_count": 92,
   "id": "124f65bc-cae7-45ea-8331-4addd8c51d99",
   "metadata": {},
   "outputs": [],
   "source": [
    "# import plotly_express as px\n",
    "\n",
    "# px.bar(f1,\n",
    "#        x=\"model_name\",\n",
    "#        y=\"SICK_TALK\",\n",
    "#        color=\"language\",\n",
    "#        barmode=\"group\")\n"
   ]
  },
  {
   "cell_type": "code",
   "execution_count": 93,
   "id": "c7c2da15-89bc-4c21-8930-fdd6245eee1f",
   "metadata": {},
   "outputs": [],
   "source": [
    "# # f1.pivot(columns=[\"F1\"],values=CATS)\n",
    "# long_f1 = f1.melt(id_vars=[\"model_name\",\"language\"],value_vars=CATS,value_name=\"F1\",var_name=\"category\")\n",
    "# px.bar(long_f1,\n",
    "#        x=\"model_name\",\n",
    "#        y=\"F1\",\n",
    "#        facet_row=\"category\",\n",
    "#        color=\"language\",\n",
    "#        barmode=\"group\")\n"
   ]
  },
  {
   "cell_type": "code",
   "execution_count": 94,
   "id": "2e90404d-a9e8-42a6-9c39-484ab11f25d4",
   "metadata": {},
   "outputs": [],
   "source": [
    "# agg_f1 = long_f1.groupby([\"model_name\",\"category\"]).\\\n",
    "#     agg(mean_F1=(\"F1\",\"mean\")).\\\n",
    "#     reset_index(drop=False,inplace=False).\\\n",
    "#     sort_values(by=\"mean_F1\",ascending=False)\n",
    "\n",
    "# px.bar(agg_f1,\n",
    "#        x=\"model_name\",\n",
    "#        y=\"mean_F1\",\n",
    "#        facet_row=\"category\",\n",
    "#        # color=\"language\",\n",
    "#        barmode=\"group\")\n",
    "# # agg_f1"
   ]
  },
  {
   "cell_type": "code",
   "execution_count": 95,
   "id": "1543bf7e-0d49-4ee8-be3c-28d9487b0803",
   "metadata": {},
   "outputs": [],
   "source": [
    "# MOD = \"xlm-roberta-large\"\n",
    "# result[\"model_name\"] = MOD\n",
    "# best_res = result.loc[result.model_name == MOD,:]\n",
    "# for lang,dx in best_res.groupby(\"language\"):\n",
    "#     print(f\"{lang} : \\n\\n {cr(dx.label,dx.pred)}\")"
   ]
  },
  {
   "cell_type": "code",
   "execution_count": 96,
   "id": "35ff5dfa-7c02-4719-8f3d-57981d272886",
   "metadata": {},
   "outputs": [],
   "source": [
    "# MOD = \"xlm-roberta-large\"\n",
    "# best_res = result.loc[result.model_name == MOD,:]\n",
    "# print(cr(best_res.label,best_res.pred))"
   ]
  },
  {
   "cell_type": "code",
   "execution_count": 97,
   "id": "4028e5f7-54b3-4a53-9def-f30c901990c9",
   "metadata": {},
   "outputs": [
    {
     "name": "stdout",
     "output_type": "stream",
     "text": [
      "/bin/bash: /home/coler/anaconda3/envs/covid_proj/lib/libtinfo.so.6: no version information available (required by /bin/bash)\n"
     ]
    }
   ],
   "source": [
    "def save_this_file():\n",
    "    cwd = os.path.abspath(\"\")\n",
    "    fp = glob(f\"{cwd}/*.ipynb\")[0]\n",
    "    fn = fp.split(\"/\")[-1]\n",
    "    ename = EXP_NAME.replace(\"./\",\"\")\n",
    "    save_to = f\"{cwd}/{ename}/{ename}_{fn}\"\n",
    "    try:\n",
    "        !cp $fp $save_to\n",
    "    except ValueError as e:\n",
    "        print(f\"Weird error happened: {e}\")\n",
    "\n",
    "save_this_file()"
   ]
  },
  {
   "cell_type": "code",
   "execution_count": null,
   "id": "a8396431-4d0e-47bc-9b2c-571801ad9305",
   "metadata": {},
   "outputs": [],
   "source": []
  }
 ],
 "metadata": {
  "kernelspec": {
   "display_name": "Python [conda env:ktrain_loo]",
   "language": "python",
   "name": "conda-env-ktrain_loo-py"
  },
  "language_info": {
   "codemirror_mode": {
    "name": "ipython",
    "version": 3
   },
   "file_extension": ".py",
   "mimetype": "text/x-python",
   "name": "python",
   "nbconvert_exporter": "python",
   "pygments_lexer": "ipython3",
   "version": "3.7.15"
  }
 },
 "nbformat": 4,
 "nbformat_minor": 5
}

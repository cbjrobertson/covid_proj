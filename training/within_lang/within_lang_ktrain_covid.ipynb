{
 "cells": [
  {
   "cell_type": "code",
   "execution_count": 3,
   "id": "51016137-89d5-4089-a17e-7aa2830ae44a",
   "metadata": {},
   "outputs": [
    {
     "name": "stdout",
     "output_type": "stream",
     "text": [
      "env: LD_LIBRARY_PATH=/usr/local/cuda/lib64:/home/coler/anaconda3/envs/covid_proj/lib/:/home/coler/anaconda3/envs/covid_proj/lib/python3.8/site-packages/nvidia/cudnn/lib:/home/coler/anaconda3/envs/covid_proj/lib/python3.8/site-packages/tensorrt/:/home/coler/anaconda3/envs/covid_proj/lib/python3.8/site-packages/tensorrt/\n",
      "env: CUDA_DEVICE_ORDER=PCI_BUS_ID\n",
      "env: CUDA_VISIBLE_DEVICES=0,2\n",
      "env: TF_ENABLE_ONEDNN_OPTS=0\n",
      "env: TOKENIZERS_PARALLELISM=true\n",
      "/usr/local/cuda/lib64:/home/coler/anaconda3/envs/covid_proj/lib/:/home/coler/anaconda3/envs/covid_proj/lib/python3.8/site-packages/nvidia/cudnn/lib:/home/coler/anaconda3/envs/covid_proj/lib/python3.8/site-packages/tensorrt/:/home/coler/anaconda3/envs/covid_proj/lib/python3.8/site-packages/tensorrt/\n"
     ]
    }
   ],
   "source": [
    "#### RUN THE CELL TWICE FOR SOME REASON \n",
    "%reload_ext autoreload\n",
    "%autoreload 2\n",
    "%matplotlib inline\n",
    "import os \n",
    "import os\n",
    "CONDA_PREFIX = os.environ[\"CONDA_PREFIX\"]\n",
    "LD_LIBRARY_PATH = os.environ[\"LD_LIBRARY_PATH\"]\n",
    "\n",
    "%env LD_LIBRARY_PATH=$LD_LIBRARY_PATH:$CONDA_PREFIX/lib/python3.8/site-packages/tensorrt/\n",
    "%env CUDA_DEVICE_ORDER=PCI_BUS_ID\n",
    "%env CUDA_VISIBLE_DEVICES=0,2\n",
    "%env TF_ENABLE_ONEDNN_OPTS=0\n",
    "%env TOKENIZERS_PARALLELISM = true\n",
    "\n",
    "print(os.environ[\"LD_LIBRARY_PATH\"])"
   ]
  },
  {
   "cell_type": "code",
   "execution_count": 4,
   "id": "ba2d1796-8cbb-464b-a791-643c031f43d3",
   "metadata": {},
   "outputs": [
    {
     "name": "stdout",
     "output_type": "stream",
     "text": [
      "[PhysicalDevice(name='/physical_device:GPU:0', device_type='GPU'), PhysicalDevice(name='/physical_device:GPU:1', device_type='GPU')]\n"
     ]
    }
   ],
   "source": [
    "### VERIFY TF\n",
    "import tensorflow as tf\n",
    "print(tf.config.list_physical_devices('GPU'))\n"
   ]
  },
  {
   "cell_type": "code",
   "execution_count": 5,
   "id": "63f09271-fb5b-4b7b-a8de-357cc63e3b67",
   "metadata": {},
   "outputs": [
    {
     "name": "stdin",
     "output_type": "stream",
     "text": [
      " ········\n"
     ]
    }
   ],
   "source": [
    "import getpass\n",
    "pw = getpass.getpass() #ONLY necessary to clean /tmp folder; see notes below"
   ]
  },
  {
   "cell_type": "code",
   "execution_count": 6,
   "id": "19871a6c-6a91-4a57-9b9e-43be7c28ef6e",
   "metadata": {},
   "outputs": [
    {
     "data": {
      "text/plain": [
       "'2.10.0'"
      ]
     },
     "execution_count": 6,
     "metadata": {},
     "output_type": "execute_result"
    }
   ],
   "source": [
    "import pandas as pd\n",
    "import requests\n",
    "from io import StringIO\n",
    "import numpy as np\n",
    "import os\n",
    "import random\n",
    "from tqdm.notebook import tqdm as prog_bar\n",
    "from glob import glob\n",
    "\n",
    "# import ktrain\n",
    "# from ktrain import text\n",
    "import tensorflow as tf\n",
    "from sklearn.model_selection import KFold\n",
    "from sklearn.metrics import classification_report as cr\n",
    "\n",
    "import absl.logging\n",
    "absl.logging.set_verbosity(absl.logging.ERROR)\n",
    "import tensorflow as tf\n",
    "tf.__version__"
   ]
  },
  {
   "cell_type": "code",
   "execution_count": 7,
   "id": "563bb817-d283-41c7-803e-deae8c86ce94",
   "metadata": {},
   "outputs": [
    {
     "data": {
      "text/html": [
       "<div>\n",
       "<style scoped>\n",
       "    .dataframe tbody tr th:only-of-type {\n",
       "        vertical-align: middle;\n",
       "    }\n",
       "\n",
       "    .dataframe tbody tr th {\n",
       "        vertical-align: top;\n",
       "    }\n",
       "\n",
       "    .dataframe thead th {\n",
       "        text-align: right;\n",
       "    }\n",
       "</style>\n",
       "<table border=\"1\" class=\"dataframe\">\n",
       "  <thead>\n",
       "    <tr style=\"text-align: right;\">\n",
       "      <th></th>\n",
       "      <th>tweet_id</th>\n",
       "      <th>text</th>\n",
       "      <th>label_1</th>\n",
       "      <th>language</th>\n",
       "      <th>label_2</th>\n",
       "      <th>agreed_label</th>\n",
       "      <th>label</th>\n",
       "      <th>lang</th>\n",
       "    </tr>\n",
       "  </thead>\n",
       "  <tbody>\n",
       "    <tr>\n",
       "      <th>0</th>\n",
       "      <td>1209309766616571904</td>\n",
       "      <td>@mentalnamadre nie chce byc natretna I wiem że...</td>\n",
       "      <td>reject</td>\n",
       "      <td>polish</td>\n",
       "      <td>reject</td>\n",
       "      <td>NaN</td>\n",
       "      <td>HEALTHY_TALK</td>\n",
       "      <td>pl</td>\n",
       "    </tr>\n",
       "    <tr>\n",
       "      <th>1</th>\n",
       "      <td>1209343971215991040</td>\n",
       "      <td>@KrzysztofWaj11 Ulala! To ze mną jeszcze nie j...</td>\n",
       "      <td>reject</td>\n",
       "      <td>polish</td>\n",
       "      <td>reject</td>\n",
       "      <td>NaN</td>\n",
       "      <td>HEALTHY_TALK</td>\n",
       "      <td>pl</td>\n",
       "    </tr>\n",
       "    <tr>\n",
       "      <th>2</th>\n",
       "      <td>1209352618130231040</td>\n",
       "      <td>@CzesioDrugabe Trochę to chore, piszac delikat...</td>\n",
       "      <td>reject</td>\n",
       "      <td>polish</td>\n",
       "      <td>reject</td>\n",
       "      <td>NaN</td>\n",
       "      <td>HEALTHY_TALK</td>\n",
       "      <td>pl</td>\n",
       "    </tr>\n",
       "    <tr>\n",
       "      <th>3</th>\n",
       "      <td>1209403505242456064</td>\n",
       "      <td>@miloszlodowski Sędziowie od kiełbasy czy wier...</td>\n",
       "      <td>reject</td>\n",
       "      <td>polish</td>\n",
       "      <td>reject</td>\n",
       "      <td>NaN</td>\n",
       "      <td>HEALTHY_TALK</td>\n",
       "      <td>pl</td>\n",
       "    </tr>\n",
       "    <tr>\n",
       "      <th>4</th>\n",
       "      <td>1209415186408443904</td>\n",
       "      <td>@robertzielinski To demokratyczna przypadłość....</td>\n",
       "      <td>reject</td>\n",
       "      <td>polish</td>\n",
       "      <td>reject</td>\n",
       "      <td>NaN</td>\n",
       "      <td>HEALTHY_TALK</td>\n",
       "      <td>pl</td>\n",
       "    </tr>\n",
       "  </tbody>\n",
       "</table>\n",
       "</div>"
      ],
      "text/plain": [
       "              tweet_id                                               text  \\\n",
       "0  1209309766616571904  @mentalnamadre nie chce byc natretna I wiem że...   \n",
       "1  1209343971215991040  @KrzysztofWaj11 Ulala! To ze mną jeszcze nie j...   \n",
       "2  1209352618130231040  @CzesioDrugabe Trochę to chore, piszac delikat...   \n",
       "3  1209403505242456064  @miloszlodowski Sędziowie od kiełbasy czy wier...   \n",
       "4  1209415186408443904  @robertzielinski To demokratyczna przypadłość....   \n",
       "\n",
       "  label_1 language label_2 agreed_label         label lang  \n",
       "0  reject   polish  reject          NaN  HEALTHY_TALK   pl  \n",
       "1  reject   polish  reject          NaN  HEALTHY_TALK   pl  \n",
       "2  reject   polish  reject          NaN  HEALTHY_TALK   pl  \n",
       "3  reject   polish  reject          NaN  HEALTHY_TALK   pl  \n",
       "4  reject   polish  reject          NaN  HEALTHY_TALK   pl  "
      ]
     },
     "execution_count": 7,
     "metadata": {},
     "output_type": "execute_result"
    }
   ],
   "source": [
    "df = pd.read_excel(\"../covid_proj_data/working_data/working_covid_data.xlsx\")\n",
    "df.label = df.label.apply(lambda lab: \"SICK_TALK\" if lab == \"accept\" else \"HEALTHY_TALK\")\n",
    "\n",
    "lang_dict = dict(\n",
    "    spanish = \"es\",\n",
    "    english = \"en\",\n",
    "    italian = \"it\",\n",
    "    polish = \"pl\",\n",
    "    german = \"de\",\n",
    "    french = \"fr\"\n",
    "    )\n",
    "df[\"lang\"] = df.language.apply(lambda lang: lang_dict[lang])\n",
    "\n",
    "df.head()"
   ]
  },
  {
   "cell_type": "code",
   "execution_count": 17,
   "id": "45ddb837-0667-4fae-af04-64ab1493968f",
   "metadata": {},
   "outputs": [],
   "source": [
    "# CV with transformers\n",
    "CATS = [\"HEALTHY_TALK\",\"SICK_TALK\"]\n",
    "# MODEL_NAME = 'xlm-mlm-100-1280'\n",
    "# MULTILINGUAL MODELS ON HUGGINGFACE, see: https://huggingface.co/docs/transformers/multilingual\n",
    "# MODEL NAMES \n",
    "MODEL_NAMES = [\"xlm-mlm-100-1280\",\n",
    "               \"xlm-mlm-17-1280\",\n",
    "               \"bert-base-multilingual-uncased\",\n",
    "               \"bert-base-multilingual-cased\",\n",
    "               \"xlm-roberta-base\",\n",
    "               \"xlm-roberta-large\"]\n",
    "\n",
    "EPOCHS = 8\n",
    "BATCH = 12\n",
    "TEXT_COL = \"text\"\n",
    "LABEL_COL = \"label\"\n",
    "CHK = \"chkpnts\"\n",
    "MODELS=\"models\"\n",
    "RES = \"results\"\n",
    "MET = \"both\"\n",
    "EXP_NAME = \"./within_lang\"\n",
    "CMD = \"sudo -S find /tmp/ -user coler -exec rm -fr {} \\;\" #THIS LINE defines a command which deletes keras files from /tmp; remove it or alter is to run locally"
   ]
  },
  {
   "cell_type": "code",
   "execution_count": 10,
   "id": "0ea7837e-32ac-4188-abc6-60b155030975",
   "metadata": {},
   "outputs": [],
   "source": [
    "# ### CLASS WEIGHTS\n",
    "\n",
    "# To be more precise, the formula to calculate this is:\n",
    "\n",
    "# wj=n_samples / (n_classes * n_samplesj)\n",
    "\n",
    "# Here,\n",
    "\n",
    "# wj is the weight for each class(j signifies the class)\n",
    "# n_samplesis the total number of samples or rows in the dataset\n",
    "# n_classesis the total number of unique classes in the target\n",
    "# n_samplesjis the total number of rows of the respective class\n",
    "# For our heart stroke example:\n",
    "\n",
    "# n_samples=  43400,  n_classes= 2(0&1), n_sample0= 42617, n_samples1= 783\n",
    "\n",
    "# Weights for class 0:\n",
    "\n",
    "# w0=  43400/(2*42617) = 0.509\n",
    "\n",
    "# Weights for class 1:\n",
    "\n",
    "# w1= 43400/(2*783) = 27.713\n",
    "# def make_class_weights(df,ylab=\"label\"):\n",
    "#     class_weights = dict(df[ylab].value_counts().apply(lambda n_samples_lab: df.shape[0] / (len(CATS)*n_samples_lab)))\n",
    "#     print(class_weights)\n",
    "#     cw = {idx:class_weights[lab] for idx,lab in enumerate(CATS)}\n",
    "#     print(cw)\n",
    "#     return cw\n",
    "# cw = make_class_weights(df)"
   ]
  },
  {
   "cell_type": "code",
   "execution_count": 9,
   "id": "b5d5ae2b-23a3-4cc3-82a4-fba3616d5aba",
   "metadata": {},
   "outputs": [
    {
     "name": "stdout",
     "output_type": "stream",
     "text": [
      "/bin/bash: /home/coler/anaconda3/envs/covid_proj/lib/libtinfo.so.6: no version information available (required by /bin/bash)\n",
      "/bin/bash: /home/coler/anaconda3/envs/covid_proj/lib/libtinfo.so.6: no version information available (required by /bin/bash)\n",
      "/bin/bash: /home/coler/anaconda3/envs/covid_proj/lib/libtinfo.so.6: no version information available (required by /bin/bash)\n",
      "/bin/bash: /home/coler/anaconda3/envs/covid_proj/lib/libtinfo.so.6: no version information available (required by /bin/bash)\n",
      "/bin/bash: /home/coler/anaconda3/envs/covid_proj/lib/libtinfo.so.6: no version information available (required by /bin/bash)\n"
     ]
    }
   ],
   "source": [
    "!rm -r $EXP_NAME\n",
    "!mkdir $EXP_NAME\n",
    "\n",
    "!mkdir $EXP_NAME/$MODELS\n",
    "!mkdir $EXP_NAME/$CHK\n",
    "!mkdir $EXP_NAME/$RES"
   ]
  },
  {
   "cell_type": "code",
   "execution_count": 11,
   "id": "06931b6b-fb64-4f9d-bbe3-35bdaf2014cd",
   "metadata": {},
   "outputs": [],
   "source": [
    "# !git clone git@github.com:amaiya/ktrain.git\n",
    "# !git clone git@github.com:huggingface/transformers.git\n",
    "# import _transformers.src.transformers as transformers\n",
    "# import _ktrain.ktrain as ktrain\n",
    "# from _ktrain.ktrain import text"
   ]
  },
  {
   "cell_type": "code",
   "execution_count": 12,
   "id": "76ba629e-819c-40b6-8f03-70e17ed040ea",
   "metadata": {},
   "outputs": [],
   "source": [
    "import os\n",
    "import numpy as np\n",
    "import random\n",
    "import pandas as pd\n",
    "\n",
    "import tensorflow as tf\n",
    "import ktrain\n",
    "from ktrain import text\n",
    "\n",
    "def reset_random_seeds(seed=42):\n",
    "    os.environ['PYTHONHASHSEED']=str(seed)\n",
    "    tf.random.set_seed(seed)\n",
    "    np.random.seed(seed)\n",
    "    random.seed(seed)\n",
    "    \n",
    "def multimax(lst):\n",
    "    return list(np.argwhere(lst == np.amax(lst)).flatten())\n",
    "    \n",
    "def load_best_epoch(learner,metric):\n",
    "    if metric == \"val_loss\":\n",
    "        res = learner.history.history[metric]\n",
    "        return res.index(min(res)) + 1\n",
    "    elif metric == \"val_accuracy\":\n",
    "        res = learner.history.history[metric]\n",
    "        return res.index(max(res)) + 1\n",
    "    elif metric == \"both\":\n",
    "        accu = learner.history.history[\"val_accuracy\"]\n",
    "        loss = learner.history.history[\"val_loss\"]\n",
    "        dat = pd.DataFrame(dict(acc = accu,\n",
    "                                lss = loss))\n",
    "        best_acc = dat.loc[multimax(dat.acc.to_list()),:]\n",
    "        res = best_acc.loc[best_acc.lss == best_acc.lss.min(),:].index[0]\n",
    "        return res + 1\n",
    "    \n",
    "class KTrans(text.Transformer):\n",
    "    model_load_type = \"ktrain\"\n",
    "    def __init__(self,\n",
    "                 model_name,\n",
    "                 lr_dict=None,\n",
    "                 class_weight=None\n",
    "                ):\n",
    "        super().__init__(model_name)\n",
    "        self.model_name = model_name\n",
    "        self.lr_dict = lr_dict\n",
    "        self.class_weight = class_weight\n",
    "            \n",
    "    \n",
    "    def make_data(self,train,val):\n",
    "        X_train=train.loc[:,TEXT_COL].values\n",
    "        X_val=val.loc[:,TEXT_COL].values\n",
    "        y_train=train.loc[:,LABEL_COL].values\n",
    "        y_val=val.loc[:,LABEL_COL].values\n",
    "        \n",
    "        #preprocess\n",
    "        self.trn = self.preprocess_train(X_train, y_train)\n",
    "        self.val = self.preprocess_test(X_val, y_val)\n",
    "        \n",
    "    def make_learner(self):\n",
    "        model = self.get_classifier()\n",
    "        return ktrain.get_learner(model, train_data=self.trn, val_data = self.val,batch_size=BATCH)\n",
    "        \n",
    "    def run_learning_rate(self,train,val,max_epochs):\n",
    "        self.make_data(train,val)\n",
    "        learner = self.make_learner()\n",
    "        learner.lr_find(show_plot=True, suggest=True,max_epochs=max_epochs)\n",
    "        \n",
    "    def run_fit(self,train,val):\n",
    "        self.make_data(train,val)\n",
    "        self.learner = self.make_learner()\n",
    "        \n",
    "        save = f'{EXP_NAME}/{CHK}/{self.model_name}'\n",
    "        if self.lr_dict:\n",
    "            self.learner.fit_onecycle(self.lr_dict[self.model_name], EPOCHS,class_weight=self.class_weight,checkpoint_folder=save)\n",
    "        else:\n",
    "            self.learner.fit_onecycle(LEARN_RATE, EPOCHS,class_weight=self.class_weight,checkpoint_folder=save)\n",
    "        best_epoch = load_best_epoch(self.learner,MET)\n",
    "        print(f\"best epoch was: {best_epoch}\")\n",
    "        if best_epoch == EPOCHS-1:\n",
    "            print(\"Best epoch was last epoch\")\n",
    "        else:\n",
    "            self.learner.model.load_weights(f'{save}/weights-{best_epoch:02d}.hdf5')\n",
    "        \n",
    "    def save_predictor(self,save_path):\n",
    "        predictor = ktrain.get_predictor(self.learner.model,self)\n",
    "        predictor.save(save_path)\n",
    "        \n",
    "    def run_predict(self,data,load_path=None,predict_proba=True):\n",
    "        data=data.loc[:,TEXT_COL].values\n",
    "        #load predictor\n",
    "        if load_path:\n",
    "            predictor = ktrain.load_predictor(load_path)\n",
    "        else:\n",
    "            predictor = ktrain.get_predictor(self.learner.model, self)\n",
    "        if predict_proba:\n",
    "            return predictor.predict_proba(data)\n",
    "        else:\n",
    "            return np.array(predictor.predict(data))"
   ]
  },
  {
   "cell_type": "code",
   "execution_count": 13,
   "id": "c4a09748-cf6c-44bf-b3d6-ccf955ffef44",
   "metadata": {},
   "outputs": [],
   "source": [
    "if True:\n",
    "    from sklearn.model_selection import train_test_split as tts\n",
    "\n",
    "    train,test = tts(df, test_size=0.1,random_state=42, shuffle=True, stratify=None)\n",
    "\n",
    "    RUN_LOOP = False\n",
    "    if RUN_LOOP:\n",
    "        for model_name in MODEL_NAMES:\n",
    "            #define model and fit\n",
    "            mod = KTrans(model_name)\n",
    "            print(f\"\\n\\n\\n Learning rate for: {model_name}\\n\\n\\n\")\n",
    "            mod.run_learning_rate(train,test,4)\n",
    "\n",
    "    RUN_SINGLE = False\n",
    "    if RUN_SINGLE:\n",
    "        single_name = input(\"Write in model name: \")\n",
    "        mod = KTrans(single_name)\n",
    "        print(f\"\\n\\n\\n Learning rate for: {single_name}\\n\\n\\n\")\n",
    "        mod.run_learning_rate(train,test,4)\n",
    "        \n"
   ]
  },
  {
   "cell_type": "code",
   "execution_count": 14,
   "id": "34c5c207-abd9-4479-85a4-0b2b8f8c948a",
   "metadata": {},
   "outputs": [],
   "source": [
    "lr_dict = {'xlm-mlm-100-1280': 1.71E-06,\n",
    "           'xlm-mlm-17-1280': 3.64E-06,\n",
    "           'bert-base-multilingual-uncased': 1.78E-06,\n",
    "           'bert-base-multilingual-cased': 1.50E-06,\n",
    "           'xlm-roberta-base': 2.27E-06,\n",
    "           'xlm-roberta-large': 1.07E-06}"
   ]
  },
  {
   "cell_type": "code",
   "execution_count": 15,
   "id": "04bf0954-6597-47fd-87cf-207bc1bae5d0",
   "metadata": {},
   "outputs": [
    {
     "data": {
      "text/plain": [
       "HEALTHY_TALK    248\n",
       "SICK_TALK       248\n",
       "Name: label, dtype: int64"
      ]
     },
     "execution_count": 15,
     "metadata": {},
     "output_type": "execute_result"
    }
   ],
   "source": [
    "def down_sample(data,\n",
    "                ratio=1,\n",
    "                minor=\"SICK_TALK\",\n",
    "                major=\"HEALTHY_TALK\"):\n",
    "    counts = data.loc[:,LABEL_COL].value_counts()\n",
    "    f = ratio*(counts[minor]/counts[major])\n",
    "    return pd.concat([data.loc[(data.label == major),:].sample(frac=f),data.loc[(data.label == minor),:]]).sample(frac=1).reset_index(drop=True)\n",
    "\n",
    "test = down_sample(df.loc[df.language == \"english\"])\n",
    "test.label.value_counts()\n",
    "# test"
   ]
  },
  {
   "cell_type": "code",
   "execution_count": 19,
   "id": "3b0bd66a-f2eb-49e1-875f-b59bd296ba21",
   "metadata": {},
   "outputs": [],
   "source": [
    "def get_save_path(fold_no):\n",
    "    return f\"{EXP_NAME}/{MODELS}/language_{fold_no}/{MODEL_NAME}\"\n",
    "\n",
    "def evaluate(boot_train,boot_val,fold_no,model_name,class_weight=None,lr_dict=None,save=False,del_mod=True):\n",
    "    #define model and fit\n",
    "    mod = KTrans(model_name,lr_dict,class_weight=class_weight)\n",
    "    mod.run_fit(boot_train,boot_val)\n",
    "    if save:\n",
    "        save_path = get_save_path(fold_no)\n",
    "        mod.save_predictor(save_path)\n",
    "    #save validation predictions\n",
    "    boot_val[\"pred\"] = mod.run_predict(boot_val,predict_proba=False)\n",
    "    if del_mod:\n",
    "        del mod\n",
    "    return boot_val\n",
    "\n",
    "def run_cv(k,df,model_name,class_weight=None,lr_dict=None,early_break=None):\n",
    "    vals=pd.DataFrame()\n",
    "    data = df.copy()#loc[:,[TEXT_COL,LABEL_COL]]\n",
    "    indexes = KFold(10,shuffle=True,random_state=42).split(data)\n",
    "    for fold_no, index in enumerate(prog_bar(indexes,desc=f\"Progress through CV\")):\n",
    "        train = data.iloc[index[0]]\n",
    "        val = data.iloc[index[1]].copy()\n",
    "        reset_random_seeds()\n",
    "        #train and get predictions\n",
    "        res = evaluate(train,val,fold_no,model_name,class_weight=class_weight,lr_dict=lr_dict,save=False)\n",
    "        #save metadata\n",
    "        res[\"fold_no\"] = fold_no\n",
    "        vals = pd.concat([vals,res],axis=0)\n",
    "        os.system('echo %s | %s' % (pw, CMD)) #REMOVE THIS LINE TO *NOT* delete /tmp files each fold\n",
    "        print(f\"Fold no: {fold_no+1}\")\n",
    "        print(f\"Model name: {model_name}\")\n",
    "        if early_break and fold_no == early_break:\n",
    "            break\n",
    "    return vals\n",
    "\n",
    "\n",
    "def run_within(k,ratio,class_weight=None):\n",
    "    result = pd.DataFrame()\n",
    "    for lang in prog_bar(set(df.language),desc=\"Runing languages\"):\n",
    "        dat = df.loc[df.language == lang,:]\n",
    "        ds_dat = down_sample(dat,ratio)    \n",
    "        for model_name in prog_bar(MODEL_NAMES,desc=\"Runing models\"):\n",
    "            res = run_cv(k,ds_dat,model_name,class_weight=class_weight,lr_dict=lr_dict)\n",
    "            res[\"model_name\"] = model_name\n",
    "            res.to_pickle(f\"{EXP_NAME}/{RES}/{model_name}_results.pkl\")\n",
    "            result = pd.concat([result,res],axis=0)\n",
    "    return result\n"
   ]
  },
  {
   "cell_type": "code",
   "execution_count": null,
   "id": "cb698e1b-ab9c-413b-97ca-aa5d04988feb",
   "metadata": {},
   "outputs": [],
   "source": [
    "result = run_within(k = 10,ratio=1)"
   ]
  },
  {
   "cell_type": "code",
   "execution_count": 92,
   "id": "18be6c44-e88e-4760-86de-711dc8e0f1bb",
   "metadata": {},
   "outputs": [],
   "source": [
    "result.to_csv(f\"{EXP_NAME}/results/all_results.pkl\")"
   ]
  },
  {
   "cell_type": "code",
   "execution_count": 23,
   "id": "bc972f4e-76e0-46dc-98dc-c3c014c9abd6",
   "metadata": {},
   "outputs": [
    {
     "data": {
      "text/html": [
       "<div>\n",
       "<style scoped>\n",
       "    .dataframe tbody tr th:only-of-type {\n",
       "        vertical-align: middle;\n",
       "    }\n",
       "\n",
       "    .dataframe tbody tr th {\n",
       "        vertical-align: top;\n",
       "    }\n",
       "\n",
       "    .dataframe thead th {\n",
       "        text-align: right;\n",
       "    }\n",
       "</style>\n",
       "<table border=\"1\" class=\"dataframe\">\n",
       "  <thead>\n",
       "    <tr style=\"text-align: right;\">\n",
       "      <th></th>\n",
       "      <th>tweet_id</th>\n",
       "      <th>text</th>\n",
       "      <th>label_1</th>\n",
       "      <th>language</th>\n",
       "      <th>label_2</th>\n",
       "      <th>agreed_label</th>\n",
       "      <th>label</th>\n",
       "      <th>lang</th>\n",
       "      <th>pred</th>\n",
       "      <th>fold_no</th>\n",
       "      <th>model_name</th>\n",
       "    </tr>\n",
       "  </thead>\n",
       "  <tbody>\n",
       "    <tr>\n",
       "      <th>0</th>\n",
       "      <td>1086735261378204032</td>\n",
       "      <td>Mi accompagnerai all'altare. C' è del disagio ...</td>\n",
       "      <td>reject</td>\n",
       "      <td>italian</td>\n",
       "      <td>reject</td>\n",
       "      <td>NaN</td>\n",
       "      <td>HEALTHY_TALK</td>\n",
       "      <td>it</td>\n",
       "      <td>HEALTHY_TALK</td>\n",
       "      <td>0</td>\n",
       "      <td>xlm-mlm-100-1280</td>\n",
       "    </tr>\n",
       "    <tr>\n",
       "      <th>2</th>\n",
       "      <td>1195746112147279872</td>\n",
       "      <td>E ci mancava l’influenza intestinale. I regali...</td>\n",
       "      <td>accept</td>\n",
       "      <td>italian</td>\n",
       "      <td>accept</td>\n",
       "      <td>NaN</td>\n",
       "      <td>SICK_TALK</td>\n",
       "      <td>it</td>\n",
       "      <td>SICK_TALK</td>\n",
       "      <td>0</td>\n",
       "      <td>xlm-mlm-100-1280</td>\n",
       "    </tr>\n",
       "    <tr>\n",
       "      <th>9</th>\n",
       "      <td>978674539000487936</td>\n",
       "      <td>@Zippo88lrr @vitoperrino @PillerGumpel @Patriz...</td>\n",
       "      <td>reject</td>\n",
       "      <td>italian</td>\n",
       "      <td>reject</td>\n",
       "      <td>NaN</td>\n",
       "      <td>HEALTHY_TALK</td>\n",
       "      <td>it</td>\n",
       "      <td>HEALTHY_TALK</td>\n",
       "      <td>0</td>\n",
       "      <td>xlm-mlm-100-1280</td>\n",
       "    </tr>\n",
       "    <tr>\n",
       "      <th>11</th>\n",
       "      <td>988887649049108480</td>\n",
       "      <td>@RiscattoNaz So distrutto da dolore......</td>\n",
       "      <td>accept</td>\n",
       "      <td>italian</td>\n",
       "      <td>reject</td>\n",
       "      <td>accept</td>\n",
       "      <td>SICK_TALK</td>\n",
       "      <td>it</td>\n",
       "      <td>HEALTHY_TALK</td>\n",
       "      <td>0</td>\n",
       "      <td>xlm-mlm-100-1280</td>\n",
       "    </tr>\n",
       "    <tr>\n",
       "      <th>30</th>\n",
       "      <td>976564888783982592</td>\n",
       "      <td>ho mal di pancia e mal di testa e male a tutto...</td>\n",
       "      <td>accept</td>\n",
       "      <td>italian</td>\n",
       "      <td>accept</td>\n",
       "      <td>NaN</td>\n",
       "      <td>SICK_TALK</td>\n",
       "      <td>it</td>\n",
       "      <td>SICK_TALK</td>\n",
       "      <td>0</td>\n",
       "      <td>xlm-mlm-100-1280</td>\n",
       "    </tr>\n",
       "  </tbody>\n",
       "</table>\n",
       "</div>"
      ],
      "text/plain": [
       "               tweet_id                                               text  \\\n",
       "0   1086735261378204032  Mi accompagnerai all'altare. C' è del disagio ...   \n",
       "2   1195746112147279872  E ci mancava l’influenza intestinale. I regali...   \n",
       "9    978674539000487936  @Zippo88lrr @vitoperrino @PillerGumpel @Patriz...   \n",
       "11   988887649049108480          @RiscattoNaz So distrutto da dolore......   \n",
       "30   976564888783982592  ho mal di pancia e mal di testa e male a tutto...   \n",
       "\n",
       "   label_1 language label_2 agreed_label         label lang          pred  \\\n",
       "0   reject  italian  reject          NaN  HEALTHY_TALK   it  HEALTHY_TALK   \n",
       "2   accept  italian  accept          NaN     SICK_TALK   it     SICK_TALK   \n",
       "9   reject  italian  reject          NaN  HEALTHY_TALK   it  HEALTHY_TALK   \n",
       "11  accept  italian  reject       accept     SICK_TALK   it  HEALTHY_TALK   \n",
       "30  accept  italian  accept          NaN     SICK_TALK   it     SICK_TALK   \n",
       "\n",
       "    fold_no        model_name  \n",
       "0         0  xlm-mlm-100-1280  \n",
       "2         0  xlm-mlm-100-1280  \n",
       "9         0  xlm-mlm-100-1280  \n",
       "11        0  xlm-mlm-100-1280  \n",
       "30        0  xlm-mlm-100-1280  "
      ]
     },
     "execution_count": 23,
     "metadata": {},
     "output_type": "execute_result"
    }
   ],
   "source": [
    "result.head()"
   ]
  },
  {
   "cell_type": "code",
   "execution_count": 61,
   "id": "e6f41fa1-fdf1-4ca7-ad36-956d827fdae8",
   "metadata": {},
   "outputs": [
    {
     "name": "stderr",
     "output_type": "stream",
     "text": [
      "/home/coler/anaconda3/envs/covid_proj/lib/python3.8/site-packages/sklearn/metrics/_classification.py:1248: UndefinedMetricWarning:\n",
      "\n",
      "Precision and F-score are ill-defined and being set to 0.0 in labels with no predicted samples. Use `zero_division` parameter to control this behavior.\n",
      "\n",
      "/home/coler/anaconda3/envs/covid_proj/lib/python3.8/site-packages/sklearn/metrics/_classification.py:1248: UndefinedMetricWarning:\n",
      "\n",
      "Precision and F-score are ill-defined and being set to 0.0 in labels with no predicted samples. Use `zero_division` parameter to control this behavior.\n",
      "\n",
      "/home/coler/anaconda3/envs/covid_proj/lib/python3.8/site-packages/sklearn/metrics/_classification.py:1248: UndefinedMetricWarning:\n",
      "\n",
      "Precision and F-score are ill-defined and being set to 0.0 in labels with no predicted samples. Use `zero_division` parameter to control this behavior.\n",
      "\n",
      "/home/coler/anaconda3/envs/covid_proj/lib/python3.8/site-packages/sklearn/metrics/_classification.py:1248: UndefinedMetricWarning:\n",
      "\n",
      "Precision and F-score are ill-defined and being set to 0.0 in labels with no predicted samples. Use `zero_division` parameter to control this behavior.\n",
      "\n",
      "/home/coler/anaconda3/envs/covid_proj/lib/python3.8/site-packages/sklearn/metrics/_classification.py:1248: UndefinedMetricWarning:\n",
      "\n",
      "Precision and F-score are ill-defined and being set to 0.0 in labels with no predicted samples. Use `zero_division` parameter to control this behavior.\n",
      "\n",
      "/home/coler/anaconda3/envs/covid_proj/lib/python3.8/site-packages/sklearn/metrics/_classification.py:1248: UndefinedMetricWarning:\n",
      "\n",
      "Precision and F-score are ill-defined and being set to 0.0 in labels with no predicted samples. Use `zero_division` parameter to control this behavior.\n",
      "\n"
     ]
    },
    {
     "data": {
      "text/html": [
       "<div>\n",
       "<style scoped>\n",
       "    .dataframe tbody tr th:only-of-type {\n",
       "        vertical-align: middle;\n",
       "    }\n",
       "\n",
       "    .dataframe tbody tr th {\n",
       "        vertical-align: top;\n",
       "    }\n",
       "\n",
       "    .dataframe thead th {\n",
       "        text-align: right;\n",
       "    }\n",
       "</style>\n",
       "<table border=\"1\" class=\"dataframe\">\n",
       "  <thead>\n",
       "    <tr style=\"text-align: right;\">\n",
       "      <th></th>\n",
       "      <th>model_name</th>\n",
       "      <th>language</th>\n",
       "      <th>HEALTHY_TALK</th>\n",
       "      <th>SICK_TALK</th>\n",
       "    </tr>\n",
       "  </thead>\n",
       "  <tbody>\n",
       "    <tr>\n",
       "      <th>0</th>\n",
       "      <td>bert-base-multilingual-cased</td>\n",
       "      <td>english</td>\n",
       "      <td>0.682446</td>\n",
       "      <td>0.668041</td>\n",
       "    </tr>\n",
       "    <tr>\n",
       "      <th>1</th>\n",
       "      <td>bert-base-multilingual-cased</td>\n",
       "      <td>french</td>\n",
       "      <td>0.763116</td>\n",
       "      <td>0.775940</td>\n",
       "    </tr>\n",
       "    <tr>\n",
       "      <th>2</th>\n",
       "      <td>bert-base-multilingual-cased</td>\n",
       "      <td>german</td>\n",
       "      <td>0.857464</td>\n",
       "      <td>0.865608</td>\n",
       "    </tr>\n",
       "    <tr>\n",
       "      <th>3</th>\n",
       "      <td>bert-base-multilingual-cased</td>\n",
       "      <td>italian</td>\n",
       "      <td>0.755382</td>\n",
       "      <td>0.742268</td>\n",
       "    </tr>\n",
       "    <tr>\n",
       "      <th>4</th>\n",
       "      <td>bert-base-multilingual-cased</td>\n",
       "      <td>polish</td>\n",
       "      <td>0.767606</td>\n",
       "      <td>0.720339</td>\n",
       "    </tr>\n",
       "    <tr>\n",
       "      <th>5</th>\n",
       "      <td>bert-base-multilingual-cased</td>\n",
       "      <td>spanish</td>\n",
       "      <td>0.794203</td>\n",
       "      <td>0.776025</td>\n",
       "    </tr>\n",
       "    <tr>\n",
       "      <th>6</th>\n",
       "      <td>bert-base-multilingual-uncased</td>\n",
       "      <td>english</td>\n",
       "      <td>0.634656</td>\n",
       "      <td>0.658869</td>\n",
       "    </tr>\n",
       "    <tr>\n",
       "      <th>7</th>\n",
       "      <td>bert-base-multilingual-uncased</td>\n",
       "      <td>french</td>\n",
       "      <td>0.821830</td>\n",
       "      <td>0.834575</td>\n",
       "    </tr>\n",
       "    <tr>\n",
       "      <th>8</th>\n",
       "      <td>bert-base-multilingual-uncased</td>\n",
       "      <td>german</td>\n",
       "      <td>0.882682</td>\n",
       "      <td>0.888417</td>\n",
       "    </tr>\n",
       "    <tr>\n",
       "      <th>9</th>\n",
       "      <td>bert-base-multilingual-uncased</td>\n",
       "      <td>italian</td>\n",
       "      <td>0.808679</td>\n",
       "      <td>0.801636</td>\n",
       "    </tr>\n",
       "    <tr>\n",
       "      <th>10</th>\n",
       "      <td>bert-base-multilingual-uncased</td>\n",
       "      <td>polish</td>\n",
       "      <td>0.643172</td>\n",
       "      <td>0.723549</td>\n",
       "    </tr>\n",
       "    <tr>\n",
       "      <th>11</th>\n",
       "      <td>bert-base-multilingual-uncased</td>\n",
       "      <td>spanish</td>\n",
       "      <td>0.814024</td>\n",
       "      <td>0.817365</td>\n",
       "    </tr>\n",
       "    <tr>\n",
       "      <th>12</th>\n",
       "      <td>xlm-mlm-100-1280</td>\n",
       "      <td>english</td>\n",
       "      <td>0.623932</td>\n",
       "      <td>0.664122</td>\n",
       "    </tr>\n",
       "    <tr>\n",
       "      <th>13</th>\n",
       "      <td>xlm-mlm-100-1280</td>\n",
       "      <td>french</td>\n",
       "      <td>0.734908</td>\n",
       "      <td>0.790311</td>\n",
       "    </tr>\n",
       "    <tr>\n",
       "      <th>14</th>\n",
       "      <td>xlm-mlm-100-1280</td>\n",
       "      <td>german</td>\n",
       "      <td>0.850917</td>\n",
       "      <td>0.865145</td>\n",
       "    </tr>\n",
       "    <tr>\n",
       "      <th>15</th>\n",
       "      <td>xlm-mlm-100-1280</td>\n",
       "      <td>italian</td>\n",
       "      <td>0.753086</td>\n",
       "      <td>0.764706</td>\n",
       "    </tr>\n",
       "    <tr>\n",
       "      <th>16</th>\n",
       "      <td>xlm-mlm-100-1280</td>\n",
       "      <td>polish</td>\n",
       "      <td>0.652174</td>\n",
       "      <td>0.724138</td>\n",
       "    </tr>\n",
       "    <tr>\n",
       "      <th>17</th>\n",
       "      <td>xlm-mlm-100-1280</td>\n",
       "      <td>spanish</td>\n",
       "      <td>0.758942</td>\n",
       "      <td>0.772394</td>\n",
       "    </tr>\n",
       "    <tr>\n",
       "      <th>18</th>\n",
       "      <td>xlm-mlm-17-1280</td>\n",
       "      <td>english</td>\n",
       "      <td>0.720165</td>\n",
       "      <td>0.731225</td>\n",
       "    </tr>\n",
       "    <tr>\n",
       "      <th>19</th>\n",
       "      <td>xlm-mlm-17-1280</td>\n",
       "      <td>french</td>\n",
       "      <td>0.777870</td>\n",
       "      <td>0.804648</td>\n",
       "    </tr>\n",
       "    <tr>\n",
       "      <th>20</th>\n",
       "      <td>xlm-mlm-17-1280</td>\n",
       "      <td>german</td>\n",
       "      <td>0.879640</td>\n",
       "      <td>0.887012</td>\n",
       "    </tr>\n",
       "    <tr>\n",
       "      <th>21</th>\n",
       "      <td>xlm-mlm-17-1280</td>\n",
       "      <td>italian</td>\n",
       "      <td>0.830898</td>\n",
       "      <td>0.843327</td>\n",
       "    </tr>\n",
       "    <tr>\n",
       "      <th>22</th>\n",
       "      <td>xlm-mlm-17-1280</td>\n",
       "      <td>polish</td>\n",
       "      <td>0.741935</td>\n",
       "      <td>0.764706</td>\n",
       "    </tr>\n",
       "    <tr>\n",
       "      <th>23</th>\n",
       "      <td>xlm-mlm-17-1280</td>\n",
       "      <td>spanish</td>\n",
       "      <td>0.849145</td>\n",
       "      <td>0.857562</td>\n",
       "    </tr>\n",
       "    <tr>\n",
       "      <th>24</th>\n",
       "      <td>xlm-roberta-base</td>\n",
       "      <td>english</td>\n",
       "      <td>0.707113</td>\n",
       "      <td>0.727626</td>\n",
       "    </tr>\n",
       "    <tr>\n",
       "      <th>25</th>\n",
       "      <td>xlm-roberta-base</td>\n",
       "      <td>french</td>\n",
       "      <td>0.821549</td>\n",
       "      <td>0.848571</td>\n",
       "    </tr>\n",
       "    <tr>\n",
       "      <th>26</th>\n",
       "      <td>xlm-roberta-base</td>\n",
       "      <td>german</td>\n",
       "      <td>0.908267</td>\n",
       "      <td>0.915005</td>\n",
       "    </tr>\n",
       "    <tr>\n",
       "      <th>27</th>\n",
       "      <td>xlm-roberta-base</td>\n",
       "      <td>italian</td>\n",
       "      <td>0.855967</td>\n",
       "      <td>0.862745</td>\n",
       "    </tr>\n",
       "    <tr>\n",
       "      <th>28</th>\n",
       "      <td>xlm-roberta-base</td>\n",
       "      <td>polish</td>\n",
       "      <td>0.651376</td>\n",
       "      <td>0.748344</td>\n",
       "    </tr>\n",
       "    <tr>\n",
       "      <th>29</th>\n",
       "      <td>xlm-roberta-base</td>\n",
       "      <td>spanish</td>\n",
       "      <td>0.868624</td>\n",
       "      <td>0.874446</td>\n",
       "    </tr>\n",
       "    <tr>\n",
       "      <th>30</th>\n",
       "      <td>xlm-roberta-large</td>\n",
       "      <td>english</td>\n",
       "      <td>0.662295</td>\n",
       "      <td>0.460733</td>\n",
       "    </tr>\n",
       "    <tr>\n",
       "      <th>31</th>\n",
       "      <td>xlm-roberta-large</td>\n",
       "      <td>french</td>\n",
       "      <td>0.752887</td>\n",
       "      <td>0.750970</td>\n",
       "    </tr>\n",
       "    <tr>\n",
       "      <th>32</th>\n",
       "      <td>xlm-roberta-large</td>\n",
       "      <td>german</td>\n",
       "      <td>0.908475</td>\n",
       "      <td>0.914826</td>\n",
       "    </tr>\n",
       "    <tr>\n",
       "      <th>33</th>\n",
       "      <td>xlm-roberta-large</td>\n",
       "      <td>italian</td>\n",
       "      <td>0.667630</td>\n",
       "      <td>0.243421</td>\n",
       "    </tr>\n",
       "    <tr>\n",
       "      <th>34</th>\n",
       "      <td>xlm-roberta-large</td>\n",
       "      <td>polish</td>\n",
       "      <td>0.666667</td>\n",
       "      <td>0.000000</td>\n",
       "    </tr>\n",
       "    <tr>\n",
       "      <th>35</th>\n",
       "      <td>xlm-roberta-large</td>\n",
       "      <td>spanish</td>\n",
       "      <td>0.699610</td>\n",
       "      <td>0.583784</td>\n",
       "    </tr>\n",
       "  </tbody>\n",
       "</table>\n",
       "</div>"
      ],
      "text/plain": [
       "                        model_name language  HEALTHY_TALK  SICK_TALK\n",
       "0     bert-base-multilingual-cased  english      0.682446   0.668041\n",
       "1     bert-base-multilingual-cased   french      0.763116   0.775940\n",
       "2     bert-base-multilingual-cased   german      0.857464   0.865608\n",
       "3     bert-base-multilingual-cased  italian      0.755382   0.742268\n",
       "4     bert-base-multilingual-cased   polish      0.767606   0.720339\n",
       "5     bert-base-multilingual-cased  spanish      0.794203   0.776025\n",
       "6   bert-base-multilingual-uncased  english      0.634656   0.658869\n",
       "7   bert-base-multilingual-uncased   french      0.821830   0.834575\n",
       "8   bert-base-multilingual-uncased   german      0.882682   0.888417\n",
       "9   bert-base-multilingual-uncased  italian      0.808679   0.801636\n",
       "10  bert-base-multilingual-uncased   polish      0.643172   0.723549\n",
       "11  bert-base-multilingual-uncased  spanish      0.814024   0.817365\n",
       "12                xlm-mlm-100-1280  english      0.623932   0.664122\n",
       "13                xlm-mlm-100-1280   french      0.734908   0.790311\n",
       "14                xlm-mlm-100-1280   german      0.850917   0.865145\n",
       "15                xlm-mlm-100-1280  italian      0.753086   0.764706\n",
       "16                xlm-mlm-100-1280   polish      0.652174   0.724138\n",
       "17                xlm-mlm-100-1280  spanish      0.758942   0.772394\n",
       "18                 xlm-mlm-17-1280  english      0.720165   0.731225\n",
       "19                 xlm-mlm-17-1280   french      0.777870   0.804648\n",
       "20                 xlm-mlm-17-1280   german      0.879640   0.887012\n",
       "21                 xlm-mlm-17-1280  italian      0.830898   0.843327\n",
       "22                 xlm-mlm-17-1280   polish      0.741935   0.764706\n",
       "23                 xlm-mlm-17-1280  spanish      0.849145   0.857562\n",
       "24                xlm-roberta-base  english      0.707113   0.727626\n",
       "25                xlm-roberta-base   french      0.821549   0.848571\n",
       "26                xlm-roberta-base   german      0.908267   0.915005\n",
       "27                xlm-roberta-base  italian      0.855967   0.862745\n",
       "28                xlm-roberta-base   polish      0.651376   0.748344\n",
       "29                xlm-roberta-base  spanish      0.868624   0.874446\n",
       "30               xlm-roberta-large  english      0.662295   0.460733\n",
       "31               xlm-roberta-large   french      0.752887   0.750970\n",
       "32               xlm-roberta-large   german      0.908475   0.914826\n",
       "33               xlm-roberta-large  italian      0.667630   0.243421\n",
       "34               xlm-roberta-large   polish      0.666667   0.000000\n",
       "35               xlm-roberta-large  spanish      0.699610   0.583784"
      ]
     },
     "execution_count": 61,
     "metadata": {},
     "output_type": "execute_result"
    }
   ],
   "source": [
    "from sklearn.metrics import classification_report as cr\n",
    "\n",
    "f1 = pd.DataFrame()\n",
    "\n",
    "for mod,dx in result.groupby([\"model_name\",\"language\"]):\n",
    "    dic = {lab:[cr(dx[\"label\"],dx[\"pred\"],output_dict=True)[lab][\"f1-score\"]] for lab in CATS}\n",
    "    dat = pd.DataFrame(dic)\n",
    "    dat.index = pd.MultiIndex.from_tuples([mod], names=('model_name', 'language'))\n",
    "    f1 = f1.append(dat)\n",
    "\n",
    "f1.reset_index(drop=False,inplace=True)\n",
    "f1"
   ]
  },
  {
   "cell_type": "code",
   "execution_count": 75,
   "id": "124f65bc-cae7-45ea-8331-4addd8c51d99",
   "metadata": {},
   "outputs": [
    {
     "data": {
      "application/vnd.plotly.v1+json": {
       "config": {
        "plotlyServerURL": "https://plot.ly"
       },
       "data": [
        {
         "alignmentgroup": "True",
         "hovertemplate": "language=english<br>model_name=%{x}<br>SICK_TALK=%{y}<extra></extra>",
         "legendgroup": "english",
         "marker": {
          "color": "#636efa",
          "pattern": {
           "shape": ""
          }
         },
         "name": "english",
         "offsetgroup": "english",
         "orientation": "v",
         "showlegend": true,
         "textposition": "auto",
         "type": "bar",
         "x": [
          "bert-base-multilingual-cased",
          "bert-base-multilingual-uncased",
          "xlm-mlm-100-1280",
          "xlm-mlm-17-1280",
          "xlm-roberta-base",
          "xlm-roberta-large"
         ],
         "xaxis": "x",
         "y": [
          0.668041237113402,
          0.658869395711501,
          0.6641221374045801,
          0.7312252964426879,
          0.7276264591439688,
          0.4607329842931937
         ],
         "yaxis": "y"
        },
        {
         "alignmentgroup": "True",
         "hovertemplate": "language=french<br>model_name=%{x}<br>SICK_TALK=%{y}<extra></extra>",
         "legendgroup": "french",
         "marker": {
          "color": "#EF553B",
          "pattern": {
           "shape": ""
          }
         },
         "name": "french",
         "offsetgroup": "french",
         "orientation": "v",
         "showlegend": true,
         "textposition": "auto",
         "type": "bar",
         "x": [
          "bert-base-multilingual-cased",
          "bert-base-multilingual-uncased",
          "xlm-mlm-100-1280",
          "xlm-mlm-17-1280",
          "xlm-roberta-base",
          "xlm-roberta-large"
         ],
         "xaxis": "x",
         "y": [
          0.77593984962406,
          0.834575260804769,
          0.7903114186851211,
          0.8046477850399419,
          0.8485714285714284,
          0.7509697439875872
         ],
         "yaxis": "y"
        },
        {
         "alignmentgroup": "True",
         "hovertemplate": "language=german<br>model_name=%{x}<br>SICK_TALK=%{y}<extra></extra>",
         "legendgroup": "german",
         "marker": {
          "color": "#00cc96",
          "pattern": {
           "shape": ""
          }
         },
         "name": "german",
         "offsetgroup": "german",
         "orientation": "v",
         "showlegend": true,
         "textposition": "auto",
         "type": "bar",
         "x": [
          "bert-base-multilingual-cased",
          "bert-base-multilingual-uncased",
          "xlm-mlm-100-1280",
          "xlm-mlm-17-1280",
          "xlm-roberta-base",
          "xlm-roberta-large"
         ],
         "xaxis": "x",
         "y": [
          0.8656084656084656,
          0.8884165781083954,
          0.8651452282157677,
          0.8870116156282999,
          0.9150052465897167,
          0.9148264984227129
         ],
         "yaxis": "y"
        },
        {
         "alignmentgroup": "True",
         "hovertemplate": "language=italian<br>model_name=%{x}<br>SICK_TALK=%{y}<extra></extra>",
         "legendgroup": "italian",
         "marker": {
          "color": "#ab63fa",
          "pattern": {
           "shape": ""
          }
         },
         "name": "italian",
         "offsetgroup": "italian",
         "orientation": "v",
         "showlegend": true,
         "textposition": "auto",
         "type": "bar",
         "x": [
          "bert-base-multilingual-cased",
          "bert-base-multilingual-uncased",
          "xlm-mlm-100-1280",
          "xlm-mlm-17-1280",
          "xlm-roberta-base",
          "xlm-roberta-large"
         ],
         "xaxis": "x",
         "y": [
          0.7422680412371134,
          0.8016359918200409,
          0.7647058823529411,
          0.8433268858800773,
          0.8627450980392158,
          0.24342105263157893
         ],
         "yaxis": "y"
        },
        {
         "alignmentgroup": "True",
         "hovertemplate": "language=polish<br>model_name=%{x}<br>SICK_TALK=%{y}<extra></extra>",
         "legendgroup": "polish",
         "marker": {
          "color": "#FFA15A",
          "pattern": {
           "shape": ""
          }
         },
         "name": "polish",
         "offsetgroup": "polish",
         "orientation": "v",
         "showlegend": true,
         "textposition": "auto",
         "type": "bar",
         "x": [
          "bert-base-multilingual-cased",
          "bert-base-multilingual-uncased",
          "xlm-mlm-100-1280",
          "xlm-mlm-17-1280",
          "xlm-roberta-base",
          "xlm-roberta-large"
         ],
         "xaxis": "x",
         "y": [
          0.7203389830508474,
          0.7235494880546075,
          0.7241379310344829,
          0.7647058823529411,
          0.7483443708609272,
          0
         ],
         "yaxis": "y"
        },
        {
         "alignmentgroup": "True",
         "hovertemplate": "language=spanish<br>model_name=%{x}<br>SICK_TALK=%{y}<extra></extra>",
         "legendgroup": "spanish",
         "marker": {
          "color": "#19d3f3",
          "pattern": {
           "shape": ""
          }
         },
         "name": "spanish",
         "offsetgroup": "spanish",
         "orientation": "v",
         "showlegend": true,
         "textposition": "auto",
         "type": "bar",
         "x": [
          "bert-base-multilingual-cased",
          "bert-base-multilingual-uncased",
          "xlm-mlm-100-1280",
          "xlm-mlm-17-1280",
          "xlm-roberta-base",
          "xlm-roberta-large"
         ],
         "xaxis": "x",
         "y": [
          0.77602523659306,
          0.8173652694610779,
          0.7723935389133627,
          0.8575624082232012,
          0.8744460856720827,
          0.5837837837837838
         ],
         "yaxis": "y"
        }
       ],
       "layout": {
        "autosize": true,
        "barmode": "group",
        "legend": {
         "title": {
          "text": "language"
         },
         "tracegroupgap": 0
        },
        "margin": {
         "t": 60
        },
        "template": {
         "data": {
          "bar": [
           {
            "error_x": {
             "color": "#2a3f5f"
            },
            "error_y": {
             "color": "#2a3f5f"
            },
            "marker": {
             "line": {
              "color": "#E5ECF6",
              "width": 0.5
             },
             "pattern": {
              "fillmode": "overlay",
              "size": 10,
              "solidity": 0.2
             }
            },
            "type": "bar"
           }
          ],
          "barpolar": [
           {
            "marker": {
             "line": {
              "color": "#E5ECF6",
              "width": 0.5
             },
             "pattern": {
              "fillmode": "overlay",
              "size": 10,
              "solidity": 0.2
             }
            },
            "type": "barpolar"
           }
          ],
          "carpet": [
           {
            "aaxis": {
             "endlinecolor": "#2a3f5f",
             "gridcolor": "white",
             "linecolor": "white",
             "minorgridcolor": "white",
             "startlinecolor": "#2a3f5f"
            },
            "baxis": {
             "endlinecolor": "#2a3f5f",
             "gridcolor": "white",
             "linecolor": "white",
             "minorgridcolor": "white",
             "startlinecolor": "#2a3f5f"
            },
            "type": "carpet"
           }
          ],
          "choropleth": [
           {
            "colorbar": {
             "outlinewidth": 0,
             "ticks": ""
            },
            "type": "choropleth"
           }
          ],
          "contour": [
           {
            "colorbar": {
             "outlinewidth": 0,
             "ticks": ""
            },
            "colorscale": [
             [
              0,
              "#0d0887"
             ],
             [
              0.1111111111111111,
              "#46039f"
             ],
             [
              0.2222222222222222,
              "#7201a8"
             ],
             [
              0.3333333333333333,
              "#9c179e"
             ],
             [
              0.4444444444444444,
              "#bd3786"
             ],
             [
              0.5555555555555556,
              "#d8576b"
             ],
             [
              0.6666666666666666,
              "#ed7953"
             ],
             [
              0.7777777777777778,
              "#fb9f3a"
             ],
             [
              0.8888888888888888,
              "#fdca26"
             ],
             [
              1,
              "#f0f921"
             ]
            ],
            "type": "contour"
           }
          ],
          "contourcarpet": [
           {
            "colorbar": {
             "outlinewidth": 0,
             "ticks": ""
            },
            "type": "contourcarpet"
           }
          ],
          "heatmap": [
           {
            "colorbar": {
             "outlinewidth": 0,
             "ticks": ""
            },
            "colorscale": [
             [
              0,
              "#0d0887"
             ],
             [
              0.1111111111111111,
              "#46039f"
             ],
             [
              0.2222222222222222,
              "#7201a8"
             ],
             [
              0.3333333333333333,
              "#9c179e"
             ],
             [
              0.4444444444444444,
              "#bd3786"
             ],
             [
              0.5555555555555556,
              "#d8576b"
             ],
             [
              0.6666666666666666,
              "#ed7953"
             ],
             [
              0.7777777777777778,
              "#fb9f3a"
             ],
             [
              0.8888888888888888,
              "#fdca26"
             ],
             [
              1,
              "#f0f921"
             ]
            ],
            "type": "heatmap"
           }
          ],
          "heatmapgl": [
           {
            "colorbar": {
             "outlinewidth": 0,
             "ticks": ""
            },
            "colorscale": [
             [
              0,
              "#0d0887"
             ],
             [
              0.1111111111111111,
              "#46039f"
             ],
             [
              0.2222222222222222,
              "#7201a8"
             ],
             [
              0.3333333333333333,
              "#9c179e"
             ],
             [
              0.4444444444444444,
              "#bd3786"
             ],
             [
              0.5555555555555556,
              "#d8576b"
             ],
             [
              0.6666666666666666,
              "#ed7953"
             ],
             [
              0.7777777777777778,
              "#fb9f3a"
             ],
             [
              0.8888888888888888,
              "#fdca26"
             ],
             [
              1,
              "#f0f921"
             ]
            ],
            "type": "heatmapgl"
           }
          ],
          "histogram": [
           {
            "marker": {
             "pattern": {
              "fillmode": "overlay",
              "size": 10,
              "solidity": 0.2
             }
            },
            "type": "histogram"
           }
          ],
          "histogram2d": [
           {
            "colorbar": {
             "outlinewidth": 0,
             "ticks": ""
            },
            "colorscale": [
             [
              0,
              "#0d0887"
             ],
             [
              0.1111111111111111,
              "#46039f"
             ],
             [
              0.2222222222222222,
              "#7201a8"
             ],
             [
              0.3333333333333333,
              "#9c179e"
             ],
             [
              0.4444444444444444,
              "#bd3786"
             ],
             [
              0.5555555555555556,
              "#d8576b"
             ],
             [
              0.6666666666666666,
              "#ed7953"
             ],
             [
              0.7777777777777778,
              "#fb9f3a"
             ],
             [
              0.8888888888888888,
              "#fdca26"
             ],
             [
              1,
              "#f0f921"
             ]
            ],
            "type": "histogram2d"
           }
          ],
          "histogram2dcontour": [
           {
            "colorbar": {
             "outlinewidth": 0,
             "ticks": ""
            },
            "colorscale": [
             [
              0,
              "#0d0887"
             ],
             [
              0.1111111111111111,
              "#46039f"
             ],
             [
              0.2222222222222222,
              "#7201a8"
             ],
             [
              0.3333333333333333,
              "#9c179e"
             ],
             [
              0.4444444444444444,
              "#bd3786"
             ],
             [
              0.5555555555555556,
              "#d8576b"
             ],
             [
              0.6666666666666666,
              "#ed7953"
             ],
             [
              0.7777777777777778,
              "#fb9f3a"
             ],
             [
              0.8888888888888888,
              "#fdca26"
             ],
             [
              1,
              "#f0f921"
             ]
            ],
            "type": "histogram2dcontour"
           }
          ],
          "mesh3d": [
           {
            "colorbar": {
             "outlinewidth": 0,
             "ticks": ""
            },
            "type": "mesh3d"
           }
          ],
          "parcoords": [
           {
            "line": {
             "colorbar": {
              "outlinewidth": 0,
              "ticks": ""
             }
            },
            "type": "parcoords"
           }
          ],
          "pie": [
           {
            "automargin": true,
            "type": "pie"
           }
          ],
          "scatter": [
           {
            "fillpattern": {
             "fillmode": "overlay",
             "size": 10,
             "solidity": 0.2
            },
            "type": "scatter"
           }
          ],
          "scatter3d": [
           {
            "line": {
             "colorbar": {
              "outlinewidth": 0,
              "ticks": ""
             }
            },
            "marker": {
             "colorbar": {
              "outlinewidth": 0,
              "ticks": ""
             }
            },
            "type": "scatter3d"
           }
          ],
          "scattercarpet": [
           {
            "marker": {
             "colorbar": {
              "outlinewidth": 0,
              "ticks": ""
             }
            },
            "type": "scattercarpet"
           }
          ],
          "scattergeo": [
           {
            "marker": {
             "colorbar": {
              "outlinewidth": 0,
              "ticks": ""
             }
            },
            "type": "scattergeo"
           }
          ],
          "scattergl": [
           {
            "marker": {
             "colorbar": {
              "outlinewidth": 0,
              "ticks": ""
             }
            },
            "type": "scattergl"
           }
          ],
          "scattermapbox": [
           {
            "marker": {
             "colorbar": {
              "outlinewidth": 0,
              "ticks": ""
             }
            },
            "type": "scattermapbox"
           }
          ],
          "scatterpolar": [
           {
            "marker": {
             "colorbar": {
              "outlinewidth": 0,
              "ticks": ""
             }
            },
            "type": "scatterpolar"
           }
          ],
          "scatterpolargl": [
           {
            "marker": {
             "colorbar": {
              "outlinewidth": 0,
              "ticks": ""
             }
            },
            "type": "scatterpolargl"
           }
          ],
          "scatterternary": [
           {
            "marker": {
             "colorbar": {
              "outlinewidth": 0,
              "ticks": ""
             }
            },
            "type": "scatterternary"
           }
          ],
          "surface": [
           {
            "colorbar": {
             "outlinewidth": 0,
             "ticks": ""
            },
            "colorscale": [
             [
              0,
              "#0d0887"
             ],
             [
              0.1111111111111111,
              "#46039f"
             ],
             [
              0.2222222222222222,
              "#7201a8"
             ],
             [
              0.3333333333333333,
              "#9c179e"
             ],
             [
              0.4444444444444444,
              "#bd3786"
             ],
             [
              0.5555555555555556,
              "#d8576b"
             ],
             [
              0.6666666666666666,
              "#ed7953"
             ],
             [
              0.7777777777777778,
              "#fb9f3a"
             ],
             [
              0.8888888888888888,
              "#fdca26"
             ],
             [
              1,
              "#f0f921"
             ]
            ],
            "type": "surface"
           }
          ],
          "table": [
           {
            "cells": {
             "fill": {
              "color": "#EBF0F8"
             },
             "line": {
              "color": "white"
             }
            },
            "header": {
             "fill": {
              "color": "#C8D4E3"
             },
             "line": {
              "color": "white"
             }
            },
            "type": "table"
           }
          ]
         },
         "layout": {
          "annotationdefaults": {
           "arrowcolor": "#2a3f5f",
           "arrowhead": 0,
           "arrowwidth": 1
          },
          "autotypenumbers": "strict",
          "coloraxis": {
           "colorbar": {
            "outlinewidth": 0,
            "ticks": ""
           }
          },
          "colorscale": {
           "diverging": [
            [
             0,
             "#8e0152"
            ],
            [
             0.1,
             "#c51b7d"
            ],
            [
             0.2,
             "#de77ae"
            ],
            [
             0.3,
             "#f1b6da"
            ],
            [
             0.4,
             "#fde0ef"
            ],
            [
             0.5,
             "#f7f7f7"
            ],
            [
             0.6,
             "#e6f5d0"
            ],
            [
             0.7,
             "#b8e186"
            ],
            [
             0.8,
             "#7fbc41"
            ],
            [
             0.9,
             "#4d9221"
            ],
            [
             1,
             "#276419"
            ]
           ],
           "sequential": [
            [
             0,
             "#0d0887"
            ],
            [
             0.1111111111111111,
             "#46039f"
            ],
            [
             0.2222222222222222,
             "#7201a8"
            ],
            [
             0.3333333333333333,
             "#9c179e"
            ],
            [
             0.4444444444444444,
             "#bd3786"
            ],
            [
             0.5555555555555556,
             "#d8576b"
            ],
            [
             0.6666666666666666,
             "#ed7953"
            ],
            [
             0.7777777777777778,
             "#fb9f3a"
            ],
            [
             0.8888888888888888,
             "#fdca26"
            ],
            [
             1,
             "#f0f921"
            ]
           ],
           "sequentialminus": [
            [
             0,
             "#0d0887"
            ],
            [
             0.1111111111111111,
             "#46039f"
            ],
            [
             0.2222222222222222,
             "#7201a8"
            ],
            [
             0.3333333333333333,
             "#9c179e"
            ],
            [
             0.4444444444444444,
             "#bd3786"
            ],
            [
             0.5555555555555556,
             "#d8576b"
            ],
            [
             0.6666666666666666,
             "#ed7953"
            ],
            [
             0.7777777777777778,
             "#fb9f3a"
            ],
            [
             0.8888888888888888,
             "#fdca26"
            ],
            [
             1,
             "#f0f921"
            ]
           ]
          },
          "colorway": [
           "#636efa",
           "#EF553B",
           "#00cc96",
           "#ab63fa",
           "#FFA15A",
           "#19d3f3",
           "#FF6692",
           "#B6E880",
           "#FF97FF",
           "#FECB52"
          ],
          "font": {
           "color": "#2a3f5f"
          },
          "geo": {
           "bgcolor": "white",
           "lakecolor": "white",
           "landcolor": "#E5ECF6",
           "showlakes": true,
           "showland": true,
           "subunitcolor": "white"
          },
          "hoverlabel": {
           "align": "left"
          },
          "hovermode": "closest",
          "mapbox": {
           "style": "light"
          },
          "paper_bgcolor": "white",
          "plot_bgcolor": "#E5ECF6",
          "polar": {
           "angularaxis": {
            "gridcolor": "white",
            "linecolor": "white",
            "ticks": ""
           },
           "bgcolor": "#E5ECF6",
           "radialaxis": {
            "gridcolor": "white",
            "linecolor": "white",
            "ticks": ""
           }
          },
          "scene": {
           "xaxis": {
            "backgroundcolor": "#E5ECF6",
            "gridcolor": "white",
            "gridwidth": 2,
            "linecolor": "white",
            "showbackground": true,
            "ticks": "",
            "zerolinecolor": "white"
           },
           "yaxis": {
            "backgroundcolor": "#E5ECF6",
            "gridcolor": "white",
            "gridwidth": 2,
            "linecolor": "white",
            "showbackground": true,
            "ticks": "",
            "zerolinecolor": "white"
           },
           "zaxis": {
            "backgroundcolor": "#E5ECF6",
            "gridcolor": "white",
            "gridwidth": 2,
            "linecolor": "white",
            "showbackground": true,
            "ticks": "",
            "zerolinecolor": "white"
           }
          },
          "shapedefaults": {
           "line": {
            "color": "#2a3f5f"
           }
          },
          "ternary": {
           "aaxis": {
            "gridcolor": "white",
            "linecolor": "white",
            "ticks": ""
           },
           "baxis": {
            "gridcolor": "white",
            "linecolor": "white",
            "ticks": ""
           },
           "bgcolor": "#E5ECF6",
           "caxis": {
            "gridcolor": "white",
            "linecolor": "white",
            "ticks": ""
           }
          },
          "title": {
           "x": 0.05
          },
          "xaxis": {
           "automargin": true,
           "gridcolor": "white",
           "linecolor": "white",
           "ticks": "",
           "title": {
            "standoff": 15
           },
           "zerolinecolor": "white",
           "zerolinewidth": 2
          },
          "yaxis": {
           "automargin": true,
           "gridcolor": "white",
           "linecolor": "white",
           "ticks": "",
           "title": {
            "standoff": 15
           },
           "zerolinecolor": "white",
           "zerolinewidth": 2
          }
         }
        },
        "xaxis": {
         "anchor": "y",
         "autorange": true,
         "domain": [
          0,
          1
         ],
         "range": [
          -0.5,
          5.5
         ],
         "title": {
          "text": "model_name"
         },
         "type": "category"
        },
        "yaxis": {
         "anchor": "x",
         "autorange": true,
         "domain": [
          0,
          1
         ],
         "range": [
          0,
          0.9631634174628597
         ],
         "title": {
          "text": "SICK_TALK"
         },
         "type": "linear"
        }
       }
      },
      "image/png": "[encoded data removed]",
      "text/html": [
       "<div>                            <div id=\"5ae61c33-2d5b-4f59-9a2b-cb21a6a5c87b\" class=\"plotly-graph-div\" style=\"height:525px; width:100%;\"></div>            <script type=\"text/javascript\">                require([\"plotly\"], function(Plotly) {                    window.PLOTLYENV=window.PLOTLYENV || {};                                    if (document.getElementById(\"5ae61c33-2d5b-4f59-9a2b-cb21a6a5c87b\")) {                    Plotly.newPlot(                        \"5ae61c33-2d5b-4f59-9a2b-cb21a6a5c87b\",                        [{\"alignmentgroup\":\"True\",\"hovertemplate\":\"language=english\\u003cbr\\u003emodel_name=%{x}\\u003cbr\\u003eSICK_TALK=%{y}\\u003cextra\\u003e\\u003c\\u002fextra\\u003e\",\"legendgroup\":\"english\",\"marker\":{\"color\":\"#636efa\",\"pattern\":{\"shape\":\"\"}},\"name\":\"english\",\"offsetgroup\":\"english\",\"orientation\":\"v\",\"showlegend\":true,\"textposition\":\"auto\",\"x\":[\"bert-base-multilingual-cased\",\"bert-base-multilingual-uncased\",\"xlm-mlm-100-1280\",\"xlm-mlm-17-1280\",\"xlm-roberta-base\",\"xlm-roberta-large\"],\"xaxis\":\"x\",\"y\":[0.668041237113402,0.658869395711501,0.6641221374045801,0.7312252964426879,0.7276264591439688,0.4607329842931937],\"yaxis\":\"y\",\"type\":\"bar\"},{\"alignmentgroup\":\"True\",\"hovertemplate\":\"language=french\\u003cbr\\u003emodel_name=%{x}\\u003cbr\\u003eSICK_TALK=%{y}\\u003cextra\\u003e\\u003c\\u002fextra\\u003e\",\"legendgroup\":\"french\",\"marker\":{\"color\":\"#EF553B\",\"pattern\":{\"shape\":\"\"}},\"name\":\"french\",\"offsetgroup\":\"french\",\"orientation\":\"v\",\"showlegend\":true,\"textposition\":\"auto\",\"x\":[\"bert-base-multilingual-cased\",\"bert-base-multilingual-uncased\",\"xlm-mlm-100-1280\",\"xlm-mlm-17-1280\",\"xlm-roberta-base\",\"xlm-roberta-large\"],\"xaxis\":\"x\",\"y\":[0.77593984962406,0.834575260804769,0.7903114186851211,0.8046477850399419,0.8485714285714284,0.7509697439875872],\"yaxis\":\"y\",\"type\":\"bar\"},{\"alignmentgroup\":\"True\",\"hovertemplate\":\"language=german\\u003cbr\\u003emodel_name=%{x}\\u003cbr\\u003eSICK_TALK=%{y}\\u003cextra\\u003e\\u003c\\u002fextra\\u003e\",\"legendgroup\":\"german\",\"marker\":{\"color\":\"#00cc96\",\"pattern\":{\"shape\":\"\"}},\"name\":\"german\",\"offsetgroup\":\"german\",\"orientation\":\"v\",\"showlegend\":true,\"textposition\":\"auto\",\"x\":[\"bert-base-multilingual-cased\",\"bert-base-multilingual-uncased\",\"xlm-mlm-100-1280\",\"xlm-mlm-17-1280\",\"xlm-roberta-base\",\"xlm-roberta-large\"],\"xaxis\":\"x\",\"y\":[0.8656084656084656,0.8884165781083954,0.8651452282157677,0.8870116156282999,0.9150052465897167,0.9148264984227129],\"yaxis\":\"y\",\"type\":\"bar\"},{\"alignmentgroup\":\"True\",\"hovertemplate\":\"language=italian\\u003cbr\\u003emodel_name=%{x}\\u003cbr\\u003eSICK_TALK=%{y}\\u003cextra\\u003e\\u003c\\u002fextra\\u003e\",\"legendgroup\":\"italian\",\"marker\":{\"color\":\"#ab63fa\",\"pattern\":{\"shape\":\"\"}},\"name\":\"italian\",\"offsetgroup\":\"italian\",\"orientation\":\"v\",\"showlegend\":true,\"textposition\":\"auto\",\"x\":[\"bert-base-multilingual-cased\",\"bert-base-multilingual-uncased\",\"xlm-mlm-100-1280\",\"xlm-mlm-17-1280\",\"xlm-roberta-base\",\"xlm-roberta-large\"],\"xaxis\":\"x\",\"y\":[0.7422680412371134,0.8016359918200409,0.7647058823529411,0.8433268858800773,0.8627450980392158,0.24342105263157893],\"yaxis\":\"y\",\"type\":\"bar\"},{\"alignmentgroup\":\"True\",\"hovertemplate\":\"language=polish\\u003cbr\\u003emodel_name=%{x}\\u003cbr\\u003eSICK_TALK=%{y}\\u003cextra\\u003e\\u003c\\u002fextra\\u003e\",\"legendgroup\":\"polish\",\"marker\":{\"color\":\"#FFA15A\",\"pattern\":{\"shape\":\"\"}},\"name\":\"polish\",\"offsetgroup\":\"polish\",\"orientation\":\"v\",\"showlegend\":true,\"textposition\":\"auto\",\"x\":[\"bert-base-multilingual-cased\",\"bert-base-multilingual-uncased\",\"xlm-mlm-100-1280\",\"xlm-mlm-17-1280\",\"xlm-roberta-base\",\"xlm-roberta-large\"],\"xaxis\":\"x\",\"y\":[0.7203389830508474,0.7235494880546075,0.7241379310344829,0.7647058823529411,0.7483443708609272,0.0],\"yaxis\":\"y\",\"type\":\"bar\"},{\"alignmentgroup\":\"True\",\"hovertemplate\":\"language=spanish\\u003cbr\\u003emodel_name=%{x}\\u003cbr\\u003eSICK_TALK=%{y}\\u003cextra\\u003e\\u003c\\u002fextra\\u003e\",\"legendgroup\":\"spanish\",\"marker\":{\"color\":\"#19d3f3\",\"pattern\":{\"shape\":\"\"}},\"name\":\"spanish\",\"offsetgroup\":\"spanish\",\"orientation\":\"v\",\"showlegend\":true,\"textposition\":\"auto\",\"x\":[\"bert-base-multilingual-cased\",\"bert-base-multilingual-uncased\",\"xlm-mlm-100-1280\",\"xlm-mlm-17-1280\",\"xlm-roberta-base\",\"xlm-roberta-large\"],\"xaxis\":\"x\",\"y\":[0.77602523659306,0.8173652694610779,0.7723935389133627,0.8575624082232012,0.8744460856720827,0.5837837837837838],\"yaxis\":\"y\",\"type\":\"bar\"}],                        {\"template\":{\"data\":{\"histogram2dcontour\":[{\"type\":\"histogram2dcontour\",\"colorbar\":{\"outlinewidth\":0,\"ticks\":\"\"},\"colorscale\":[[0.0,\"#0d0887\"],[0.1111111111111111,\"#46039f\"],[0.2222222222222222,\"#7201a8\"],[0.3333333333333333,\"#9c179e\"],[0.4444444444444444,\"#bd3786\"],[0.5555555555555556,\"#d8576b\"],[0.6666666666666666,\"#ed7953\"],[0.7777777777777778,\"#fb9f3a\"],[0.8888888888888888,\"#fdca26\"],[1.0,\"#f0f921\"]]}],\"choropleth\":[{\"type\":\"choropleth\",\"colorbar\":{\"outlinewidth\":0,\"ticks\":\"\"}}],\"histogram2d\":[{\"type\":\"histogram2d\",\"colorbar\":{\"outlinewidth\":0,\"ticks\":\"\"},\"colorscale\":[[0.0,\"#0d0887\"],[0.1111111111111111,\"#46039f\"],[0.2222222222222222,\"#7201a8\"],[0.3333333333333333,\"#9c179e\"],[0.4444444444444444,\"#bd3786\"],[0.5555555555555556,\"#d8576b\"],[0.6666666666666666,\"#ed7953\"],[0.7777777777777778,\"#fb9f3a\"],[0.8888888888888888,\"#fdca26\"],[1.0,\"#f0f921\"]]}],\"heatmap\":[{\"type\":\"heatmap\",\"colorbar\":{\"outlinewidth\":0,\"ticks\":\"\"},\"colorscale\":[[0.0,\"#0d0887\"],[0.1111111111111111,\"#46039f\"],[0.2222222222222222,\"#7201a8\"],[0.3333333333333333,\"#9c179e\"],[0.4444444444444444,\"#bd3786\"],[0.5555555555555556,\"#d8576b\"],[0.6666666666666666,\"#ed7953\"],[0.7777777777777778,\"#fb9f3a\"],[0.8888888888888888,\"#fdca26\"],[1.0,\"#f0f921\"]]}],\"heatmapgl\":[{\"type\":\"heatmapgl\",\"colorbar\":{\"outlinewidth\":0,\"ticks\":\"\"},\"colorscale\":[[0.0,\"#0d0887\"],[0.1111111111111111,\"#46039f\"],[0.2222222222222222,\"#7201a8\"],[0.3333333333333333,\"#9c179e\"],[0.4444444444444444,\"#bd3786\"],[0.5555555555555556,\"#d8576b\"],[0.6666666666666666,\"#ed7953\"],[0.7777777777777778,\"#fb9f3a\"],[0.8888888888888888,\"#fdca26\"],[1.0,\"#f0f921\"]]}],\"contourcarpet\":[{\"type\":\"contourcarpet\",\"colorbar\":{\"outlinewidth\":0,\"ticks\":\"\"}}],\"contour\":[{\"type\":\"contour\",\"colorbar\":{\"outlinewidth\":0,\"ticks\":\"\"},\"colorscale\":[[0.0,\"#0d0887\"],[0.1111111111111111,\"#46039f\"],[0.2222222222222222,\"#7201a8\"],[0.3333333333333333,\"#9c179e\"],[0.4444444444444444,\"#bd3786\"],[0.5555555555555556,\"#d8576b\"],[0.6666666666666666,\"#ed7953\"],[0.7777777777777778,\"#fb9f3a\"],[0.8888888888888888,\"#fdca26\"],[1.0,\"#f0f921\"]]}],\"surface\":[{\"type\":\"surface\",\"colorbar\":{\"outlinewidth\":0,\"ticks\":\"\"},\"colorscale\":[[0.0,\"#0d0887\"],[0.1111111111111111,\"#46039f\"],[0.2222222222222222,\"#7201a8\"],[0.3333333333333333,\"#9c179e\"],[0.4444444444444444,\"#bd3786\"],[0.5555555555555556,\"#d8576b\"],[0.6666666666666666,\"#ed7953\"],[0.7777777777777778,\"#fb9f3a\"],[0.8888888888888888,\"#fdca26\"],[1.0,\"#f0f921\"]]}],\"mesh3d\":[{\"type\":\"mesh3d\",\"colorbar\":{\"outlinewidth\":0,\"ticks\":\"\"}}],\"scatter\":[{\"fillpattern\":{\"fillmode\":\"overlay\",\"size\":10,\"solidity\":0.2},\"type\":\"scatter\"}],\"parcoords\":[{\"type\":\"parcoords\",\"line\":{\"colorbar\":{\"outlinewidth\":0,\"ticks\":\"\"}}}],\"scatterpolargl\":[{\"type\":\"scatterpolargl\",\"marker\":{\"colorbar\":{\"outlinewidth\":0,\"ticks\":\"\"}}}],\"bar\":[{\"error_x\":{\"color\":\"#2a3f5f\"},\"error_y\":{\"color\":\"#2a3f5f\"},\"marker\":{\"line\":{\"color\":\"#E5ECF6\",\"width\":0.5},\"pattern\":{\"fillmode\":\"overlay\",\"size\":10,\"solidity\":0.2}},\"type\":\"bar\"}],\"scattergeo\":[{\"type\":\"scattergeo\",\"marker\":{\"colorbar\":{\"outlinewidth\":0,\"ticks\":\"\"}}}],\"scatterpolar\":[{\"type\":\"scatterpolar\",\"marker\":{\"colorbar\":{\"outlinewidth\":0,\"ticks\":\"\"}}}],\"histogram\":[{\"marker\":{\"pattern\":{\"fillmode\":\"overlay\",\"size\":10,\"solidity\":0.2}},\"type\":\"histogram\"}],\"scattergl\":[{\"type\":\"scattergl\",\"marker\":{\"colorbar\":{\"outlinewidth\":0,\"ticks\":\"\"}}}],\"scatter3d\":[{\"type\":\"scatter3d\",\"line\":{\"colorbar\":{\"outlinewidth\":0,\"ticks\":\"\"}},\"marker\":{\"colorbar\":{\"outlinewidth\":0,\"ticks\":\"\"}}}],\"scattermapbox\":[{\"type\":\"scattermapbox\",\"marker\":{\"colorbar\":{\"outlinewidth\":0,\"ticks\":\"\"}}}],\"scatterternary\":[{\"type\":\"scatterternary\",\"marker\":{\"colorbar\":{\"outlinewidth\":0,\"ticks\":\"\"}}}],\"scattercarpet\":[{\"type\":\"scattercarpet\",\"marker\":{\"colorbar\":{\"outlinewidth\":0,\"ticks\":\"\"}}}],\"carpet\":[{\"aaxis\":{\"endlinecolor\":\"#2a3f5f\",\"gridcolor\":\"white\",\"linecolor\":\"white\",\"minorgridcolor\":\"white\",\"startlinecolor\":\"#2a3f5f\"},\"baxis\":{\"endlinecolor\":\"#2a3f5f\",\"gridcolor\":\"white\",\"linecolor\":\"white\",\"minorgridcolor\":\"white\",\"startlinecolor\":\"#2a3f5f\"},\"type\":\"carpet\"}],\"table\":[{\"cells\":{\"fill\":{\"color\":\"#EBF0F8\"},\"line\":{\"color\":\"white\"}},\"header\":{\"fill\":{\"color\":\"#C8D4E3\"},\"line\":{\"color\":\"white\"}},\"type\":\"table\"}],\"barpolar\":[{\"marker\":{\"line\":{\"color\":\"#E5ECF6\",\"width\":0.5},\"pattern\":{\"fillmode\":\"overlay\",\"size\":10,\"solidity\":0.2}},\"type\":\"barpolar\"}],\"pie\":[{\"automargin\":true,\"type\":\"pie\"}]},\"layout\":{\"autotypenumbers\":\"strict\",\"colorway\":[\"#636efa\",\"#EF553B\",\"#00cc96\",\"#ab63fa\",\"#FFA15A\",\"#19d3f3\",\"#FF6692\",\"#B6E880\",\"#FF97FF\",\"#FECB52\"],\"font\":{\"color\":\"#2a3f5f\"},\"hovermode\":\"closest\",\"hoverlabel\":{\"align\":\"left\"},\"paper_bgcolor\":\"white\",\"plot_bgcolor\":\"#E5ECF6\",\"polar\":{\"bgcolor\":\"#E5ECF6\",\"angularaxis\":{\"gridcolor\":\"white\",\"linecolor\":\"white\",\"ticks\":\"\"},\"radialaxis\":{\"gridcolor\":\"white\",\"linecolor\":\"white\",\"ticks\":\"\"}},\"ternary\":{\"bgcolor\":\"#E5ECF6\",\"aaxis\":{\"gridcolor\":\"white\",\"linecolor\":\"white\",\"ticks\":\"\"},\"baxis\":{\"gridcolor\":\"white\",\"linecolor\":\"white\",\"ticks\":\"\"},\"caxis\":{\"gridcolor\":\"white\",\"linecolor\":\"white\",\"ticks\":\"\"}},\"coloraxis\":{\"colorbar\":{\"outlinewidth\":0,\"ticks\":\"\"}},\"colorscale\":{\"sequential\":[[0.0,\"#0d0887\"],[0.1111111111111111,\"#46039f\"],[0.2222222222222222,\"#7201a8\"],[0.3333333333333333,\"#9c179e\"],[0.4444444444444444,\"#bd3786\"],[0.5555555555555556,\"#d8576b\"],[0.6666666666666666,\"#ed7953\"],[0.7777777777777778,\"#fb9f3a\"],[0.8888888888888888,\"#fdca26\"],[1.0,\"#f0f921\"]],\"sequentialminus\":[[0.0,\"#0d0887\"],[0.1111111111111111,\"#46039f\"],[0.2222222222222222,\"#7201a8\"],[0.3333333333333333,\"#9c179e\"],[0.4444444444444444,\"#bd3786\"],[0.5555555555555556,\"#d8576b\"],[0.6666666666666666,\"#ed7953\"],[0.7777777777777778,\"#fb9f3a\"],[0.8888888888888888,\"#fdca26\"],[1.0,\"#f0f921\"]],\"diverging\":[[0,\"#8e0152\"],[0.1,\"#c51b7d\"],[0.2,\"#de77ae\"],[0.3,\"#f1b6da\"],[0.4,\"#fde0ef\"],[0.5,\"#f7f7f7\"],[0.6,\"#e6f5d0\"],[0.7,\"#b8e186\"],[0.8,\"#7fbc41\"],[0.9,\"#4d9221\"],[1,\"#276419\"]]},\"xaxis\":{\"gridcolor\":\"white\",\"linecolor\":\"white\",\"ticks\":\"\",\"title\":{\"standoff\":15},\"zerolinecolor\":\"white\",\"automargin\":true,\"zerolinewidth\":2},\"yaxis\":{\"gridcolor\":\"white\",\"linecolor\":\"white\",\"ticks\":\"\",\"title\":{\"standoff\":15},\"zerolinecolor\":\"white\",\"automargin\":true,\"zerolinewidth\":2},\"scene\":{\"xaxis\":{\"backgroundcolor\":\"#E5ECF6\",\"gridcolor\":\"white\",\"linecolor\":\"white\",\"showbackground\":true,\"ticks\":\"\",\"zerolinecolor\":\"white\",\"gridwidth\":2},\"yaxis\":{\"backgroundcolor\":\"#E5ECF6\",\"gridcolor\":\"white\",\"linecolor\":\"white\",\"showbackground\":true,\"ticks\":\"\",\"zerolinecolor\":\"white\",\"gridwidth\":2},\"zaxis\":{\"backgroundcolor\":\"#E5ECF6\",\"gridcolor\":\"white\",\"linecolor\":\"white\",\"showbackground\":true,\"ticks\":\"\",\"zerolinecolor\":\"white\",\"gridwidth\":2}},\"shapedefaults\":{\"line\":{\"color\":\"#2a3f5f\"}},\"annotationdefaults\":{\"arrowcolor\":\"#2a3f5f\",\"arrowhead\":0,\"arrowwidth\":1},\"geo\":{\"bgcolor\":\"white\",\"landcolor\":\"#E5ECF6\",\"subunitcolor\":\"white\",\"showland\":true,\"showlakes\":true,\"lakecolor\":\"white\"},\"title\":{\"x\":0.05},\"mapbox\":{\"style\":\"light\"}}},\"xaxis\":{\"anchor\":\"y\",\"domain\":[0.0,1.0],\"title\":{\"text\":\"model_name\"}},\"yaxis\":{\"anchor\":\"x\",\"domain\":[0.0,1.0],\"title\":{\"text\":\"SICK_TALK\"}},\"legend\":{\"title\":{\"text\":\"language\"},\"tracegroupgap\":0},\"margin\":{\"t\":60},\"barmode\":\"group\"},                        {\"responsive\": true}                    ).then(function(){\n",
       "                            \n",
       "var gd = document.getElementById('5ae61c33-2d5b-4f59-9a2b-cb21a6a5c87b');\n",
       "var x = new MutationObserver(function (mutations, observer) {{\n",
       "        var display = window.getComputedStyle(gd).display;\n",
       "        if (!display || display === 'none') {{\n",
       "            console.log([gd, 'removed!']);\n",
       "            Plotly.purge(gd);\n",
       "            observer.disconnect();\n",
       "        }}\n",
       "}});\n",
       "\n",
       "// Listen for the removal of the full notebook cells\n",
       "var notebookContainer = gd.closest('#notebook-container');\n",
       "if (notebookContainer) {{\n",
       "    x.observe(notebookContainer, {childList: true});\n",
       "}}\n",
       "\n",
       "// Listen for the clearing of the current output cell\n",
       "var outputEl = gd.closest('.output');\n",
       "if (outputEl) {{\n",
       "    x.observe(outputEl, {childList: true});\n",
       "}}\n",
       "\n",
       "                        })                };                });            </script>        </div>"
      ]
     },
     "metadata": {},
     "output_type": "display_data"
    }
   ],
   "source": [
    "import plotly_express as px\n",
    "px.bar(f1,\n",
    "       x=\"model_name\",\n",
    "       y=\"SICK_TALK\",\n",
    "       color=\"language\",\n",
    "       barmode=\"group\")\n"
   ]
  },
  {
   "cell_type": "code",
   "execution_count": 79,
   "id": "c7c2da15-89bc-4c21-8930-fdd6245eee1f",
   "metadata": {},
   "outputs": [
    {
     "data": {
      "application/vnd.plotly.v1+json": {
       "config": {
        "plotlyServerURL": "https://plot.ly"
       },
       "data": [
        {
         "alignmentgroup": "True",
         "hovertemplate": "language=english<br>category=HEALTHY_TALK<br>model_name=%{x}<br>F1=%{y}<extra></extra>",
         "legendgroup": "english",
         "marker": {
          "color": "#636efa",
          "pattern": {
           "shape": ""
          }
         },
         "name": "english",
         "offsetgroup": "english",
         "orientation": "v",
         "showlegend": true,
         "textposition": "auto",
         "type": "bar",
         "x": [
          "bert-base-multilingual-cased",
          "bert-base-multilingual-uncased",
          "xlm-mlm-100-1280",
          "xlm-mlm-17-1280",
          "xlm-roberta-base",
          "xlm-roberta-large"
         ],
         "xaxis": "x2",
         "y": [
          0.6824457593688364,
          0.6346555323590815,
          0.6239316239316239,
          0.720164609053498,
          0.7071129707112971,
          0.6622950819672131
         ],
         "yaxis": "y2"
        },
        {
         "alignmentgroup": "True",
         "hovertemplate": "language=english<br>category=SICK_TALK<br>model_name=%{x}<br>F1=%{y}<extra></extra>",
         "legendgroup": "english",
         "marker": {
          "color": "#636efa",
          "pattern": {
           "shape": ""
          }
         },
         "name": "english",
         "offsetgroup": "english",
         "orientation": "v",
         "showlegend": false,
         "textposition": "auto",
         "type": "bar",
         "x": [
          "bert-base-multilingual-cased",
          "bert-base-multilingual-uncased",
          "xlm-mlm-100-1280",
          "xlm-mlm-17-1280",
          "xlm-roberta-base",
          "xlm-roberta-large"
         ],
         "xaxis": "x",
         "y": [
          0.668041237113402,
          0.658869395711501,
          0.6641221374045801,
          0.7312252964426879,
          0.7276264591439688,
          0.4607329842931937
         ],
         "yaxis": "y"
        },
        {
         "alignmentgroup": "True",
         "hovertemplate": "language=french<br>category=HEALTHY_TALK<br>model_name=%{x}<br>F1=%{y}<extra></extra>",
         "legendgroup": "french",
         "marker": {
          "color": "#EF553B",
          "pattern": {
           "shape": ""
          }
         },
         "name": "french",
         "offsetgroup": "french",
         "orientation": "v",
         "showlegend": true,
         "textposition": "auto",
         "type": "bar",
         "x": [
          "bert-base-multilingual-cased",
          "bert-base-multilingual-uncased",
          "xlm-mlm-100-1280",
          "xlm-mlm-17-1280",
          "xlm-roberta-base",
          "xlm-roberta-large"
         ],
         "xaxis": "x2",
         "y": [
          0.7631160572337042,
          0.8218298555377207,
          0.7349081364829397,
          0.777869529314616,
          0.8215488215488216,
          0.7528868360277136
         ],
         "yaxis": "y2"
        },
        {
         "alignmentgroup": "True",
         "hovertemplate": "language=french<br>category=SICK_TALK<br>model_name=%{x}<br>F1=%{y}<extra></extra>",
         "legendgroup": "french",
         "marker": {
          "color": "#EF553B",
          "pattern": {
           "shape": ""
          }
         },
         "name": "french",
         "offsetgroup": "french",
         "orientation": "v",
         "showlegend": false,
         "textposition": "auto",
         "type": "bar",
         "x": [
          "bert-base-multilingual-cased",
          "bert-base-multilingual-uncased",
          "xlm-mlm-100-1280",
          "xlm-mlm-17-1280",
          "xlm-roberta-base",
          "xlm-roberta-large"
         ],
         "xaxis": "x",
         "y": [
          0.77593984962406,
          0.834575260804769,
          0.7903114186851211,
          0.8046477850399419,
          0.8485714285714284,
          0.7509697439875872
         ],
         "yaxis": "y"
        },
        {
         "alignmentgroup": "True",
         "hovertemplate": "language=german<br>category=HEALTHY_TALK<br>model_name=%{x}<br>F1=%{y}<extra></extra>",
         "legendgroup": "german",
         "marker": {
          "color": "#00cc96",
          "pattern": {
           "shape": ""
          }
         },
         "name": "german",
         "offsetgroup": "german",
         "orientation": "v",
         "showlegend": true,
         "textposition": "auto",
         "type": "bar",
         "x": [
          "bert-base-multilingual-cased",
          "bert-base-multilingual-uncased",
          "xlm-mlm-100-1280",
          "xlm-mlm-17-1280",
          "xlm-roberta-base",
          "xlm-roberta-large"
         ],
         "xaxis": "x2",
         "y": [
          0.8574635241301908,
          0.8826815642458099,
          0.8509174311926606,
          0.8796400449943758,
          0.9082672706681767,
          0.9084745762711863
         ],
         "yaxis": "y2"
        },
        {
         "alignmentgroup": "True",
         "hovertemplate": "language=german<br>category=SICK_TALK<br>model_name=%{x}<br>F1=%{y}<extra></extra>",
         "legendgroup": "german",
         "marker": {
          "color": "#00cc96",
          "pattern": {
           "shape": ""
          }
         },
         "name": "german",
         "offsetgroup": "german",
         "orientation": "v",
         "showlegend": false,
         "textposition": "auto",
         "type": "bar",
         "x": [
          "bert-base-multilingual-cased",
          "bert-base-multilingual-uncased",
          "xlm-mlm-100-1280",
          "xlm-mlm-17-1280",
          "xlm-roberta-base",
          "xlm-roberta-large"
         ],
         "xaxis": "x",
         "y": [
          0.8656084656084656,
          0.8884165781083954,
          0.8651452282157677,
          0.8870116156282999,
          0.9150052465897167,
          0.9148264984227129
         ],
         "yaxis": "y"
        },
        {
         "alignmentgroup": "True",
         "hovertemplate": "language=italian<br>category=HEALTHY_TALK<br>model_name=%{x}<br>F1=%{y}<extra></extra>",
         "legendgroup": "italian",
         "marker": {
          "color": "#ab63fa",
          "pattern": {
           "shape": ""
          }
         },
         "name": "italian",
         "offsetgroup": "italian",
         "orientation": "v",
         "showlegend": true,
         "textposition": "auto",
         "type": "bar",
         "x": [
          "bert-base-multilingual-cased",
          "bert-base-multilingual-uncased",
          "xlm-mlm-100-1280",
          "xlm-mlm-17-1280",
          "xlm-roberta-base",
          "xlm-roberta-large"
         ],
         "xaxis": "x2",
         "y": [
          0.7553816046966731,
          0.8086785009861933,
          0.7530864197530864,
          0.8308977035490606,
          0.8559670781893003,
          0.6676300578034682
         ],
         "yaxis": "y2"
        },
        {
         "alignmentgroup": "True",
         "hovertemplate": "language=italian<br>category=SICK_TALK<br>model_name=%{x}<br>F1=%{y}<extra></extra>",
         "legendgroup": "italian",
         "marker": {
          "color": "#ab63fa",
          "pattern": {
           "shape": ""
          }
         },
         "name": "italian",
         "offsetgroup": "italian",
         "orientation": "v",
         "showlegend": false,
         "textposition": "auto",
         "type": "bar",
         "x": [
          "bert-base-multilingual-cased",
          "bert-base-multilingual-uncased",
          "xlm-mlm-100-1280",
          "xlm-mlm-17-1280",
          "xlm-roberta-base",
          "xlm-roberta-large"
         ],
         "xaxis": "x",
         "y": [
          0.7422680412371134,
          0.8016359918200409,
          0.7647058823529411,
          0.8433268858800773,
          0.8627450980392158,
          0.24342105263157893
         ],
         "yaxis": "y"
        },
        {
         "alignmentgroup": "True",
         "hovertemplate": "language=polish<br>category=HEALTHY_TALK<br>model_name=%{x}<br>F1=%{y}<extra></extra>",
         "legendgroup": "polish",
         "marker": {
          "color": "#FFA15A",
          "pattern": {
           "shape": ""
          }
         },
         "name": "polish",
         "offsetgroup": "polish",
         "orientation": "v",
         "showlegend": true,
         "textposition": "auto",
         "type": "bar",
         "x": [
          "bert-base-multilingual-cased",
          "bert-base-multilingual-uncased",
          "xlm-mlm-100-1280",
          "xlm-mlm-17-1280",
          "xlm-roberta-base",
          "xlm-roberta-large"
         ],
         "xaxis": "x2",
         "y": [
          0.7676056338028169,
          0.6431718061674009,
          0.6521739130434783,
          0.7419354838709677,
          0.6513761467889908,
          0.6666666666666666
         ],
         "yaxis": "y2"
        },
        {
         "alignmentgroup": "True",
         "hovertemplate": "language=polish<br>category=SICK_TALK<br>model_name=%{x}<br>F1=%{y}<extra></extra>",
         "legendgroup": "polish",
         "marker": {
          "color": "#FFA15A",
          "pattern": {
           "shape": ""
          }
         },
         "name": "polish",
         "offsetgroup": "polish",
         "orientation": "v",
         "showlegend": false,
         "textposition": "auto",
         "type": "bar",
         "x": [
          "bert-base-multilingual-cased",
          "bert-base-multilingual-uncased",
          "xlm-mlm-100-1280",
          "xlm-mlm-17-1280",
          "xlm-roberta-base",
          "xlm-roberta-large"
         ],
         "xaxis": "x",
         "y": [
          0.7203389830508474,
          0.7235494880546075,
          0.7241379310344829,
          0.7647058823529411,
          0.7483443708609272,
          0
         ],
         "yaxis": "y"
        },
        {
         "alignmentgroup": "True",
         "hovertemplate": "language=spanish<br>category=HEALTHY_TALK<br>model_name=%{x}<br>F1=%{y}<extra></extra>",
         "legendgroup": "spanish",
         "marker": {
          "color": "#19d3f3",
          "pattern": {
           "shape": ""
          }
         },
         "name": "spanish",
         "offsetgroup": "spanish",
         "orientation": "v",
         "showlegend": true,
         "textposition": "auto",
         "type": "bar",
         "x": [
          "bert-base-multilingual-cased",
          "bert-base-multilingual-uncased",
          "xlm-mlm-100-1280",
          "xlm-mlm-17-1280",
          "xlm-roberta-base",
          "xlm-roberta-large"
         ],
         "xaxis": "x2",
         "y": [
          0.7942028985507247,
          0.8140243902439025,
          0.7589424572317264,
          0.849144634525661,
          0.8686244204018547,
          0.6996098829648895
         ],
         "yaxis": "y2"
        },
        {
         "alignmentgroup": "True",
         "hovertemplate": "language=spanish<br>category=SICK_TALK<br>model_name=%{x}<br>F1=%{y}<extra></extra>",
         "legendgroup": "spanish",
         "marker": {
          "color": "#19d3f3",
          "pattern": {
           "shape": ""
          }
         },
         "name": "spanish",
         "offsetgroup": "spanish",
         "orientation": "v",
         "showlegend": false,
         "textposition": "auto",
         "type": "bar",
         "x": [
          "bert-base-multilingual-cased",
          "bert-base-multilingual-uncased",
          "xlm-mlm-100-1280",
          "xlm-mlm-17-1280",
          "xlm-roberta-base",
          "xlm-roberta-large"
         ],
         "xaxis": "x",
         "y": [
          0.77602523659306,
          0.8173652694610779,
          0.7723935389133627,
          0.8575624082232012,
          0.8744460856720827,
          0.5837837837837838
         ],
         "yaxis": "y"
        }
       ],
       "layout": {
        "annotations": [
         {
          "font": {},
          "showarrow": false,
          "text": "category=SICK_TALK",
          "textangle": 90,
          "x": 0.98,
          "xanchor": "left",
          "xref": "paper",
          "y": 0.2425,
          "yanchor": "middle",
          "yref": "paper"
         },
         {
          "font": {},
          "showarrow": false,
          "text": "category=HEALTHY_TALK",
          "textangle": 90,
          "x": 0.98,
          "xanchor": "left",
          "xref": "paper",
          "y": 0.7575000000000001,
          "yanchor": "middle",
          "yref": "paper"
         }
        ],
        "autosize": true,
        "barmode": "group",
        "legend": {
         "title": {
          "text": "language"
         },
         "tracegroupgap": 0
        },
        "margin": {
         "t": 60
        },
        "template": {
         "data": {
          "bar": [
           {
            "error_x": {
             "color": "#2a3f5f"
            },
            "error_y": {
             "color": "#2a3f5f"
            },
            "marker": {
             "line": {
              "color": "#E5ECF6",
              "width": 0.5
             },
             "pattern": {
              "fillmode": "overlay",
              "size": 10,
              "solidity": 0.2
             }
            },
            "type": "bar"
           }
          ],
          "barpolar": [
           {
            "marker": {
             "line": {
              "color": "#E5ECF6",
              "width": 0.5
             },
             "pattern": {
              "fillmode": "overlay",
              "size": 10,
              "solidity": 0.2
             }
            },
            "type": "barpolar"
           }
          ],
          "carpet": [
           {
            "aaxis": {
             "endlinecolor": "#2a3f5f",
             "gridcolor": "white",
             "linecolor": "white",
             "minorgridcolor": "white",
             "startlinecolor": "#2a3f5f"
            },
            "baxis": {
             "endlinecolor": "#2a3f5f",
             "gridcolor": "white",
             "linecolor": "white",
             "minorgridcolor": "white",
             "startlinecolor": "#2a3f5f"
            },
            "type": "carpet"
           }
          ],
          "choropleth": [
           {
            "colorbar": {
             "outlinewidth": 0,
             "ticks": ""
            },
            "type": "choropleth"
           }
          ],
          "contour": [
           {
            "colorbar": {
             "outlinewidth": 0,
             "ticks": ""
            },
            "colorscale": [
             [
              0,
              "#0d0887"
             ],
             [
              0.1111111111111111,
              "#46039f"
             ],
             [
              0.2222222222222222,
              "#7201a8"
             ],
             [
              0.3333333333333333,
              "#9c179e"
             ],
             [
              0.4444444444444444,
              "#bd3786"
             ],
             [
              0.5555555555555556,
              "#d8576b"
             ],
             [
              0.6666666666666666,
              "#ed7953"
             ],
             [
              0.7777777777777778,
              "#fb9f3a"
             ],
             [
              0.8888888888888888,
              "#fdca26"
             ],
             [
              1,
              "#f0f921"
             ]
            ],
            "type": "contour"
           }
          ],
          "contourcarpet": [
           {
            "colorbar": {
             "outlinewidth": 0,
             "ticks": ""
            },
            "type": "contourcarpet"
           }
          ],
          "heatmap": [
           {
            "colorbar": {
             "outlinewidth": 0,
             "ticks": ""
            },
            "colorscale": [
             [
              0,
              "#0d0887"
             ],
             [
              0.1111111111111111,
              "#46039f"
             ],
             [
              0.2222222222222222,
              "#7201a8"
             ],
             [
              0.3333333333333333,
              "#9c179e"
             ],
             [
              0.4444444444444444,
              "#bd3786"
             ],
             [
              0.5555555555555556,
              "#d8576b"
             ],
             [
              0.6666666666666666,
              "#ed7953"
             ],
             [
              0.7777777777777778,
              "#fb9f3a"
             ],
             [
              0.8888888888888888,
              "#fdca26"
             ],
             [
              1,
              "#f0f921"
             ]
            ],
            "type": "heatmap"
           }
          ],
          "heatmapgl": [
           {
            "colorbar": {
             "outlinewidth": 0,
             "ticks": ""
            },
            "colorscale": [
             [
              0,
              "#0d0887"
             ],
             [
              0.1111111111111111,
              "#46039f"
             ],
             [
              0.2222222222222222,
              "#7201a8"
             ],
             [
              0.3333333333333333,
              "#9c179e"
             ],
             [
              0.4444444444444444,
              "#bd3786"
             ],
             [
              0.5555555555555556,
              "#d8576b"
             ],
             [
              0.6666666666666666,
              "#ed7953"
             ],
             [
              0.7777777777777778,
              "#fb9f3a"
             ],
             [
              0.8888888888888888,
              "#fdca26"
             ],
             [
              1,
              "#f0f921"
             ]
            ],
            "type": "heatmapgl"
           }
          ],
          "histogram": [
           {
            "marker": {
             "pattern": {
              "fillmode": "overlay",
              "size": 10,
              "solidity": 0.2
             }
            },
            "type": "histogram"
           }
          ],
          "histogram2d": [
           {
            "colorbar": {
             "outlinewidth": 0,
             "ticks": ""
            },
            "colorscale": [
             [
              0,
              "#0d0887"
             ],
             [
              0.1111111111111111,
              "#46039f"
             ],
             [
              0.2222222222222222,
              "#7201a8"
             ],
             [
              0.3333333333333333,
              "#9c179e"
             ],
             [
              0.4444444444444444,
              "#bd3786"
             ],
             [
              0.5555555555555556,
              "#d8576b"
             ],
             [
              0.6666666666666666,
              "#ed7953"
             ],
             [
              0.7777777777777778,
              "#fb9f3a"
             ],
             [
              0.8888888888888888,
              "#fdca26"
             ],
             [
              1,
              "#f0f921"
             ]
            ],
            "type": "histogram2d"
           }
          ],
          "histogram2dcontour": [
           {
            "colorbar": {
             "outlinewidth": 0,
             "ticks": ""
            },
            "colorscale": [
             [
              0,
              "#0d0887"
             ],
             [
              0.1111111111111111,
              "#46039f"
             ],
             [
              0.2222222222222222,
              "#7201a8"
             ],
             [
              0.3333333333333333,
              "#9c179e"
             ],
             [
              0.4444444444444444,
              "#bd3786"
             ],
             [
              0.5555555555555556,
              "#d8576b"
             ],
             [
              0.6666666666666666,
              "#ed7953"
             ],
             [
              0.7777777777777778,
              "#fb9f3a"
             ],
             [
              0.8888888888888888,
              "#fdca26"
             ],
             [
              1,
              "#f0f921"
             ]
            ],
            "type": "histogram2dcontour"
           }
          ],
          "mesh3d": [
           {
            "colorbar": {
             "outlinewidth": 0,
             "ticks": ""
            },
            "type": "mesh3d"
           }
          ],
          "parcoords": [
           {
            "line": {
             "colorbar": {
              "outlinewidth": 0,
              "ticks": ""
             }
            },
            "type": "parcoords"
           }
          ],
          "pie": [
           {
            "automargin": true,
            "type": "pie"
           }
          ],
          "scatter": [
           {
            "fillpattern": {
             "fillmode": "overlay",
             "size": 10,
             "solidity": 0.2
            },
            "type": "scatter"
           }
          ],
          "scatter3d": [
           {
            "line": {
             "colorbar": {
              "outlinewidth": 0,
              "ticks": ""
             }
            },
            "marker": {
             "colorbar": {
              "outlinewidth": 0,
              "ticks": ""
             }
            },
            "type": "scatter3d"
           }
          ],
          "scattercarpet": [
           {
            "marker": {
             "colorbar": {
              "outlinewidth": 0,
              "ticks": ""
             }
            },
            "type": "scattercarpet"
           }
          ],
          "scattergeo": [
           {
            "marker": {
             "colorbar": {
              "outlinewidth": 0,
              "ticks": ""
             }
            },
            "type": "scattergeo"
           }
          ],
          "scattergl": [
           {
            "marker": {
             "colorbar": {
              "outlinewidth": 0,
              "ticks": ""
             }
            },
            "type": "scattergl"
           }
          ],
          "scattermapbox": [
           {
            "marker": {
             "colorbar": {
              "outlinewidth": 0,
              "ticks": ""
             }
            },
            "type": "scattermapbox"
           }
          ],
          "scatterpolar": [
           {
            "marker": {
             "colorbar": {
              "outlinewidth": 0,
              "ticks": ""
             }
            },
            "type": "scatterpolar"
           }
          ],
          "scatterpolargl": [
           {
            "marker": {
             "colorbar": {
              "outlinewidth": 0,
              "ticks": ""
             }
            },
            "type": "scatterpolargl"
           }
          ],
          "scatterternary": [
           {
            "marker": {
             "colorbar": {
              "outlinewidth": 0,
              "ticks": ""
             }
            },
            "type": "scatterternary"
           }
          ],
          "surface": [
           {
            "colorbar": {
             "outlinewidth": 0,
             "ticks": ""
            },
            "colorscale": [
             [
              0,
              "#0d0887"
             ],
             [
              0.1111111111111111,
              "#46039f"
             ],
             [
              0.2222222222222222,
              "#7201a8"
             ],
             [
              0.3333333333333333,
              "#9c179e"
             ],
             [
              0.4444444444444444,
              "#bd3786"
             ],
             [
              0.5555555555555556,
              "#d8576b"
             ],
             [
              0.6666666666666666,
              "#ed7953"
             ],
             [
              0.7777777777777778,
              "#fb9f3a"
             ],
             [
              0.8888888888888888,
              "#fdca26"
             ],
             [
              1,
              "#f0f921"
             ]
            ],
            "type": "surface"
           }
          ],
          "table": [
           {
            "cells": {
             "fill": {
              "color": "#EBF0F8"
             },
             "line": {
              "color": "white"
             }
            },
            "header": {
             "fill": {
              "color": "#C8D4E3"
             },
             "line": {
              "color": "white"
             }
            },
            "type": "table"
           }
          ]
         },
         "layout": {
          "annotationdefaults": {
           "arrowcolor": "#2a3f5f",
           "arrowhead": 0,
           "arrowwidth": 1
          },
          "autotypenumbers": "strict",
          "coloraxis": {
           "colorbar": {
            "outlinewidth": 0,
            "ticks": ""
           }
          },
          "colorscale": {
           "diverging": [
            [
             0,
             "#8e0152"
            ],
            [
             0.1,
             "#c51b7d"
            ],
            [
             0.2,
             "#de77ae"
            ],
            [
             0.3,
             "#f1b6da"
            ],
            [
             0.4,
             "#fde0ef"
            ],
            [
             0.5,
             "#f7f7f7"
            ],
            [
             0.6,
             "#e6f5d0"
            ],
            [
             0.7,
             "#b8e186"
            ],
            [
             0.8,
             "#7fbc41"
            ],
            [
             0.9,
             "#4d9221"
            ],
            [
             1,
             "#276419"
            ]
           ],
           "sequential": [
            [
             0,
             "#0d0887"
            ],
            [
             0.1111111111111111,
             "#46039f"
            ],
            [
             0.2222222222222222,
             "#7201a8"
            ],
            [
             0.3333333333333333,
             "#9c179e"
            ],
            [
             0.4444444444444444,
             "#bd3786"
            ],
            [
             0.5555555555555556,
             "#d8576b"
            ],
            [
             0.6666666666666666,
             "#ed7953"
            ],
            [
             0.7777777777777778,
             "#fb9f3a"
            ],
            [
             0.8888888888888888,
             "#fdca26"
            ],
            [
             1,
             "#f0f921"
            ]
           ],
           "sequentialminus": [
            [
             0,
             "#0d0887"
            ],
            [
             0.1111111111111111,
             "#46039f"
            ],
            [
             0.2222222222222222,
             "#7201a8"
            ],
            [
             0.3333333333333333,
             "#9c179e"
            ],
            [
             0.4444444444444444,
             "#bd3786"
            ],
            [
             0.5555555555555556,
             "#d8576b"
            ],
            [
             0.6666666666666666,
             "#ed7953"
            ],
            [
             0.7777777777777778,
             "#fb9f3a"
            ],
            [
             0.8888888888888888,
             "#fdca26"
            ],
            [
             1,
             "#f0f921"
            ]
           ]
          },
          "colorway": [
           "#636efa",
           "#EF553B",
           "#00cc96",
           "#ab63fa",
           "#FFA15A",
           "#19d3f3",
           "#FF6692",
           "#B6E880",
           "#FF97FF",
           "#FECB52"
          ],
          "font": {
           "color": "#2a3f5f"
          },
          "geo": {
           "bgcolor": "white",
           "lakecolor": "white",
           "landcolor": "#E5ECF6",
           "showlakes": true,
           "showland": true,
           "subunitcolor": "white"
          },
          "hoverlabel": {
           "align": "left"
          },
          "hovermode": "closest",
          "mapbox": {
           "style": "light"
          },
          "paper_bgcolor": "white",
          "plot_bgcolor": "#E5ECF6",
          "polar": {
           "angularaxis": {
            "gridcolor": "white",
            "linecolor": "white",
            "ticks": ""
           },
           "bgcolor": "#E5ECF6",
           "radialaxis": {
            "gridcolor": "white",
            "linecolor": "white",
            "ticks": ""
           }
          },
          "scene": {
           "xaxis": {
            "backgroundcolor": "#E5ECF6",
            "gridcolor": "white",
            "gridwidth": 2,
            "linecolor": "white",
            "showbackground": true,
            "ticks": "",
            "zerolinecolor": "white"
           },
           "yaxis": {
            "backgroundcolor": "#E5ECF6",
            "gridcolor": "white",
            "gridwidth": 2,
            "linecolor": "white",
            "showbackground": true,
            "ticks": "",
            "zerolinecolor": "white"
           },
           "zaxis": {
            "backgroundcolor": "#E5ECF6",
            "gridcolor": "white",
            "gridwidth": 2,
            "linecolor": "white",
            "showbackground": true,
            "ticks": "",
            "zerolinecolor": "white"
           }
          },
          "shapedefaults": {
           "line": {
            "color": "#2a3f5f"
           }
          },
          "ternary": {
           "aaxis": {
            "gridcolor": "white",
            "linecolor": "white",
            "ticks": ""
           },
           "baxis": {
            "gridcolor": "white",
            "linecolor": "white",
            "ticks": ""
           },
           "bgcolor": "#E5ECF6",
           "caxis": {
            "gridcolor": "white",
            "linecolor": "white",
            "ticks": ""
           }
          },
          "title": {
           "x": 0.05
          },
          "xaxis": {
           "automargin": true,
           "gridcolor": "white",
           "linecolor": "white",
           "ticks": "",
           "title": {
            "standoff": 15
           },
           "zerolinecolor": "white",
           "zerolinewidth": 2
          },
          "yaxis": {
           "automargin": true,
           "gridcolor": "white",
           "linecolor": "white",
           "ticks": "",
           "title": {
            "standoff": 15
           },
           "zerolinecolor": "white",
           "zerolinewidth": 2
          }
         }
        },
        "xaxis": {
         "anchor": "y",
         "autorange": true,
         "domain": [
          0,
          0.98
         ],
         "range": [
          -0.5,
          5.5
         ],
         "title": {
          "text": "model_name"
         },
         "type": "category"
        },
        "xaxis2": {
         "anchor": "y2",
         "autorange": true,
         "domain": [
          0,
          0.98
         ],
         "matches": "x",
         "range": [
          -0.5,
          5.5
         ],
         "showticklabels": false,
         "type": "category"
        },
        "yaxis": {
         "anchor": "x",
         "autorange": true,
         "domain": [
          0,
          0.485
         ],
         "range": [
          0,
          0.9631634174628597
         ],
         "title": {
          "text": "F1"
         },
         "type": "linear"
        },
        "yaxis2": {
         "anchor": "x2",
         "autorange": true,
         "domain": [
          0.515,
          1
         ],
         "matches": "y",
         "range": [
          0,
          0.9631634174628597
         ],
         "title": {
          "text": "F1"
         },
         "type": "linear"
        }
       }
      },
      "image/png": "[encoded data removed]",
      "text/html": [
       "<div>                            <div id=\"fb0a1858-84dc-4526-b9a6-358201657e81\" class=\"plotly-graph-div\" style=\"height:525px; width:100%;\"></div>            <script type=\"text/javascript\">                require([\"plotly\"], function(Plotly) {                    window.PLOTLYENV=window.PLOTLYENV || {};                                    if (document.getElementById(\"fb0a1858-84dc-4526-b9a6-358201657e81\")) {                    Plotly.newPlot(                        \"fb0a1858-84dc-4526-b9a6-358201657e81\",                        [{\"alignmentgroup\":\"True\",\"hovertemplate\":\"language=english\\u003cbr\\u003ecategory=HEALTHY_TALK\\u003cbr\\u003emodel_name=%{x}\\u003cbr\\u003eF1=%{y}\\u003cextra\\u003e\\u003c\\u002fextra\\u003e\",\"legendgroup\":\"english\",\"marker\":{\"color\":\"#636efa\",\"pattern\":{\"shape\":\"\"}},\"name\":\"english\",\"offsetgroup\":\"english\",\"orientation\":\"v\",\"showlegend\":true,\"textposition\":\"auto\",\"x\":[\"bert-base-multilingual-cased\",\"bert-base-multilingual-uncased\",\"xlm-mlm-100-1280\",\"xlm-mlm-17-1280\",\"xlm-roberta-base\",\"xlm-roberta-large\"],\"xaxis\":\"x2\",\"y\":[0.6824457593688364,0.6346555323590815,0.6239316239316239,0.720164609053498,0.7071129707112971,0.6622950819672131],\"yaxis\":\"y2\",\"type\":\"bar\"},{\"alignmentgroup\":\"True\",\"hovertemplate\":\"language=english\\u003cbr\\u003ecategory=SICK_TALK\\u003cbr\\u003emodel_name=%{x}\\u003cbr\\u003eF1=%{y}\\u003cextra\\u003e\\u003c\\u002fextra\\u003e\",\"legendgroup\":\"english\",\"marker\":{\"color\":\"#636efa\",\"pattern\":{\"shape\":\"\"}},\"name\":\"english\",\"offsetgroup\":\"english\",\"orientation\":\"v\",\"showlegend\":false,\"textposition\":\"auto\",\"x\":[\"bert-base-multilingual-cased\",\"bert-base-multilingual-uncased\",\"xlm-mlm-100-1280\",\"xlm-mlm-17-1280\",\"xlm-roberta-base\",\"xlm-roberta-large\"],\"xaxis\":\"x\",\"y\":[0.668041237113402,0.658869395711501,0.6641221374045801,0.7312252964426879,0.7276264591439688,0.4607329842931937],\"yaxis\":\"y\",\"type\":\"bar\"},{\"alignmentgroup\":\"True\",\"hovertemplate\":\"language=french\\u003cbr\\u003ecategory=HEALTHY_TALK\\u003cbr\\u003emodel_name=%{x}\\u003cbr\\u003eF1=%{y}\\u003cextra\\u003e\\u003c\\u002fextra\\u003e\",\"legendgroup\":\"french\",\"marker\":{\"color\":\"#EF553B\",\"pattern\":{\"shape\":\"\"}},\"name\":\"french\",\"offsetgroup\":\"french\",\"orientation\":\"v\",\"showlegend\":true,\"textposition\":\"auto\",\"x\":[\"bert-base-multilingual-cased\",\"bert-base-multilingual-uncased\",\"xlm-mlm-100-1280\",\"xlm-mlm-17-1280\",\"xlm-roberta-base\",\"xlm-roberta-large\"],\"xaxis\":\"x2\",\"y\":[0.7631160572337042,0.8218298555377207,0.7349081364829397,0.777869529314616,0.8215488215488216,0.7528868360277136],\"yaxis\":\"y2\",\"type\":\"bar\"},{\"alignmentgroup\":\"True\",\"hovertemplate\":\"language=french\\u003cbr\\u003ecategory=SICK_TALK\\u003cbr\\u003emodel_name=%{x}\\u003cbr\\u003eF1=%{y}\\u003cextra\\u003e\\u003c\\u002fextra\\u003e\",\"legendgroup\":\"french\",\"marker\":{\"color\":\"#EF553B\",\"pattern\":{\"shape\":\"\"}},\"name\":\"french\",\"offsetgroup\":\"french\",\"orientation\":\"v\",\"showlegend\":false,\"textposition\":\"auto\",\"x\":[\"bert-base-multilingual-cased\",\"bert-base-multilingual-uncased\",\"xlm-mlm-100-1280\",\"xlm-mlm-17-1280\",\"xlm-roberta-base\",\"xlm-roberta-large\"],\"xaxis\":\"x\",\"y\":[0.77593984962406,0.834575260804769,0.7903114186851211,0.8046477850399419,0.8485714285714284,0.7509697439875872],\"yaxis\":\"y\",\"type\":\"bar\"},{\"alignmentgroup\":\"True\",\"hovertemplate\":\"language=german\\u003cbr\\u003ecategory=HEALTHY_TALK\\u003cbr\\u003emodel_name=%{x}\\u003cbr\\u003eF1=%{y}\\u003cextra\\u003e\\u003c\\u002fextra\\u003e\",\"legendgroup\":\"german\",\"marker\":{\"color\":\"#00cc96\",\"pattern\":{\"shape\":\"\"}},\"name\":\"german\",\"offsetgroup\":\"german\",\"orientation\":\"v\",\"showlegend\":true,\"textposition\":\"auto\",\"x\":[\"bert-base-multilingual-cased\",\"bert-base-multilingual-uncased\",\"xlm-mlm-100-1280\",\"xlm-mlm-17-1280\",\"xlm-roberta-base\",\"xlm-roberta-large\"],\"xaxis\":\"x2\",\"y\":[0.8574635241301908,0.8826815642458099,0.8509174311926606,0.8796400449943758,0.9082672706681767,0.9084745762711863],\"yaxis\":\"y2\",\"type\":\"bar\"},{\"alignmentgroup\":\"True\",\"hovertemplate\":\"language=german\\u003cbr\\u003ecategory=SICK_TALK\\u003cbr\\u003emodel_name=%{x}\\u003cbr\\u003eF1=%{y}\\u003cextra\\u003e\\u003c\\u002fextra\\u003e\",\"legendgroup\":\"german\",\"marker\":{\"color\":\"#00cc96\",\"pattern\":{\"shape\":\"\"}},\"name\":\"german\",\"offsetgroup\":\"german\",\"orientation\":\"v\",\"showlegend\":false,\"textposition\":\"auto\",\"x\":[\"bert-base-multilingual-cased\",\"bert-base-multilingual-uncased\",\"xlm-mlm-100-1280\",\"xlm-mlm-17-1280\",\"xlm-roberta-base\",\"xlm-roberta-large\"],\"xaxis\":\"x\",\"y\":[0.8656084656084656,0.8884165781083954,0.8651452282157677,0.8870116156282999,0.9150052465897167,0.9148264984227129],\"yaxis\":\"y\",\"type\":\"bar\"},{\"alignmentgroup\":\"True\",\"hovertemplate\":\"language=italian\\u003cbr\\u003ecategory=HEALTHY_TALK\\u003cbr\\u003emodel_name=%{x}\\u003cbr\\u003eF1=%{y}\\u003cextra\\u003e\\u003c\\u002fextra\\u003e\",\"legendgroup\":\"italian\",\"marker\":{\"color\":\"#ab63fa\",\"pattern\":{\"shape\":\"\"}},\"name\":\"italian\",\"offsetgroup\":\"italian\",\"orientation\":\"v\",\"showlegend\":true,\"textposition\":\"auto\",\"x\":[\"bert-base-multilingual-cased\",\"bert-base-multilingual-uncased\",\"xlm-mlm-100-1280\",\"xlm-mlm-17-1280\",\"xlm-roberta-base\",\"xlm-roberta-large\"],\"xaxis\":\"x2\",\"y\":[0.7553816046966731,0.8086785009861933,0.7530864197530864,0.8308977035490606,0.8559670781893003,0.6676300578034682],\"yaxis\":\"y2\",\"type\":\"bar\"},{\"alignmentgroup\":\"True\",\"hovertemplate\":\"language=italian\\u003cbr\\u003ecategory=SICK_TALK\\u003cbr\\u003emodel_name=%{x}\\u003cbr\\u003eF1=%{y}\\u003cextra\\u003e\\u003c\\u002fextra\\u003e\",\"legendgroup\":\"italian\",\"marker\":{\"color\":\"#ab63fa\",\"pattern\":{\"shape\":\"\"}},\"name\":\"italian\",\"offsetgroup\":\"italian\",\"orientation\":\"v\",\"showlegend\":false,\"textposition\":\"auto\",\"x\":[\"bert-base-multilingual-cased\",\"bert-base-multilingual-uncased\",\"xlm-mlm-100-1280\",\"xlm-mlm-17-1280\",\"xlm-roberta-base\",\"xlm-roberta-large\"],\"xaxis\":\"x\",\"y\":[0.7422680412371134,0.8016359918200409,0.7647058823529411,0.8433268858800773,0.8627450980392158,0.24342105263157893],\"yaxis\":\"y\",\"type\":\"bar\"},{\"alignmentgroup\":\"True\",\"hovertemplate\":\"language=polish\\u003cbr\\u003ecategory=HEALTHY_TALK\\u003cbr\\u003emodel_name=%{x}\\u003cbr\\u003eF1=%{y}\\u003cextra\\u003e\\u003c\\u002fextra\\u003e\",\"legendgroup\":\"polish\",\"marker\":{\"color\":\"#FFA15A\",\"pattern\":{\"shape\":\"\"}},\"name\":\"polish\",\"offsetgroup\":\"polish\",\"orientation\":\"v\",\"showlegend\":true,\"textposition\":\"auto\",\"x\":[\"bert-base-multilingual-cased\",\"bert-base-multilingual-uncased\",\"xlm-mlm-100-1280\",\"xlm-mlm-17-1280\",\"xlm-roberta-base\",\"xlm-roberta-large\"],\"xaxis\":\"x2\",\"y\":[0.7676056338028169,0.6431718061674009,0.6521739130434783,0.7419354838709677,0.6513761467889908,0.6666666666666666],\"yaxis\":\"y2\",\"type\":\"bar\"},{\"alignmentgroup\":\"True\",\"hovertemplate\":\"language=polish\\u003cbr\\u003ecategory=SICK_TALK\\u003cbr\\u003emodel_name=%{x}\\u003cbr\\u003eF1=%{y}\\u003cextra\\u003e\\u003c\\u002fextra\\u003e\",\"legendgroup\":\"polish\",\"marker\":{\"color\":\"#FFA15A\",\"pattern\":{\"shape\":\"\"}},\"name\":\"polish\",\"offsetgroup\":\"polish\",\"orientation\":\"v\",\"showlegend\":false,\"textposition\":\"auto\",\"x\":[\"bert-base-multilingual-cased\",\"bert-base-multilingual-uncased\",\"xlm-mlm-100-1280\",\"xlm-mlm-17-1280\",\"xlm-roberta-base\",\"xlm-roberta-large\"],\"xaxis\":\"x\",\"y\":[0.7203389830508474,0.7235494880546075,0.7241379310344829,0.7647058823529411,0.7483443708609272,0.0],\"yaxis\":\"y\",\"type\":\"bar\"},{\"alignmentgroup\":\"True\",\"hovertemplate\":\"language=spanish\\u003cbr\\u003ecategory=HEALTHY_TALK\\u003cbr\\u003emodel_name=%{x}\\u003cbr\\u003eF1=%{y}\\u003cextra\\u003e\\u003c\\u002fextra\\u003e\",\"legendgroup\":\"spanish\",\"marker\":{\"color\":\"#19d3f3\",\"pattern\":{\"shape\":\"\"}},\"name\":\"spanish\",\"offsetgroup\":\"spanish\",\"orientation\":\"v\",\"showlegend\":true,\"textposition\":\"auto\",\"x\":[\"bert-base-multilingual-cased\",\"bert-base-multilingual-uncased\",\"xlm-mlm-100-1280\",\"xlm-mlm-17-1280\",\"xlm-roberta-base\",\"xlm-roberta-large\"],\"xaxis\":\"x2\",\"y\":[0.7942028985507247,0.8140243902439025,0.7589424572317264,0.849144634525661,0.8686244204018547,0.6996098829648895],\"yaxis\":\"y2\",\"type\":\"bar\"},{\"alignmentgroup\":\"True\",\"hovertemplate\":\"language=spanish\\u003cbr\\u003ecategory=SICK_TALK\\u003cbr\\u003emodel_name=%{x}\\u003cbr\\u003eF1=%{y}\\u003cextra\\u003e\\u003c\\u002fextra\\u003e\",\"legendgroup\":\"spanish\",\"marker\":{\"color\":\"#19d3f3\",\"pattern\":{\"shape\":\"\"}},\"name\":\"spanish\",\"offsetgroup\":\"spanish\",\"orientation\":\"v\",\"showlegend\":false,\"textposition\":\"auto\",\"x\":[\"bert-base-multilingual-cased\",\"bert-base-multilingual-uncased\",\"xlm-mlm-100-1280\",\"xlm-mlm-17-1280\",\"xlm-roberta-base\",\"xlm-roberta-large\"],\"xaxis\":\"x\",\"y\":[0.77602523659306,0.8173652694610779,0.7723935389133627,0.8575624082232012,0.8744460856720827,0.5837837837837838],\"yaxis\":\"y\",\"type\":\"bar\"}],                        {\"template\":{\"data\":{\"histogram2dcontour\":[{\"type\":\"histogram2dcontour\",\"colorbar\":{\"outlinewidth\":0,\"ticks\":\"\"},\"colorscale\":[[0.0,\"#0d0887\"],[0.1111111111111111,\"#46039f\"],[0.2222222222222222,\"#7201a8\"],[0.3333333333333333,\"#9c179e\"],[0.4444444444444444,\"#bd3786\"],[0.5555555555555556,\"#d8576b\"],[0.6666666666666666,\"#ed7953\"],[0.7777777777777778,\"#fb9f3a\"],[0.8888888888888888,\"#fdca26\"],[1.0,\"#f0f921\"]]}],\"choropleth\":[{\"type\":\"choropleth\",\"colorbar\":{\"outlinewidth\":0,\"ticks\":\"\"}}],\"histogram2d\":[{\"type\":\"histogram2d\",\"colorbar\":{\"outlinewidth\":0,\"ticks\":\"\"},\"colorscale\":[[0.0,\"#0d0887\"],[0.1111111111111111,\"#46039f\"],[0.2222222222222222,\"#7201a8\"],[0.3333333333333333,\"#9c179e\"],[0.4444444444444444,\"#bd3786\"],[0.5555555555555556,\"#d8576b\"],[0.6666666666666666,\"#ed7953\"],[0.7777777777777778,\"#fb9f3a\"],[0.8888888888888888,\"#fdca26\"],[1.0,\"#f0f921\"]]}],\"heatmap\":[{\"type\":\"heatmap\",\"colorbar\":{\"outlinewidth\":0,\"ticks\":\"\"},\"colorscale\":[[0.0,\"#0d0887\"],[0.1111111111111111,\"#46039f\"],[0.2222222222222222,\"#7201a8\"],[0.3333333333333333,\"#9c179e\"],[0.4444444444444444,\"#bd3786\"],[0.5555555555555556,\"#d8576b\"],[0.6666666666666666,\"#ed7953\"],[0.7777777777777778,\"#fb9f3a\"],[0.8888888888888888,\"#fdca26\"],[1.0,\"#f0f921\"]]}],\"heatmapgl\":[{\"type\":\"heatmapgl\",\"colorbar\":{\"outlinewidth\":0,\"ticks\":\"\"},\"colorscale\":[[0.0,\"#0d0887\"],[0.1111111111111111,\"#46039f\"],[0.2222222222222222,\"#7201a8\"],[0.3333333333333333,\"#9c179e\"],[0.4444444444444444,\"#bd3786\"],[0.5555555555555556,\"#d8576b\"],[0.6666666666666666,\"#ed7953\"],[0.7777777777777778,\"#fb9f3a\"],[0.8888888888888888,\"#fdca26\"],[1.0,\"#f0f921\"]]}],\"contourcarpet\":[{\"type\":\"contourcarpet\",\"colorbar\":{\"outlinewidth\":0,\"ticks\":\"\"}}],\"contour\":[{\"type\":\"contour\",\"colorbar\":{\"outlinewidth\":0,\"ticks\":\"\"},\"colorscale\":[[0.0,\"#0d0887\"],[0.1111111111111111,\"#46039f\"],[0.2222222222222222,\"#7201a8\"],[0.3333333333333333,\"#9c179e\"],[0.4444444444444444,\"#bd3786\"],[0.5555555555555556,\"#d8576b\"],[0.6666666666666666,\"#ed7953\"],[0.7777777777777778,\"#fb9f3a\"],[0.8888888888888888,\"#fdca26\"],[1.0,\"#f0f921\"]]}],\"surface\":[{\"type\":\"surface\",\"colorbar\":{\"outlinewidth\":0,\"ticks\":\"\"},\"colorscale\":[[0.0,\"#0d0887\"],[0.1111111111111111,\"#46039f\"],[0.2222222222222222,\"#7201a8\"],[0.3333333333333333,\"#9c179e\"],[0.4444444444444444,\"#bd3786\"],[0.5555555555555556,\"#d8576b\"],[0.6666666666666666,\"#ed7953\"],[0.7777777777777778,\"#fb9f3a\"],[0.8888888888888888,\"#fdca26\"],[1.0,\"#f0f921\"]]}],\"mesh3d\":[{\"type\":\"mesh3d\",\"colorbar\":{\"outlinewidth\":0,\"ticks\":\"\"}}],\"scatter\":[{\"fillpattern\":{\"fillmode\":\"overlay\",\"size\":10,\"solidity\":0.2},\"type\":\"scatter\"}],\"parcoords\":[{\"type\":\"parcoords\",\"line\":{\"colorbar\":{\"outlinewidth\":0,\"ticks\":\"\"}}}],\"scatterpolargl\":[{\"type\":\"scatterpolargl\",\"marker\":{\"colorbar\":{\"outlinewidth\":0,\"ticks\":\"\"}}}],\"bar\":[{\"error_x\":{\"color\":\"#2a3f5f\"},\"error_y\":{\"color\":\"#2a3f5f\"},\"marker\":{\"line\":{\"color\":\"#E5ECF6\",\"width\":0.5},\"pattern\":{\"fillmode\":\"overlay\",\"size\":10,\"solidity\":0.2}},\"type\":\"bar\"}],\"scattergeo\":[{\"type\":\"scattergeo\",\"marker\":{\"colorbar\":{\"outlinewidth\":0,\"ticks\":\"\"}}}],\"scatterpolar\":[{\"type\":\"scatterpolar\",\"marker\":{\"colorbar\":{\"outlinewidth\":0,\"ticks\":\"\"}}}],\"histogram\":[{\"marker\":{\"pattern\":{\"fillmode\":\"overlay\",\"size\":10,\"solidity\":0.2}},\"type\":\"histogram\"}],\"scattergl\":[{\"type\":\"scattergl\",\"marker\":{\"colorbar\":{\"outlinewidth\":0,\"ticks\":\"\"}}}],\"scatter3d\":[{\"type\":\"scatter3d\",\"line\":{\"colorbar\":{\"outlinewidth\":0,\"ticks\":\"\"}},\"marker\":{\"colorbar\":{\"outlinewidth\":0,\"ticks\":\"\"}}}],\"scattermapbox\":[{\"type\":\"scattermapbox\",\"marker\":{\"colorbar\":{\"outlinewidth\":0,\"ticks\":\"\"}}}],\"scatterternary\":[{\"type\":\"scatterternary\",\"marker\":{\"colorbar\":{\"outlinewidth\":0,\"ticks\":\"\"}}}],\"scattercarpet\":[{\"type\":\"scattercarpet\",\"marker\":{\"colorbar\":{\"outlinewidth\":0,\"ticks\":\"\"}}}],\"carpet\":[{\"aaxis\":{\"endlinecolor\":\"#2a3f5f\",\"gridcolor\":\"white\",\"linecolor\":\"white\",\"minorgridcolor\":\"white\",\"startlinecolor\":\"#2a3f5f\"},\"baxis\":{\"endlinecolor\":\"#2a3f5f\",\"gridcolor\":\"white\",\"linecolor\":\"white\",\"minorgridcolor\":\"white\",\"startlinecolor\":\"#2a3f5f\"},\"type\":\"carpet\"}],\"table\":[{\"cells\":{\"fill\":{\"color\":\"#EBF0F8\"},\"line\":{\"color\":\"white\"}},\"header\":{\"fill\":{\"color\":\"#C8D4E3\"},\"line\":{\"color\":\"white\"}},\"type\":\"table\"}],\"barpolar\":[{\"marker\":{\"line\":{\"color\":\"#E5ECF6\",\"width\":0.5},\"pattern\":{\"fillmode\":\"overlay\",\"size\":10,\"solidity\":0.2}},\"type\":\"barpolar\"}],\"pie\":[{\"automargin\":true,\"type\":\"pie\"}]},\"layout\":{\"autotypenumbers\":\"strict\",\"colorway\":[\"#636efa\",\"#EF553B\",\"#00cc96\",\"#ab63fa\",\"#FFA15A\",\"#19d3f3\",\"#FF6692\",\"#B6E880\",\"#FF97FF\",\"#FECB52\"],\"font\":{\"color\":\"#2a3f5f\"},\"hovermode\":\"closest\",\"hoverlabel\":{\"align\":\"left\"},\"paper_bgcolor\":\"white\",\"plot_bgcolor\":\"#E5ECF6\",\"polar\":{\"bgcolor\":\"#E5ECF6\",\"angularaxis\":{\"gridcolor\":\"white\",\"linecolor\":\"white\",\"ticks\":\"\"},\"radialaxis\":{\"gridcolor\":\"white\",\"linecolor\":\"white\",\"ticks\":\"\"}},\"ternary\":{\"bgcolor\":\"#E5ECF6\",\"aaxis\":{\"gridcolor\":\"white\",\"linecolor\":\"white\",\"ticks\":\"\"},\"baxis\":{\"gridcolor\":\"white\",\"linecolor\":\"white\",\"ticks\":\"\"},\"caxis\":{\"gridcolor\":\"white\",\"linecolor\":\"white\",\"ticks\":\"\"}},\"coloraxis\":{\"colorbar\":{\"outlinewidth\":0,\"ticks\":\"\"}},\"colorscale\":{\"sequential\":[[0.0,\"#0d0887\"],[0.1111111111111111,\"#46039f\"],[0.2222222222222222,\"#7201a8\"],[0.3333333333333333,\"#9c179e\"],[0.4444444444444444,\"#bd3786\"],[0.5555555555555556,\"#d8576b\"],[0.6666666666666666,\"#ed7953\"],[0.7777777777777778,\"#fb9f3a\"],[0.8888888888888888,\"#fdca26\"],[1.0,\"#f0f921\"]],\"sequentialminus\":[[0.0,\"#0d0887\"],[0.1111111111111111,\"#46039f\"],[0.2222222222222222,\"#7201a8\"],[0.3333333333333333,\"#9c179e\"],[0.4444444444444444,\"#bd3786\"],[0.5555555555555556,\"#d8576b\"],[0.6666666666666666,\"#ed7953\"],[0.7777777777777778,\"#fb9f3a\"],[0.8888888888888888,\"#fdca26\"],[1.0,\"#f0f921\"]],\"diverging\":[[0,\"#8e0152\"],[0.1,\"#c51b7d\"],[0.2,\"#de77ae\"],[0.3,\"#f1b6da\"],[0.4,\"#fde0ef\"],[0.5,\"#f7f7f7\"],[0.6,\"#e6f5d0\"],[0.7,\"#b8e186\"],[0.8,\"#7fbc41\"],[0.9,\"#4d9221\"],[1,\"#276419\"]]},\"xaxis\":{\"gridcolor\":\"white\",\"linecolor\":\"white\",\"ticks\":\"\",\"title\":{\"standoff\":15},\"zerolinecolor\":\"white\",\"automargin\":true,\"zerolinewidth\":2},\"yaxis\":{\"gridcolor\":\"white\",\"linecolor\":\"white\",\"ticks\":\"\",\"title\":{\"standoff\":15},\"zerolinecolor\":\"white\",\"automargin\":true,\"zerolinewidth\":2},\"scene\":{\"xaxis\":{\"backgroundcolor\":\"#E5ECF6\",\"gridcolor\":\"white\",\"linecolor\":\"white\",\"showbackground\":true,\"ticks\":\"\",\"zerolinecolor\":\"white\",\"gridwidth\":2},\"yaxis\":{\"backgroundcolor\":\"#E5ECF6\",\"gridcolor\":\"white\",\"linecolor\":\"white\",\"showbackground\":true,\"ticks\":\"\",\"zerolinecolor\":\"white\",\"gridwidth\":2},\"zaxis\":{\"backgroundcolor\":\"#E5ECF6\",\"gridcolor\":\"white\",\"linecolor\":\"white\",\"showbackground\":true,\"ticks\":\"\",\"zerolinecolor\":\"white\",\"gridwidth\":2}},\"shapedefaults\":{\"line\":{\"color\":\"#2a3f5f\"}},\"annotationdefaults\":{\"arrowcolor\":\"#2a3f5f\",\"arrowhead\":0,\"arrowwidth\":1},\"geo\":{\"bgcolor\":\"white\",\"landcolor\":\"#E5ECF6\",\"subunitcolor\":\"white\",\"showland\":true,\"showlakes\":true,\"lakecolor\":\"white\"},\"title\":{\"x\":0.05},\"mapbox\":{\"style\":\"light\"}}},\"xaxis\":{\"anchor\":\"y\",\"domain\":[0.0,0.98],\"title\":{\"text\":\"model_name\"}},\"yaxis\":{\"anchor\":\"x\",\"domain\":[0.0,0.485],\"title\":{\"text\":\"F1\"}},\"xaxis2\":{\"anchor\":\"y2\",\"domain\":[0.0,0.98],\"matches\":\"x\",\"showticklabels\":false},\"yaxis2\":{\"anchor\":\"x2\",\"domain\":[0.515,1.0],\"matches\":\"y\",\"title\":{\"text\":\"F1\"}},\"annotations\":[{\"font\":{},\"showarrow\":false,\"text\":\"category=SICK_TALK\",\"textangle\":90,\"x\":0.98,\"xanchor\":\"left\",\"xref\":\"paper\",\"y\":0.2425,\"yanchor\":\"middle\",\"yref\":\"paper\"},{\"font\":{},\"showarrow\":false,\"text\":\"category=HEALTHY_TALK\",\"textangle\":90,\"x\":0.98,\"xanchor\":\"left\",\"xref\":\"paper\",\"y\":0.7575000000000001,\"yanchor\":\"middle\",\"yref\":\"paper\"}],\"legend\":{\"title\":{\"text\":\"language\"},\"tracegroupgap\":0},\"margin\":{\"t\":60},\"barmode\":\"group\"},                        {\"responsive\": true}                    ).then(function(){\n",
       "                            \n",
       "var gd = document.getElementById('fb0a1858-84dc-4526-b9a6-358201657e81');\n",
       "var x = new MutationObserver(function (mutations, observer) {{\n",
       "        var display = window.getComputedStyle(gd).display;\n",
       "        if (!display || display === 'none') {{\n",
       "            console.log([gd, 'removed!']);\n",
       "            Plotly.purge(gd);\n",
       "            observer.disconnect();\n",
       "        }}\n",
       "}});\n",
       "\n",
       "// Listen for the removal of the full notebook cells\n",
       "var notebookContainer = gd.closest('#notebook-container');\n",
       "if (notebookContainer) {{\n",
       "    x.observe(notebookContainer, {childList: true});\n",
       "}}\n",
       "\n",
       "// Listen for the clearing of the current output cell\n",
       "var outputEl = gd.closest('.output');\n",
       "if (outputEl) {{\n",
       "    x.observe(outputEl, {childList: true});\n",
       "}}\n",
       "\n",
       "                        })                };                });            </script>        </div>"
      ]
     },
     "metadata": {},
     "output_type": "display_data"
    }
   ],
   "source": [
    "# f1.pivot(columns=[\"F1\"],values=CATS)\n",
    "long_f1 = f1.melt(id_vars=[\"model_name\",\"language\"],value_vars=CATS,value_name=\"F1\",var_name=\"category\")\n",
    "px.bar(long_f1,\n",
    "       x=\"model_name\",\n",
    "       y=\"F1\",\n",
    "       facet_row=\"category\",\n",
    "       color=\"language\",\n",
    "       barmode=\"group\")\n"
   ]
  },
  {
   "cell_type": "code",
   "execution_count": 94,
   "id": "2e90404d-a9e8-42a6-9c39-484ab11f25d4",
   "metadata": {},
   "outputs": [
    {
     "data": {
      "application/vnd.plotly.v1+json": {
       "config": {
        "plotlyServerURL": "https://plot.ly"
       },
       "data": [
        {
         "alignmentgroup": "True",
         "hovertemplate": "category=SICK_TALK<br>model_name=%{x}<br>mean_F1=%{y}<extra></extra>",
         "legendgroup": "",
         "marker": {
          "color": "#636efa",
          "pattern": {
           "shape": ""
          }
         },
         "name": "",
         "offsetgroup": "",
         "orientation": "v",
         "showlegend": false,
         "textposition": "auto",
         "type": "bar",
         "x": [
          "xlm-roberta-base",
          "xlm-mlm-17-1280",
          "bert-base-multilingual-uncased",
          "xlm-mlm-100-1280",
          "bert-base-multilingual-cased",
          "xlm-roberta-large"
         ],
         "xaxis": "x2",
         "y": [
          0.8294564481462233,
          0.8147466455945249,
          0.7874019973267319,
          0.7634693561010426,
          0.7580369688711581,
          0.49228901051980944
         ],
         "yaxis": "y2"
        },
        {
         "alignmentgroup": "True",
         "hovertemplate": "category=HEALTHY_TALK<br>model_name=%{x}<br>mean_F1=%{y}<extra></extra>",
         "legendgroup": "",
         "marker": {
          "color": "#636efa",
          "pattern": {
           "shape": ""
          }
         },
         "name": "",
         "offsetgroup": "",
         "orientation": "v",
         "showlegend": false,
         "textposition": "auto",
         "type": "bar",
         "x": [
          "xlm-roberta-base",
          "xlm-mlm-17-1280",
          "bert-base-multilingual-cased",
          "bert-base-multilingual-uncased",
          "xlm-mlm-100-1280",
          "xlm-roberta-large"
         ],
         "xaxis": "x",
         "y": [
          0.8021494513847403,
          0.7999420008846965,
          0.7700359129638245,
          0.7675069415900181,
          0.7289933302725858,
          0.7262605169501896
         ],
         "yaxis": "y"
        }
       ],
       "layout": {
        "annotations": [
         {
          "font": {},
          "showarrow": false,
          "text": "category=HEALTHY_TALK",
          "textangle": 90,
          "x": 0.98,
          "xanchor": "left",
          "xref": "paper",
          "y": 0.2425,
          "yanchor": "middle",
          "yref": "paper"
         },
         {
          "font": {},
          "showarrow": false,
          "text": "category=SICK_TALK",
          "textangle": 90,
          "x": 0.98,
          "xanchor": "left",
          "xref": "paper",
          "y": 0.7575000000000001,
          "yanchor": "middle",
          "yref": "paper"
         }
        ],
        "autosize": true,
        "barmode": "group",
        "legend": {
         "tracegroupgap": 0
        },
        "margin": {
         "t": 60
        },
        "template": {
         "data": {
          "bar": [
           {
            "error_x": {
             "color": "#2a3f5f"
            },
            "error_y": {
             "color": "#2a3f5f"
            },
            "marker": {
             "line": {
              "color": "#E5ECF6",
              "width": 0.5
             },
             "pattern": {
              "fillmode": "overlay",
              "size": 10,
              "solidity": 0.2
             }
            },
            "type": "bar"
           }
          ],
          "barpolar": [
           {
            "marker": {
             "line": {
              "color": "#E5ECF6",
              "width": 0.5
             },
             "pattern": {
              "fillmode": "overlay",
              "size": 10,
              "solidity": 0.2
             }
            },
            "type": "barpolar"
           }
          ],
          "carpet": [
           {
            "aaxis": {
             "endlinecolor": "#2a3f5f",
             "gridcolor": "white",
             "linecolor": "white",
             "minorgridcolor": "white",
             "startlinecolor": "#2a3f5f"
            },
            "baxis": {
             "endlinecolor": "#2a3f5f",
             "gridcolor": "white",
             "linecolor": "white",
             "minorgridcolor": "white",
             "startlinecolor": "#2a3f5f"
            },
            "type": "carpet"
           }
          ],
          "choropleth": [
           {
            "colorbar": {
             "outlinewidth": 0,
             "ticks": ""
            },
            "type": "choropleth"
           }
          ],
          "contour": [
           {
            "colorbar": {
             "outlinewidth": 0,
             "ticks": ""
            },
            "colorscale": [
             [
              0,
              "#0d0887"
             ],
             [
              0.1111111111111111,
              "#46039f"
             ],
             [
              0.2222222222222222,
              "#7201a8"
             ],
             [
              0.3333333333333333,
              "#9c179e"
             ],
             [
              0.4444444444444444,
              "#bd3786"
             ],
             [
              0.5555555555555556,
              "#d8576b"
             ],
             [
              0.6666666666666666,
              "#ed7953"
             ],
             [
              0.7777777777777778,
              "#fb9f3a"
             ],
             [
              0.8888888888888888,
              "#fdca26"
             ],
             [
              1,
              "#f0f921"
             ]
            ],
            "type": "contour"
           }
          ],
          "contourcarpet": [
           {
            "colorbar": {
             "outlinewidth": 0,
             "ticks": ""
            },
            "type": "contourcarpet"
           }
          ],
          "heatmap": [
           {
            "colorbar": {
             "outlinewidth": 0,
             "ticks": ""
            },
            "colorscale": [
             [
              0,
              "#0d0887"
             ],
             [
              0.1111111111111111,
              "#46039f"
             ],
             [
              0.2222222222222222,
              "#7201a8"
             ],
             [
              0.3333333333333333,
              "#9c179e"
             ],
             [
              0.4444444444444444,
              "#bd3786"
             ],
             [
              0.5555555555555556,
              "#d8576b"
             ],
             [
              0.6666666666666666,
              "#ed7953"
             ],
             [
              0.7777777777777778,
              "#fb9f3a"
             ],
             [
              0.8888888888888888,
              "#fdca26"
             ],
             [
              1,
              "#f0f921"
             ]
            ],
            "type": "heatmap"
           }
          ],
          "heatmapgl": [
           {
            "colorbar": {
             "outlinewidth": 0,
             "ticks": ""
            },
            "colorscale": [
             [
              0,
              "#0d0887"
             ],
             [
              0.1111111111111111,
              "#46039f"
             ],
             [
              0.2222222222222222,
              "#7201a8"
             ],
             [
              0.3333333333333333,
              "#9c179e"
             ],
             [
              0.4444444444444444,
              "#bd3786"
             ],
             [
              0.5555555555555556,
              "#d8576b"
             ],
             [
              0.6666666666666666,
              "#ed7953"
             ],
             [
              0.7777777777777778,
              "#fb9f3a"
             ],
             [
              0.8888888888888888,
              "#fdca26"
             ],
             [
              1,
              "#f0f921"
             ]
            ],
            "type": "heatmapgl"
           }
          ],
          "histogram": [
           {
            "marker": {
             "pattern": {
              "fillmode": "overlay",
              "size": 10,
              "solidity": 0.2
             }
            },
            "type": "histogram"
           }
          ],
          "histogram2d": [
           {
            "colorbar": {
             "outlinewidth": 0,
             "ticks": ""
            },
            "colorscale": [
             [
              0,
              "#0d0887"
             ],
             [
              0.1111111111111111,
              "#46039f"
             ],
             [
              0.2222222222222222,
              "#7201a8"
             ],
             [
              0.3333333333333333,
              "#9c179e"
             ],
             [
              0.4444444444444444,
              "#bd3786"
             ],
             [
              0.5555555555555556,
              "#d8576b"
             ],
             [
              0.6666666666666666,
              "#ed7953"
             ],
             [
              0.7777777777777778,
              "#fb9f3a"
             ],
             [
              0.8888888888888888,
              "#fdca26"
             ],
             [
              1,
              "#f0f921"
             ]
            ],
            "type": "histogram2d"
           }
          ],
          "histogram2dcontour": [
           {
            "colorbar": {
             "outlinewidth": 0,
             "ticks": ""
            },
            "colorscale": [
             [
              0,
              "#0d0887"
             ],
             [
              0.1111111111111111,
              "#46039f"
             ],
             [
              0.2222222222222222,
              "#7201a8"
             ],
             [
              0.3333333333333333,
              "#9c179e"
             ],
             [
              0.4444444444444444,
              "#bd3786"
             ],
             [
              0.5555555555555556,
              "#d8576b"
             ],
             [
              0.6666666666666666,
              "#ed7953"
             ],
             [
              0.7777777777777778,
              "#fb9f3a"
             ],
             [
              0.8888888888888888,
              "#fdca26"
             ],
             [
              1,
              "#f0f921"
             ]
            ],
            "type": "histogram2dcontour"
           }
          ],
          "mesh3d": [
           {
            "colorbar": {
             "outlinewidth": 0,
             "ticks": ""
            },
            "type": "mesh3d"
           }
          ],
          "parcoords": [
           {
            "line": {
             "colorbar": {
              "outlinewidth": 0,
              "ticks": ""
             }
            },
            "type": "parcoords"
           }
          ],
          "pie": [
           {
            "automargin": true,
            "type": "pie"
           }
          ],
          "scatter": [
           {
            "fillpattern": {
             "fillmode": "overlay",
             "size": 10,
             "solidity": 0.2
            },
            "type": "scatter"
           }
          ],
          "scatter3d": [
           {
            "line": {
             "colorbar": {
              "outlinewidth": 0,
              "ticks": ""
             }
            },
            "marker": {
             "colorbar": {
              "outlinewidth": 0,
              "ticks": ""
             }
            },
            "type": "scatter3d"
           }
          ],
          "scattercarpet": [
           {
            "marker": {
             "colorbar": {
              "outlinewidth": 0,
              "ticks": ""
             }
            },
            "type": "scattercarpet"
           }
          ],
          "scattergeo": [
           {
            "marker": {
             "colorbar": {
              "outlinewidth": 0,
              "ticks": ""
             }
            },
            "type": "scattergeo"
           }
          ],
          "scattergl": [
           {
            "marker": {
             "colorbar": {
              "outlinewidth": 0,
              "ticks": ""
             }
            },
            "type": "scattergl"
           }
          ],
          "scattermapbox": [
           {
            "marker": {
             "colorbar": {
              "outlinewidth": 0,
              "ticks": ""
             }
            },
            "type": "scattermapbox"
           }
          ],
          "scatterpolar": [
           {
            "marker": {
             "colorbar": {
              "outlinewidth": 0,
              "ticks": ""
             }
            },
            "type": "scatterpolar"
           }
          ],
          "scatterpolargl": [
           {
            "marker": {
             "colorbar": {
              "outlinewidth": 0,
              "ticks": ""
             }
            },
            "type": "scatterpolargl"
           }
          ],
          "scatterternary": [
           {
            "marker": {
             "colorbar": {
              "outlinewidth": 0,
              "ticks": ""
             }
            },
            "type": "scatterternary"
           }
          ],
          "surface": [
           {
            "colorbar": {
             "outlinewidth": 0,
             "ticks": ""
            },
            "colorscale": [
             [
              0,
              "#0d0887"
             ],
             [
              0.1111111111111111,
              "#46039f"
             ],
             [
              0.2222222222222222,
              "#7201a8"
             ],
             [
              0.3333333333333333,
              "#9c179e"
             ],
             [
              0.4444444444444444,
              "#bd3786"
             ],
             [
              0.5555555555555556,
              "#d8576b"
             ],
             [
              0.6666666666666666,
              "#ed7953"
             ],
             [
              0.7777777777777778,
              "#fb9f3a"
             ],
             [
              0.8888888888888888,
              "#fdca26"
             ],
             [
              1,
              "#f0f921"
             ]
            ],
            "type": "surface"
           }
          ],
          "table": [
           {
            "cells": {
             "fill": {
              "color": "#EBF0F8"
             },
             "line": {
              "color": "white"
             }
            },
            "header": {
             "fill": {
              "color": "#C8D4E3"
             },
             "line": {
              "color": "white"
             }
            },
            "type": "table"
           }
          ]
         },
         "layout": {
          "annotationdefaults": {
           "arrowcolor": "#2a3f5f",
           "arrowhead": 0,
           "arrowwidth": 1
          },
          "autotypenumbers": "strict",
          "coloraxis": {
           "colorbar": {
            "outlinewidth": 0,
            "ticks": ""
           }
          },
          "colorscale": {
           "diverging": [
            [
             0,
             "#8e0152"
            ],
            [
             0.1,
             "#c51b7d"
            ],
            [
             0.2,
             "#de77ae"
            ],
            [
             0.3,
             "#f1b6da"
            ],
            [
             0.4,
             "#fde0ef"
            ],
            [
             0.5,
             "#f7f7f7"
            ],
            [
             0.6,
             "#e6f5d0"
            ],
            [
             0.7,
             "#b8e186"
            ],
            [
             0.8,
             "#7fbc41"
            ],
            [
             0.9,
             "#4d9221"
            ],
            [
             1,
             "#276419"
            ]
           ],
           "sequential": [
            [
             0,
             "#0d0887"
            ],
            [
             0.1111111111111111,
             "#46039f"
            ],
            [
             0.2222222222222222,
             "#7201a8"
            ],
            [
             0.3333333333333333,
             "#9c179e"
            ],
            [
             0.4444444444444444,
             "#bd3786"
            ],
            [
             0.5555555555555556,
             "#d8576b"
            ],
            [
             0.6666666666666666,
             "#ed7953"
            ],
            [
             0.7777777777777778,
             "#fb9f3a"
            ],
            [
             0.8888888888888888,
             "#fdca26"
            ],
            [
             1,
             "#f0f921"
            ]
           ],
           "sequentialminus": [
            [
             0,
             "#0d0887"
            ],
            [
             0.1111111111111111,
             "#46039f"
            ],
            [
             0.2222222222222222,
             "#7201a8"
            ],
            [
             0.3333333333333333,
             "#9c179e"
            ],
            [
             0.4444444444444444,
             "#bd3786"
            ],
            [
             0.5555555555555556,
             "#d8576b"
            ],
            [
             0.6666666666666666,
             "#ed7953"
            ],
            [
             0.7777777777777778,
             "#fb9f3a"
            ],
            [
             0.8888888888888888,
             "#fdca26"
            ],
            [
             1,
             "#f0f921"
            ]
           ]
          },
          "colorway": [
           "#636efa",
           "#EF553B",
           "#00cc96",
           "#ab63fa",
           "#FFA15A",
           "#19d3f3",
           "#FF6692",
           "#B6E880",
           "#FF97FF",
           "#FECB52"
          ],
          "font": {
           "color": "#2a3f5f"
          },
          "geo": {
           "bgcolor": "white",
           "lakecolor": "white",
           "landcolor": "#E5ECF6",
           "showlakes": true,
           "showland": true,
           "subunitcolor": "white"
          },
          "hoverlabel": {
           "align": "left"
          },
          "hovermode": "closest",
          "mapbox": {
           "style": "light"
          },
          "paper_bgcolor": "white",
          "plot_bgcolor": "#E5ECF6",
          "polar": {
           "angularaxis": {
            "gridcolor": "white",
            "linecolor": "white",
            "ticks": ""
           },
           "bgcolor": "#E5ECF6",
           "radialaxis": {
            "gridcolor": "white",
            "linecolor": "white",
            "ticks": ""
           }
          },
          "scene": {
           "xaxis": {
            "backgroundcolor": "#E5ECF6",
            "gridcolor": "white",
            "gridwidth": 2,
            "linecolor": "white",
            "showbackground": true,
            "ticks": "",
            "zerolinecolor": "white"
           },
           "yaxis": {
            "backgroundcolor": "#E5ECF6",
            "gridcolor": "white",
            "gridwidth": 2,
            "linecolor": "white",
            "showbackground": true,
            "ticks": "",
            "zerolinecolor": "white"
           },
           "zaxis": {
            "backgroundcolor": "#E5ECF6",
            "gridcolor": "white",
            "gridwidth": 2,
            "linecolor": "white",
            "showbackground": true,
            "ticks": "",
            "zerolinecolor": "white"
           }
          },
          "shapedefaults": {
           "line": {
            "color": "#2a3f5f"
           }
          },
          "ternary": {
           "aaxis": {
            "gridcolor": "white",
            "linecolor": "white",
            "ticks": ""
           },
           "baxis": {
            "gridcolor": "white",
            "linecolor": "white",
            "ticks": ""
           },
           "bgcolor": "#E5ECF6",
           "caxis": {
            "gridcolor": "white",
            "linecolor": "white",
            "ticks": ""
           }
          },
          "title": {
           "x": 0.05
          },
          "xaxis": {
           "automargin": true,
           "gridcolor": "white",
           "linecolor": "white",
           "ticks": "",
           "title": {
            "standoff": 15
           },
           "zerolinecolor": "white",
           "zerolinewidth": 2
          },
          "yaxis": {
           "automargin": true,
           "gridcolor": "white",
           "linecolor": "white",
           "ticks": "",
           "title": {
            "standoff": 15
           },
           "zerolinecolor": "white",
           "zerolinewidth": 2
          }
         }
        },
        "xaxis": {
         "anchor": "y",
         "autorange": true,
         "domain": [
          0,
          0.98
         ],
         "range": [
          -0.5,
          5.5
         ],
         "title": {
          "text": "model_name"
         },
         "type": "category"
        },
        "xaxis2": {
         "anchor": "y2",
         "autorange": true,
         "domain": [
          0,
          0.98
         ],
         "matches": "x",
         "range": [
          -0.5,
          5.5
         ],
         "showticklabels": false,
         "type": "category"
        },
        "yaxis": {
         "anchor": "x",
         "autorange": true,
         "domain": [
          0,
          0.485
         ],
         "range": [
          0,
          0.8731120506802351
         ],
         "title": {
          "text": "mean_F1"
         },
         "type": "linear"
        },
        "yaxis2": {
         "anchor": "x2",
         "autorange": true,
         "domain": [
          0.515,
          1
         ],
         "matches": "y",
         "range": [
          0,
          0.8731120506802351
         ],
         "title": {
          "text": "mean_F1"
         },
         "type": "linear"
        }
       }
      },
      "image/png": "[encoded data removed]",
      "text/html": [
       "<div>                            <div id=\"944987fc-cbd1-4554-a123-69b9c14ae0ba\" class=\"plotly-graph-div\" style=\"height:525px; width:100%;\"></div>            <script type=\"text/javascript\">                require([\"plotly\"], function(Plotly) {                    window.PLOTLYENV=window.PLOTLYENV || {};                                    if (document.getElementById(\"944987fc-cbd1-4554-a123-69b9c14ae0ba\")) {                    Plotly.newPlot(                        \"944987fc-cbd1-4554-a123-69b9c14ae0ba\",                        [{\"alignmentgroup\":\"True\",\"hovertemplate\":\"category=SICK_TALK\\u003cbr\\u003emodel_name=%{x}\\u003cbr\\u003emean_F1=%{y}\\u003cextra\\u003e\\u003c\\u002fextra\\u003e\",\"legendgroup\":\"\",\"marker\":{\"color\":\"#636efa\",\"pattern\":{\"shape\":\"\"}},\"name\":\"\",\"offsetgroup\":\"\",\"orientation\":\"v\",\"showlegend\":false,\"textposition\":\"auto\",\"x\":[\"xlm-roberta-base\",\"xlm-mlm-17-1280\",\"bert-base-multilingual-uncased\",\"xlm-mlm-100-1280\",\"bert-base-multilingual-cased\",\"xlm-roberta-large\"],\"xaxis\":\"x2\",\"y\":[0.8294564481462233,0.8147466455945249,0.7874019973267319,0.7634693561010426,0.7580369688711581,0.49228901051980944],\"yaxis\":\"y2\",\"type\":\"bar\"},{\"alignmentgroup\":\"True\",\"hovertemplate\":\"category=HEALTHY_TALK\\u003cbr\\u003emodel_name=%{x}\\u003cbr\\u003emean_F1=%{y}\\u003cextra\\u003e\\u003c\\u002fextra\\u003e\",\"legendgroup\":\"\",\"marker\":{\"color\":\"#636efa\",\"pattern\":{\"shape\":\"\"}},\"name\":\"\",\"offsetgroup\":\"\",\"orientation\":\"v\",\"showlegend\":false,\"textposition\":\"auto\",\"x\":[\"xlm-roberta-base\",\"xlm-mlm-17-1280\",\"bert-base-multilingual-cased\",\"bert-base-multilingual-uncased\",\"xlm-mlm-100-1280\",\"xlm-roberta-large\"],\"xaxis\":\"x\",\"y\":[0.8021494513847403,0.7999420008846965,0.7700359129638245,0.7675069415900181,0.7289933302725858,0.7262605169501896],\"yaxis\":\"y\",\"type\":\"bar\"}],                        {\"template\":{\"data\":{\"histogram2dcontour\":[{\"type\":\"histogram2dcontour\",\"colorbar\":{\"outlinewidth\":0,\"ticks\":\"\"},\"colorscale\":[[0.0,\"#0d0887\"],[0.1111111111111111,\"#46039f\"],[0.2222222222222222,\"#7201a8\"],[0.3333333333333333,\"#9c179e\"],[0.4444444444444444,\"#bd3786\"],[0.5555555555555556,\"#d8576b\"],[0.6666666666666666,\"#ed7953\"],[0.7777777777777778,\"#fb9f3a\"],[0.8888888888888888,\"#fdca26\"],[1.0,\"#f0f921\"]]}],\"choropleth\":[{\"type\":\"choropleth\",\"colorbar\":{\"outlinewidth\":0,\"ticks\":\"\"}}],\"histogram2d\":[{\"type\":\"histogram2d\",\"colorbar\":{\"outlinewidth\":0,\"ticks\":\"\"},\"colorscale\":[[0.0,\"#0d0887\"],[0.1111111111111111,\"#46039f\"],[0.2222222222222222,\"#7201a8\"],[0.3333333333333333,\"#9c179e\"],[0.4444444444444444,\"#bd3786\"],[0.5555555555555556,\"#d8576b\"],[0.6666666666666666,\"#ed7953\"],[0.7777777777777778,\"#fb9f3a\"],[0.8888888888888888,\"#fdca26\"],[1.0,\"#f0f921\"]]}],\"heatmap\":[{\"type\":\"heatmap\",\"colorbar\":{\"outlinewidth\":0,\"ticks\":\"\"},\"colorscale\":[[0.0,\"#0d0887\"],[0.1111111111111111,\"#46039f\"],[0.2222222222222222,\"#7201a8\"],[0.3333333333333333,\"#9c179e\"],[0.4444444444444444,\"#bd3786\"],[0.5555555555555556,\"#d8576b\"],[0.6666666666666666,\"#ed7953\"],[0.7777777777777778,\"#fb9f3a\"],[0.8888888888888888,\"#fdca26\"],[1.0,\"#f0f921\"]]}],\"heatmapgl\":[{\"type\":\"heatmapgl\",\"colorbar\":{\"outlinewidth\":0,\"ticks\":\"\"},\"colorscale\":[[0.0,\"#0d0887\"],[0.1111111111111111,\"#46039f\"],[0.2222222222222222,\"#7201a8\"],[0.3333333333333333,\"#9c179e\"],[0.4444444444444444,\"#bd3786\"],[0.5555555555555556,\"#d8576b\"],[0.6666666666666666,\"#ed7953\"],[0.7777777777777778,\"#fb9f3a\"],[0.8888888888888888,\"#fdca26\"],[1.0,\"#f0f921\"]]}],\"contourcarpet\":[{\"type\":\"contourcarpet\",\"colorbar\":{\"outlinewidth\":0,\"ticks\":\"\"}}],\"contour\":[{\"type\":\"contour\",\"colorbar\":{\"outlinewidth\":0,\"ticks\":\"\"},\"colorscale\":[[0.0,\"#0d0887\"],[0.1111111111111111,\"#46039f\"],[0.2222222222222222,\"#7201a8\"],[0.3333333333333333,\"#9c179e\"],[0.4444444444444444,\"#bd3786\"],[0.5555555555555556,\"#d8576b\"],[0.6666666666666666,\"#ed7953\"],[0.7777777777777778,\"#fb9f3a\"],[0.8888888888888888,\"#fdca26\"],[1.0,\"#f0f921\"]]}],\"surface\":[{\"type\":\"surface\",\"colorbar\":{\"outlinewidth\":0,\"ticks\":\"\"},\"colorscale\":[[0.0,\"#0d0887\"],[0.1111111111111111,\"#46039f\"],[0.2222222222222222,\"#7201a8\"],[0.3333333333333333,\"#9c179e\"],[0.4444444444444444,\"#bd3786\"],[0.5555555555555556,\"#d8576b\"],[0.6666666666666666,\"#ed7953\"],[0.7777777777777778,\"#fb9f3a\"],[0.8888888888888888,\"#fdca26\"],[1.0,\"#f0f921\"]]}],\"mesh3d\":[{\"type\":\"mesh3d\",\"colorbar\":{\"outlinewidth\":0,\"ticks\":\"\"}}],\"scatter\":[{\"fillpattern\":{\"fillmode\":\"overlay\",\"size\":10,\"solidity\":0.2},\"type\":\"scatter\"}],\"parcoords\":[{\"type\":\"parcoords\",\"line\":{\"colorbar\":{\"outlinewidth\":0,\"ticks\":\"\"}}}],\"scatterpolargl\":[{\"type\":\"scatterpolargl\",\"marker\":{\"colorbar\":{\"outlinewidth\":0,\"ticks\":\"\"}}}],\"bar\":[{\"error_x\":{\"color\":\"#2a3f5f\"},\"error_y\":{\"color\":\"#2a3f5f\"},\"marker\":{\"line\":{\"color\":\"#E5ECF6\",\"width\":0.5},\"pattern\":{\"fillmode\":\"overlay\",\"size\":10,\"solidity\":0.2}},\"type\":\"bar\"}],\"scattergeo\":[{\"type\":\"scattergeo\",\"marker\":{\"colorbar\":{\"outlinewidth\":0,\"ticks\":\"\"}}}],\"scatterpolar\":[{\"type\":\"scatterpolar\",\"marker\":{\"colorbar\":{\"outlinewidth\":0,\"ticks\":\"\"}}}],\"histogram\":[{\"marker\":{\"pattern\":{\"fillmode\":\"overlay\",\"size\":10,\"solidity\":0.2}},\"type\":\"histogram\"}],\"scattergl\":[{\"type\":\"scattergl\",\"marker\":{\"colorbar\":{\"outlinewidth\":0,\"ticks\":\"\"}}}],\"scatter3d\":[{\"type\":\"scatter3d\",\"line\":{\"colorbar\":{\"outlinewidth\":0,\"ticks\":\"\"}},\"marker\":{\"colorbar\":{\"outlinewidth\":0,\"ticks\":\"\"}}}],\"scattermapbox\":[{\"type\":\"scattermapbox\",\"marker\":{\"colorbar\":{\"outlinewidth\":0,\"ticks\":\"\"}}}],\"scatterternary\":[{\"type\":\"scatterternary\",\"marker\":{\"colorbar\":{\"outlinewidth\":0,\"ticks\":\"\"}}}],\"scattercarpet\":[{\"type\":\"scattercarpet\",\"marker\":{\"colorbar\":{\"outlinewidth\":0,\"ticks\":\"\"}}}],\"carpet\":[{\"aaxis\":{\"endlinecolor\":\"#2a3f5f\",\"gridcolor\":\"white\",\"linecolor\":\"white\",\"minorgridcolor\":\"white\",\"startlinecolor\":\"#2a3f5f\"},\"baxis\":{\"endlinecolor\":\"#2a3f5f\",\"gridcolor\":\"white\",\"linecolor\":\"white\",\"minorgridcolor\":\"white\",\"startlinecolor\":\"#2a3f5f\"},\"type\":\"carpet\"}],\"table\":[{\"cells\":{\"fill\":{\"color\":\"#EBF0F8\"},\"line\":{\"color\":\"white\"}},\"header\":{\"fill\":{\"color\":\"#C8D4E3\"},\"line\":{\"color\":\"white\"}},\"type\":\"table\"}],\"barpolar\":[{\"marker\":{\"line\":{\"color\":\"#E5ECF6\",\"width\":0.5},\"pattern\":{\"fillmode\":\"overlay\",\"size\":10,\"solidity\":0.2}},\"type\":\"barpolar\"}],\"pie\":[{\"automargin\":true,\"type\":\"pie\"}]},\"layout\":{\"autotypenumbers\":\"strict\",\"colorway\":[\"#636efa\",\"#EF553B\",\"#00cc96\",\"#ab63fa\",\"#FFA15A\",\"#19d3f3\",\"#FF6692\",\"#B6E880\",\"#FF97FF\",\"#FECB52\"],\"font\":{\"color\":\"#2a3f5f\"},\"hovermode\":\"closest\",\"hoverlabel\":{\"align\":\"left\"},\"paper_bgcolor\":\"white\",\"plot_bgcolor\":\"#E5ECF6\",\"polar\":{\"bgcolor\":\"#E5ECF6\",\"angularaxis\":{\"gridcolor\":\"white\",\"linecolor\":\"white\",\"ticks\":\"\"},\"radialaxis\":{\"gridcolor\":\"white\",\"linecolor\":\"white\",\"ticks\":\"\"}},\"ternary\":{\"bgcolor\":\"#E5ECF6\",\"aaxis\":{\"gridcolor\":\"white\",\"linecolor\":\"white\",\"ticks\":\"\"},\"baxis\":{\"gridcolor\":\"white\",\"linecolor\":\"white\",\"ticks\":\"\"},\"caxis\":{\"gridcolor\":\"white\",\"linecolor\":\"white\",\"ticks\":\"\"}},\"coloraxis\":{\"colorbar\":{\"outlinewidth\":0,\"ticks\":\"\"}},\"colorscale\":{\"sequential\":[[0.0,\"#0d0887\"],[0.1111111111111111,\"#46039f\"],[0.2222222222222222,\"#7201a8\"],[0.3333333333333333,\"#9c179e\"],[0.4444444444444444,\"#bd3786\"],[0.5555555555555556,\"#d8576b\"],[0.6666666666666666,\"#ed7953\"],[0.7777777777777778,\"#fb9f3a\"],[0.8888888888888888,\"#fdca26\"],[1.0,\"#f0f921\"]],\"sequentialminus\":[[0.0,\"#0d0887\"],[0.1111111111111111,\"#46039f\"],[0.2222222222222222,\"#7201a8\"],[0.3333333333333333,\"#9c179e\"],[0.4444444444444444,\"#bd3786\"],[0.5555555555555556,\"#d8576b\"],[0.6666666666666666,\"#ed7953\"],[0.7777777777777778,\"#fb9f3a\"],[0.8888888888888888,\"#fdca26\"],[1.0,\"#f0f921\"]],\"diverging\":[[0,\"#8e0152\"],[0.1,\"#c51b7d\"],[0.2,\"#de77ae\"],[0.3,\"#f1b6da\"],[0.4,\"#fde0ef\"],[0.5,\"#f7f7f7\"],[0.6,\"#e6f5d0\"],[0.7,\"#b8e186\"],[0.8,\"#7fbc41\"],[0.9,\"#4d9221\"],[1,\"#276419\"]]},\"xaxis\":{\"gridcolor\":\"white\",\"linecolor\":\"white\",\"ticks\":\"\",\"title\":{\"standoff\":15},\"zerolinecolor\":\"white\",\"automargin\":true,\"zerolinewidth\":2},\"yaxis\":{\"gridcolor\":\"white\",\"linecolor\":\"white\",\"ticks\":\"\",\"title\":{\"standoff\":15},\"zerolinecolor\":\"white\",\"automargin\":true,\"zerolinewidth\":2},\"scene\":{\"xaxis\":{\"backgroundcolor\":\"#E5ECF6\",\"gridcolor\":\"white\",\"linecolor\":\"white\",\"showbackground\":true,\"ticks\":\"\",\"zerolinecolor\":\"white\",\"gridwidth\":2},\"yaxis\":{\"backgroundcolor\":\"#E5ECF6\",\"gridcolor\":\"white\",\"linecolor\":\"white\",\"showbackground\":true,\"ticks\":\"\",\"zerolinecolor\":\"white\",\"gridwidth\":2},\"zaxis\":{\"backgroundcolor\":\"#E5ECF6\",\"gridcolor\":\"white\",\"linecolor\":\"white\",\"showbackground\":true,\"ticks\":\"\",\"zerolinecolor\":\"white\",\"gridwidth\":2}},\"shapedefaults\":{\"line\":{\"color\":\"#2a3f5f\"}},\"annotationdefaults\":{\"arrowcolor\":\"#2a3f5f\",\"arrowhead\":0,\"arrowwidth\":1},\"geo\":{\"bgcolor\":\"white\",\"landcolor\":\"#E5ECF6\",\"subunitcolor\":\"white\",\"showland\":true,\"showlakes\":true,\"lakecolor\":\"white\"},\"title\":{\"x\":0.05},\"mapbox\":{\"style\":\"light\"}}},\"xaxis\":{\"anchor\":\"y\",\"domain\":[0.0,0.98],\"title\":{\"text\":\"model_name\"}},\"yaxis\":{\"anchor\":\"x\",\"domain\":[0.0,0.485],\"title\":{\"text\":\"mean_F1\"}},\"xaxis2\":{\"anchor\":\"y2\",\"domain\":[0.0,0.98],\"matches\":\"x\",\"showticklabels\":false},\"yaxis2\":{\"anchor\":\"x2\",\"domain\":[0.515,1.0],\"matches\":\"y\",\"title\":{\"text\":\"mean_F1\"}},\"annotations\":[{\"font\":{},\"showarrow\":false,\"text\":\"category=HEALTHY_TALK\",\"textangle\":90,\"x\":0.98,\"xanchor\":\"left\",\"xref\":\"paper\",\"y\":0.2425,\"yanchor\":\"middle\",\"yref\":\"paper\"},{\"font\":{},\"showarrow\":false,\"text\":\"category=SICK_TALK\",\"textangle\":90,\"x\":0.98,\"xanchor\":\"left\",\"xref\":\"paper\",\"y\":0.7575000000000001,\"yanchor\":\"middle\",\"yref\":\"paper\"}],\"legend\":{\"tracegroupgap\":0},\"margin\":{\"t\":60},\"barmode\":\"group\"},                        {\"responsive\": true}                    ).then(function(){\n",
       "                            \n",
       "var gd = document.getElementById('944987fc-cbd1-4554-a123-69b9c14ae0ba');\n",
       "var x = new MutationObserver(function (mutations, observer) {{\n",
       "        var display = window.getComputedStyle(gd).display;\n",
       "        if (!display || display === 'none') {{\n",
       "            console.log([gd, 'removed!']);\n",
       "            Plotly.purge(gd);\n",
       "            observer.disconnect();\n",
       "        }}\n",
       "}});\n",
       "\n",
       "// Listen for the removal of the full notebook cells\n",
       "var notebookContainer = gd.closest('#notebook-container');\n",
       "if (notebookContainer) {{\n",
       "    x.observe(notebookContainer, {childList: true});\n",
       "}}\n",
       "\n",
       "// Listen for the clearing of the current output cell\n",
       "var outputEl = gd.closest('.output');\n",
       "if (outputEl) {{\n",
       "    x.observe(outputEl, {childList: true});\n",
       "}}\n",
       "\n",
       "                        })                };                });            </script>        </div>"
      ]
     },
     "metadata": {},
     "output_type": "display_data"
    }
   ],
   "source": [
    "agg_f1 = long_f1.groupby([\"model_name\",\"category\"]).\\\n",
    "    agg(mean_F1=(\"F1\",\"mean\")).\\\n",
    "    reset_index(drop=False,inplace=False).\\\n",
    "    sort_values(by=\"mean_F1\",ascending=False)\n",
    "\n",
    "px.bar(agg_f1,\n",
    "       x=\"model_name\",\n",
    "       y=\"mean_F1\",\n",
    "       facet_row=\"category\",\n",
    "       # color=\"language\",\n",
    "       barmode=\"group\")\n",
    "# agg_f1"
   ]
  },
  {
   "cell_type": "code",
   "execution_count": 98,
   "id": "1543bf7e-0d49-4ee8-be3c-28d9487b0803",
   "metadata": {},
   "outputs": [
    {
     "name": "stdout",
     "output_type": "stream",
     "text": [
      "english : \n",
      "\n",
      "               precision    recall  f1-score   support\n",
      "\n",
      "HEALTHY_TALK       0.74      0.71      0.72       248\n",
      "   SICK_TALK       0.72      0.75      0.73       248\n",
      "\n",
      "    accuracy                           0.73       496\n",
      "   macro avg       0.73      0.73      0.73       496\n",
      "weighted avg       0.73      0.73      0.73       496\n",
      "\n",
      "french : \n",
      "\n",
      "               precision    recall  f1-score   support\n",
      "\n",
      "HEALTHY_TALK       0.84      0.73      0.78       647\n",
      "   SICK_TALK       0.76      0.86      0.80       647\n",
      "\n",
      "    accuracy                           0.79      1294\n",
      "   macro avg       0.80      0.79      0.79      1294\n",
      "weighted avg       0.80      0.79      0.79      1294\n",
      "\n",
      "german : \n",
      "\n",
      "               precision    recall  f1-score   support\n",
      "\n",
      "HEALTHY_TALK       0.91      0.85      0.88       459\n",
      "   SICK_TALK       0.86      0.92      0.89       459\n",
      "\n",
      "    accuracy                           0.88       918\n",
      "   macro avg       0.88      0.88      0.88       918\n",
      "weighted avg       0.88      0.88      0.88       918\n",
      "\n",
      "italian : \n",
      "\n",
      "               precision    recall  f1-score   support\n",
      "\n",
      "HEALTHY_TALK       0.87      0.80      0.83       249\n",
      "   SICK_TALK       0.81      0.88      0.84       249\n",
      "\n",
      "    accuracy                           0.84       498\n",
      "   macro avg       0.84      0.84      0.84       498\n",
      "weighted avg       0.84      0.84      0.84       498\n",
      "\n",
      "polish : \n",
      "\n",
      "               precision    recall  f1-score   support\n",
      "\n",
      "HEALTHY_TALK       0.78      0.71      0.74       130\n",
      "   SICK_TALK       0.73      0.80      0.76       130\n",
      "\n",
      "    accuracy                           0.75       260\n",
      "   macro avg       0.76      0.75      0.75       260\n",
      "weighted avg       0.76      0.75      0.75       260\n",
      "\n",
      "spanish : \n",
      "\n",
      "               precision    recall  f1-score   support\n",
      "\n",
      "HEALTHY_TALK       0.88      0.82      0.85       331\n",
      "   SICK_TALK       0.83      0.88      0.86       331\n",
      "\n",
      "    accuracy                           0.85       662\n",
      "   macro avg       0.85      0.85      0.85       662\n",
      "weighted avg       0.85      0.85      0.85       662\n",
      "\n"
     ]
    }
   ],
   "source": [
    "MOD = \"xlm-mlm-17-1280\"\n",
    "best_res = result.loc[result.model_name == MOD,:]\n",
    "for lang,dx in best_res.groupby(\"language\"):\n",
    "    print(f\"{lang} : \\n\\n {cr(dx.label,dx.pred)}\")"
   ]
  },
  {
   "cell_type": "code",
   "execution_count": 93,
   "id": "4028e5f7-54b3-4a53-9def-f30c901990c9",
   "metadata": {},
   "outputs": [
    {
     "name": "stdout",
     "output_type": "stream",
     "text": [
      "/bin/bash: /home/coler/anaconda3/envs/covid_proj/lib/libtinfo.so.6: no version information available (required by /bin/bash)\n"
     ]
    }
   ],
   "source": [
    "def save_this_file():\n",
    "    cwd = os.path.abspath(\"\")\n",
    "    fp = glob(f\"{cwd}/*.ipynb\")[0]\n",
    "    fn = fp.split(\"/\")[-1]\n",
    "    ename = EXP_NAME.replace(\"./\",\"\")\n",
    "    save_to = f\"{cwd}/{ename}/{ename}_{fn}\"\n",
    "    try:\n",
    "        !cp $fp $save_to\n",
    "    except ValueError as e:\n",
    "        print(f\"Weird error happened: {e}\")\n",
    "\n",
    "save_this_file()"
   ]
  }
 ],
 "metadata": {
  "kernelspec": {
   "display_name": "Python [conda env:covid_proj]",
   "language": "python",
   "name": "conda-env-covid_proj-py"
  },
  "language_info": {
   "codemirror_mode": {
    "name": "ipython",
    "version": 3
   },
   "file_extension": ".py",
   "mimetype": "text/x-python",
   "name": "python",
   "nbconvert_exporter": "python",
   "pygments_lexer": "ipython3",
   "version": "3.8.16"
  }
 },
 "nbformat": 4,
 "nbformat_minor": 5
}

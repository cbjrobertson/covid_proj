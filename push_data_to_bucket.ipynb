{
 "cells": [
  {
   "cell_type": "code",
   "execution_count": 2,
   "id": "8d180e10-6c63-4ffb-b44d-989b72c84625",
   "metadata": {},
   "outputs": [
    {
     "name": "stdout",
     "output_type": "stream",
     "text": [
      "Looking in indexes: https://pypi.org/simple, https://pypi.ngc.nvidia.com\n",
      "Requirement already satisfied: google-cloud-storage in /home/coler/anaconda3/lib/python3.9/site-packages (2.14.0)\n",
      "Requirement already satisfied: google-auth<3.0dev,>=2.23.3 in /home/coler/anaconda3/lib/python3.9/site-packages (from google-cloud-storage) (2.25.2)\n",
      "Requirement already satisfied: google-api-core!=2.0.*,!=2.1.*,!=2.2.*,!=2.3.0,<3.0.0dev,>=1.31.5 in /home/coler/anaconda3/lib/python3.9/site-packages (from google-cloud-storage) (2.15.0)\n",
      "Requirement already satisfied: google-cloud-core<3.0dev,>=2.3.0 in /home/coler/anaconda3/lib/python3.9/site-packages (from google-cloud-storage) (2.4.1)\n",
      "Requirement already satisfied: google-resumable-media>=2.6.0 in /home/coler/anaconda3/lib/python3.9/site-packages (from google-cloud-storage) (2.7.0)\n",
      "Requirement already satisfied: requests<3.0.0dev,>=2.18.0 in /home/coler/anaconda3/lib/python3.9/site-packages (from google-cloud-storage) (2.31.0)\n",
      "Requirement already satisfied: google-crc32c<2.0dev,>=1.0 in /home/coler/anaconda3/lib/python3.9/site-packages (from google-cloud-storage) (1.5.0)\n",
      "Requirement already satisfied: googleapis-common-protos<2.0.dev0,>=1.56.2 in /home/coler/anaconda3/lib/python3.9/site-packages (from google-api-core!=2.0.*,!=2.1.*,!=2.2.*,!=2.3.0,<3.0.0dev,>=1.31.5->google-cloud-storage) (1.62.0)\n",
      "Requirement already satisfied: protobuf!=3.20.0,!=3.20.1,!=4.21.0,!=4.21.1,!=4.21.2,!=4.21.3,!=4.21.4,!=4.21.5,<5.0.0.dev0,>=3.19.5 in /home/coler/anaconda3/lib/python3.9/site-packages (from google-api-core!=2.0.*,!=2.1.*,!=2.2.*,!=2.3.0,<3.0.0dev,>=1.31.5->google-cloud-storage) (4.23.4)\n",
      "Requirement already satisfied: cachetools<6.0,>=2.0.0 in /home/coler/anaconda3/lib/python3.9/site-packages (from google-auth<3.0dev,>=2.23.3->google-cloud-storage) (5.3.1)\n",
      "Requirement already satisfied: pyasn1-modules>=0.2.1 in /home/coler/anaconda3/lib/python3.9/site-packages (from google-auth<3.0dev,>=2.23.3->google-cloud-storage) (0.2.8)\n",
      "Requirement already satisfied: rsa<5,>=3.1.4 in /home/coler/anaconda3/lib/python3.9/site-packages (from google-auth<3.0dev,>=2.23.3->google-cloud-storage) (4.9)\n",
      "Requirement already satisfied: charset-normalizer<4,>=2 in /home/coler/anaconda3/lib/python3.9/site-packages (from requests<3.0.0dev,>=2.18.0->google-cloud-storage) (2.0.4)\n",
      "Requirement already satisfied: idna<4,>=2.5 in /home/coler/anaconda3/lib/python3.9/site-packages (from requests<3.0.0dev,>=2.18.0->google-cloud-storage) (3.4)\n",
      "Requirement already satisfied: urllib3<3,>=1.21.1 in /home/coler/anaconda3/lib/python3.9/site-packages (from requests<3.0.0dev,>=2.18.0->google-cloud-storage) (1.26.16)\n",
      "Requirement already satisfied: certifi>=2017.4.17 in /home/coler/anaconda3/lib/python3.9/site-packages (from requests<3.0.0dev,>=2.18.0->google-cloud-storage) (2023.7.22)\n",
      "Requirement already satisfied: pyasn1<0.5.0,>=0.4.6 in /home/coler/anaconda3/lib/python3.9/site-packages (from pyasn1-modules>=0.2.1->google-auth<3.0dev,>=2.23.3->google-cloud-storage) (0.4.8)\n"
     ]
    }
   ],
   "source": [
    "!pip install google-cloud-storage"
   ]
  },
  {
   "cell_type": "code",
   "execution_count": 3,
   "id": "0d6eb129-009d-4916-8492-b5fe60fce99d",
   "metadata": {},
   "outputs": [],
   "source": [
    "import os\n",
    "from io import StringIO\n",
    "import pandas as pd\n",
    "from google.cloud import storage\n",
    "from glob import glob\n",
    "from tqdm.notebook import tqdm as bar\n",
    "\n",
    "os.environ[\"GOOGLE_APPLICATION_CREDENTIALS\"] = r\"/home/coler/projects/covid/covid_proj/creds.json\""
   ]
  },
  {
   "cell_type": "code",
   "execution_count": 4,
   "id": "726f06f8-fb51-41bd-a80b-b8e9a556a551",
   "metadata": {},
   "outputs": [
    {
     "data": {
      "text/plain": [
       "['covid-proj-data']"
      ]
     },
     "execution_count": 4,
     "metadata": {},
     "output_type": "execute_result"
    }
   ],
   "source": [
    "# define function that list buckets available\n",
    "def list_buckets(): \n",
    "    storage_client = storage.Client()\n",
    "\n",
    "    file_list = storage_client.list_buckets()\n",
    "    file_list = [file.name for file in file_list]\n",
    "\n",
    "    return file_list\n",
    "\n",
    "list_buckets()"
   ]
  },
  {
   "cell_type": "code",
   "execution_count": 5,
   "id": "f7a2f6ed-e0e6-4b41-a7b5-adbcb63e3693",
   "metadata": {},
   "outputs": [
    {
     "data": {
      "text/html": [
       "<div>\n",
       "<style scoped>\n",
       "    .dataframe tbody tr th:only-of-type {\n",
       "        vertical-align: middle;\n",
       "    }\n",
       "\n",
       "    .dataframe tbody tr th {\n",
       "        vertical-align: top;\n",
       "    }\n",
       "\n",
       "    .dataframe thead th {\n",
       "        text-align: right;\n",
       "    }\n",
       "</style>\n",
       "<table border=\"1\" class=\"dataframe\">\n",
       "  <thead>\n",
       "    <tr style=\"text-align: right;\">\n",
       "      <th></th>\n",
       "      <th>country</th>\n",
       "      <th>nuts_2_region</th>\n",
       "      <th>year</th>\n",
       "      <th>week</th>\n",
       "      <th>sick_talk_proportion</th>\n",
       "      <th>num_tweets</th>\n",
       "    </tr>\n",
       "  </thead>\n",
       "  <tbody>\n",
       "    <tr>\n",
       "      <th>0</th>\n",
       "      <td>Spain</td>\n",
       "      <td>0</td>\n",
       "      <td>2016</td>\n",
       "      <td>W44</td>\n",
       "      <td>0.0</td>\n",
       "      <td>2</td>\n",
       "    </tr>\n",
       "    <tr>\n",
       "      <th>1</th>\n",
       "      <td>Spain</td>\n",
       "      <td>0</td>\n",
       "      <td>2016</td>\n",
       "      <td>W45</td>\n",
       "      <td>0.0</td>\n",
       "      <td>7</td>\n",
       "    </tr>\n",
       "    <tr>\n",
       "      <th>2</th>\n",
       "      <td>Spain</td>\n",
       "      <td>0</td>\n",
       "      <td>2016</td>\n",
       "      <td>W46</td>\n",
       "      <td>0.0</td>\n",
       "      <td>4</td>\n",
       "    </tr>\n",
       "    <tr>\n",
       "      <th>3</th>\n",
       "      <td>Spain</td>\n",
       "      <td>0</td>\n",
       "      <td>2016</td>\n",
       "      <td>W47</td>\n",
       "      <td>0.0</td>\n",
       "      <td>7</td>\n",
       "    </tr>\n",
       "    <tr>\n",
       "      <th>4</th>\n",
       "      <td>Spain</td>\n",
       "      <td>0</td>\n",
       "      <td>2016</td>\n",
       "      <td>W48</td>\n",
       "      <td>0.0</td>\n",
       "      <td>2</td>\n",
       "    </tr>\n",
       "  </tbody>\n",
       "</table>\n",
       "</div>"
      ],
      "text/plain": [
       "  country nuts_2_region  year week  sick_talk_proportion  num_tweets\n",
       "0   Spain             0  2016  W44                   0.0           2\n",
       "1   Spain             0  2016  W45                   0.0           7\n",
       "2   Spain             0  2016  W46                   0.0           4\n",
       "3   Spain             0  2016  W47                   0.0           7\n",
       "4   Spain             0  2016  W48                   0.0           2"
      ]
     },
     "execution_count": 5,
     "metadata": {},
     "output_type": "execute_result"
    }
   ],
   "source": [
    "def load_file_to_pandas(bucket_name, file_name): \n",
    "    storage_client = storage.Client()\n",
    "\n",
    "    bucket = storage_client.bucket(bucket_name)\n",
    "\n",
    "    blob = bucket.blob(file_name)\n",
    "    bytes_data = blob.download_as_string()\n",
    "    data = StringIO(str(bytes_data,'utf-8')) \n",
    "    \n",
    "    return pd.read_csv(data)\n",
    "\n",
    "load_file_to_pandas(\"covid-proj-data\",'aggregated/Spain.csv').head()"
   ]
  },
  {
   "cell_type": "code",
   "execution_count": 6,
   "id": "d692c0a7-cf58-452e-920d-a790389311c5",
   "metadata": {},
   "outputs": [],
   "source": [
    "# define function that uploads a file from the bucket\n",
    "def upload_cs_file(bucket_name, source_file_name, destination_file_name): \n",
    "    storage_client = storage.Client()\n",
    "\n",
    "    bucket = storage_client.bucket(bucket_name)\n",
    "\n",
    "    blob = bucket.blob(destination_file_name)\n",
    "    blob.upload_from_filename(source_file_name)\n",
    "\n",
    "    return True\n",
    "\n",
    "def upload_wrapper(source_file_name):\n",
    "    destination_file_name = f\"unaggregated/{source_file_name.split('/')[-1]}\"\n",
    "    try:\n",
    "        upload_cs_file(\"covid-proj-data\", source_file_name, destination_file_name)\n",
    "    except Exception as e:\n",
    "        print(e)\n",
    "    \n",
    "if False: # Only run once to upload my local files to the GCS bucket\n",
    "    source_file_names = [fn for fn in glob(\"./data/twitter_data_scored/*.csv\")]\n",
    "    for source_file_name in bar(source_file_names, desc=\"Progress Uploading Files: \"):\n",
    "        upload_wrapper(source_file_name)\n",
    "        "
   ]
  },
  {
   "cell_type": "code",
   "execution_count": 9,
   "id": "b013983e-a3d6-4b67-a8ed-1ce09e614fa8",
   "metadata": {},
   "outputs": [
    {
     "data": {
      "text/plain": [
       "['unaggregated/France_tweets_2016_11_01.csv',\n",
       " 'unaggregated/France_tweets_2016_11_02.csv',\n",
       " 'unaggregated/France_tweets_2016_11_06.csv',\n",
       " 'unaggregated/France_tweets_2016_11_07.csv',\n",
       " 'unaggregated/France_tweets_2016_11_08.csv',\n",
       " 'unaggregated/France_tweets_2016_11_09.csv',\n",
       " 'unaggregated/France_tweets_2016_11_10.csv',\n",
       " 'unaggregated/France_tweets_2016_11_12.csv',\n",
       " 'unaggregated/France_tweets_2016_11_14.csv',\n",
       " 'unaggregated/France_tweets_2016_11_15.csv']"
      ]
     },
     "execution_count": 9,
     "metadata": {},
     "output_type": "execute_result"
    }
   ],
   "source": [
    "# Example download\n",
    "\n",
    "# define function that list files in the bucket\n",
    "def list_cs_files(bucket_name): \n",
    "    storage_client = storage.Client()\n",
    "    bucket = storage_client.bucket(bucket_name)\n",
    "    \n",
    "    file_list = bucket.list_blobs()\n",
    "    file_list = [file.name for file in file_list]\n",
    "\n",
    "    return file_list\n",
    "\n",
    "source_file_names = list_cs_files(\"covid-proj-data\")\n",
    "unaggregated_source_file_names = [x for x in source_file_names if x.startswith(\"unaggregated\") and x != \"unaggregated/\"]\n",
    "unaggregated_source_file_names[:10]"
   ]
  },
  {
   "cell_type": "code",
   "execution_count": 20,
   "id": "31772fd2-6924-4d04-9283-f3c44825a91c",
   "metadata": {},
   "outputs": [
    {
     "data": {
      "application/vnd.jupyter.widget-view+json": {
       "model_id": "c5a4ee3611774a12b947687112b9ad20",
       "version_major": 2,
       "version_minor": 0
      },
      "text/plain": [
       "Progress downloading:   0%|          | 0/3 [00:00<?, ?it/s]"
      ]
     },
     "metadata": {},
     "output_type": "display_data"
    }
   ],
   "source": [
    "# define function that downloads a file from the bucket\n",
    "def download_cs_file(bucket_name, cloud_file_name, local_file_name): \n",
    "    storage_client = storage.Client()\n",
    "\n",
    "    bucket = storage_client.bucket(bucket_name)\n",
    "\n",
    "    blob = bucket.blob(cloud_file_name)\n",
    "    blob.download_to_filename(local_file_name)\n",
    "    return True\n",
    "\n",
    "# Wrapper to dl files \n",
    "def download_wrapper(source_file_name, local_download_dir):\n",
    "    local_file_name = source_file_name.replace(\"unaggregated/\",local_download_dir)\n",
    "    try:\n",
    "        download_cs_file(\"covid-proj-data\", source_file_name, local_file_name)\n",
    "    except Exception as e:\n",
    "        print(e)\n",
    "\n",
    "if False: #Set to true to download ALL files\n",
    "    # Download all files (takes a couple of hours)\n",
    "    for source_file_name in bar(unaggregated_source_file_names[:3], desc=\"Progress downloading\"): # remove [:3] to download everything\n",
    "        download_wrapper(source_file_name, \"example_download/\") #change this to data/scored_data to DL into the data (not example) directory"
   ]
  },
  {
   "cell_type": "code",
   "execution_count": 21,
   "id": "93e06350-7509-4334-a913-24fe038f4de9",
   "metadata": {},
   "outputs": [
    {
     "name": "stdout",
     "output_type": "stream",
     "text": [
      "example_download/France_tweets_2016_11_02.csv\n",
      "example_download/France_tweets_2016_11_06.csv\n",
      "example_download/France_tweets_2016_11_01.csv\n"
     ]
    }
   ],
   "source": [
    "# Check downloads \n",
    "for x in glob(\"example_download/*.csv\"):\n",
    "    print(x)"
   ]
  }
 ],
 "metadata": {
  "kernelspec": {
   "display_name": "Python [conda env:root] *",
   "language": "python",
   "name": "conda-root-py"
  },
  "language_info": {
   "codemirror_mode": {
    "name": "ipython",
    "version": 3
   },
   "file_extension": ".py",
   "mimetype": "text/x-python",
   "name": "python",
   "nbconvert_exporter": "python",
   "pygments_lexer": "ipython3",
   "version": "3.9.18"
  }
 },
 "nbformat": 4,
 "nbformat_minor": 5
}
